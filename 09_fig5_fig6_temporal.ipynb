{
 "cells": [
  {
   "cell_type": "code",
   "execution_count": null,
   "id": "f7c32b80-85cf-471f-a459-4f961493648f",
   "metadata": {},
   "outputs": [],
   "source": [
    "import os, pytz, folium, pandas as pd, numpy as np\n",
    "from sqlalchemy import create_engine\n",
    "from datetime import date, datetime, timedelta\n",
    "import matplotlib.pyplot as plt, seaborn as sns"
   ]
  },
  {
   "cell_type": "markdown",
   "id": "56e82b42-3811-4140-903d-8caa98da7ae5",
   "metadata": {},
   "source": [
    "## parameter"
   ]
  },
  {
   "cell_type": "code",
   "execution_count": null,
   "id": "cd55d044-902d-4cdf-b70d-79acfef0c6a9",
   "metadata": {},
   "outputs": [],
   "source": [
    "yeari, yearf = '2024', '2024'\n",
    "weeki, weekf = '18', '31'"
   ]
  },
  {
   "cell_type": "code",
   "execution_count": null,
   "id": "ac54bd21-1e5d-4489-a92e-5c294b3a009a",
   "metadata": {},
   "outputs": [],
   "source": [
    "di = datetime.strptime(f'{yeari}-{weeki}-1', \"%Y-%W-%w\").date()\n",
    "df = datetime.strptime(f'{yearf}-{weekf}-1', \"%Y-%W-%w\").date() + timedelta(6)\n",
    "ds = [di+timedelta(dt) for dt in range((df-di).days+1)]\n",
    "daylist = ds\n",
    "print(di, 'until', df)"
   ]
  },
  {
   "cell_type": "code",
   "execution_count": null,
   "id": "f9c7dfb2-e7af-42fd-ad63-48861e131170",
   "metadata": {},
   "outputs": [],
   "source": [
    "cdef = 'tl7_10m'# 'tl5_10m' 'tl6_10m' 'tl7_10m' 'tl8_10m' 'tl8_60m'\n",
    "cdef_alt = '16m_10min'# tl5: 62 ... tl7: 16   tl8: 8"
   ]
  },
  {
   "cell_type": "markdown",
   "id": "c9f0c5ac-9158-4304-bb74-117c9069ce0f",
   "metadata": {},
   "source": [
    "## database connection"
   ]
  },
  {
   "cell_type": "code",
   "execution_count": null,
   "id": "ae96cb7b-d09a-4bde-8bf6-8f4064878443",
   "metadata": {},
   "outputs": [],
   "source": [
    "# database credentials\n",
    "db_usr, db_pwd = os.getenv('DB_USR'), os.getenv('DB_PWD') # your database user name and password\n",
    "# database login\n",
    "host, port, db = 'nc-health-data-prod.cluster-ccsgl7rk4urn.eu-central-1.rds.amazonaws.com', 5432, 'master'"
   ]
  },
  {
   "cell_type": "code",
   "execution_count": null,
   "id": "c1eb4b14-a097-4dfa-a699-bc8aad76791e",
   "metadata": {},
   "outputs": [],
   "source": [
    "# for queries with output\n",
    "engine = create_engine('postgresql://'+db_usr+':'+db_pwd+'@'+host+':'+str(port)+'/'+db)\n",
    "conn = engine.connect()"
   ]
  },
  {
   "cell_type": "code",
   "execution_count": null,
   "id": "a58544fb-8821-4468-b27c-cd31f306680d",
   "metadata": {},
   "outputs": [],
   "source": [
    "conn.close()"
   ]
  },
  {
   "cell_type": "markdown",
   "id": "efffaff3-c530-49d9-910a-25c3ccc04fca",
   "metadata": {},
   "source": [
    "## load contacts ...\n",
    "\n",
    "### ... for cities"
   ]
  },
  {
   "cell_type": "code",
   "execution_count": null,
   "id": "871b7358-4163-45f5-9b77-07fe2636236e",
   "metadata": {},
   "outputs": [],
   "source": [
    "ld_cn = f\"\"\"\n",
    "            SELECT \"day\"\n",
    "                , stime\n",
    "                , dids\n",
    "                , st_x(st_transform(geopoint, 4326)) as lon\n",
    "                , st_y(st_transform(geopoint, 4326)) as lat\n",
    "                , tl{cdef[2]}\n",
    "                --, sources\n",
    "    \t\t\t--, in_stadium\n",
    "                --, area_id\n",
    "                , city\n",
    "            FROM (\n",
    "                SELECT cnv.*, t2p.*\n",
    "                FROM covid_network_sdkv6_tl7_10m cnv \n",
    "                JOIN tile2plz t2p ON cnv.tile_id = t2p.tile_id\n",
    "                WHERE \"day\" between '{str(di)}' and '{str(df)}'\n",
    "            ) t1\n",
    "            JOIN covid_plz_populate cpp ON t1.plz = cpp.id_plz5 \n",
    "            WHERE city in ('Berlin','Dortmund','Düsseldorf','Frankfurt am Main','Gelsenkirchen','Hamburg','Köln','Leipzig','München','Stuttgart') \n",
    "        \"\"\""
   ]
  },
  {
   "cell_type": "code",
   "execution_count": null,
   "id": "6a3339f0-a914-4d3f-b076-9a2cc6032760",
   "metadata": {},
   "outputs": [],
   "source": [
    "ld_cn = f\"\"\"\n",
    "    with cities1 as (\n",
    "    \tselect osm_id, \"name\", way_area, way\n",
    "    \tfrom planet_osm_polygon\n",
    "    \twhere osm_id in (-62428,-62422,-62649,-62400,-1829065,-2793104,-62578,-62539,-62782,-62522)\n",
    "    ),\n",
    "    cities2 as (\n",
    "    \tselect osm_id, \"name\", max(way_area) as way_area\n",
    "    \tfrom cities1\n",
    "    \tgroup by 1,2\n",
    "    ),\n",
    "    cities3 as (\n",
    "    \tselect c1.\"name\", c1.way\n",
    "    \tfrom cities1 as c1\n",
    "    \tjoin cities2 as c2 on c1.way_area = c2.way_area\n",
    "    ),\n",
    "    cn_tmp as (\n",
    "    \tselect\n",
    "                  \"day\"\n",
    "                , tl{cdef[2]}\n",
    "                , stime\n",
    "                , dids\n",
    "                , sources\n",
    "     \t\t\t, bool_or(u.dist_stad < csa.radius_in_meter) as in_stadium\n",
    "                , min(u.area_id) as area_id\n",
    "     \t\t\t, geopoint\n",
    "            from covid_network_sdkv6_{cdef}, unnest(area_ids, dist_stads) u(area_id, dist_stad)\n",
    "            left join cluster_search_areas_v2 csa on csa.area_id = u.area_id\n",
    "            where\n",
    "                    \"day\" between '{str(di-timedelta(1))}' and '{str(df)}'\n",
    "            group by 1,2,3,4,5,8\n",
    "    ),\n",
    "    cn as (\n",
    "        select\n",
    "                  \"day\"\n",
    "                , stime\n",
    "                , dids\n",
    "                , st_x(st_transform(geopoint, 4326)) as lon\n",
    "                , st_y(st_transform(geopoint, 4326)) as lat\n",
    "                , tl{cdef[2]}\n",
    "                , sources\n",
    "    \t\t\t, in_stadium\n",
    "                , area_id\n",
    "                , \"name\" as city\n",
    "        from cn_tmp\n",
    "        join cities3 as c3 on st_contains(c3.way, cn_tmp.geopoint)\n",
    "    )\n",
    "    select *\n",
    "    from cn\n",
    "\"\"\""
   ]
  },
  {
   "cell_type": "code",
   "execution_count": null,
   "id": "c37a0aa8-5ec9-4912-98d9-53f602f1dd48",
   "metadata": {},
   "outputs": [],
   "source": [
    "clist = pd.DataFrame(pd.read_sql_query(ld_cn, conn))"
   ]
  },
  {
   "cell_type": "code",
   "execution_count": null,
   "id": "042d8d05-bdca-49ef-beaf-31591174541b",
   "metadata": {},
   "outputs": [],
   "source": [
    "clist.to_csv('output/09_contacts_cities_stadiums_tmp.csv', index=False)"
   ]
  },
  {
   "cell_type": "code",
   "execution_count": null,
   "id": "a13d8227-ad03-416b-98df-1e7ae852ca3b",
   "metadata": {},
   "outputs": [],
   "source": [
    "clist = pd.read_csv('output/09_contacts_cities_stadiums_tmp.csv')"
   ]
  },
  {
   "cell_type": "code",
   "execution_count": null,
   "id": "9f1320dd-8075-4165-8452-a7a0a90dfc8b",
   "metadata": {},
   "outputs": [],
   "source": [
    "data = clist.copy(deep=True)\n",
    "data['day'] = [d.date() for d in pd.to_datetime(data.day)]\n",
    "data['stime'] = [d for d in pd.to_datetime(data.stime)]\n",
    "data['dids'] = data.dids.apply(lambda x: x[2:-2].split(\"', '\"))\n",
    "data['sources'] = data.sources.apply(lambda x: x[1:-1].split(','))"
   ]
  },
  {
   "cell_type": "code",
   "execution_count": null,
   "id": "6bfb6d80-7ca2-4116-94c0-1a35442b0d2c",
   "metadata": {},
   "outputs": [],
   "source": [
    "data['stime'] = data.stime.apply(lambda x: x.astimezone(pytz.timezone('Europe/Berlin')))\n",
    "data['day'] = data.stime.apply(lambda x: x.date())\n",
    "data = data[(data.day >= di) & (data.day <= df)]"
   ]
  },
  {
   "cell_type": "code",
   "execution_count": null,
   "id": "d69fdae7-d322-48d1-938e-1cd1b0ac9a4f",
   "metadata": {},
   "outputs": [],
   "source": [
    "#data = data.explode(['dids']).reset_index(drop=True)\n",
    "data = data.explode(['dids','sources']).reset_index(drop=True)\n",
    "data = data.drop_duplicates()\n",
    "#data = data.merge(data.drop(columns=['lon','lat','city']), on=['day','stime','tl7',])\n",
    "data = data.merge(data.drop(columns=['lon','lat','in_stadium','area_id','city']), on=['day','stime','tl7',])#,'tl7','inside_building','lon','lat'])\n",
    "data = data[data.dids_x != data.dids_y]\n",
    "data['in_stadium'] = data.in_stadium.fillna(False)\n",
    "data"
   ]
  },
  {
   "cell_type": "code",
   "execution_count": null,
   "id": "e01d6a68-fe6a-4da2-9933-0a174dd8b7ab",
   "metadata": {},
   "outputs": [],
   "source": [
    "data_true = data[data.in_stadium==True]\n",
    "data_false = data[data.in_stadium==False]\n",
    "data_true = data_true[(data_true.sources_x=='GPS') | (data_true.sources_y=='GPS')]\n",
    "data = pd.concat([data_true, data_false])"
   ]
  },
  {
   "cell_type": "code",
   "execution_count": null,
   "id": "d8a0a950-6a82-4492-a36d-f0ca6887e5cc",
   "metadata": {},
   "outputs": [],
   "source": [
    "#data = data[(data.sources_x=='GPS') | (data.sources_y=='GPS')]\n",
    "pairs = []\n",
    "for did1, did2 in zip(data.dids_x, data.dids_y):\n",
    "    pair = f'{did1}_{did2}' if did1 < did2 else f'{did2}_{did1}'\n",
    "    #print(did1, did2, pair)\n",
    "    pairs.append(pair)\n",
    "data.loc[:,'pair'] = pairs\n",
    "#data = data.drop(columns=['dids_x','dids_y','tl7'])\n",
    "data = data.drop(columns=['dids_x','dids_y','tl7','sources_x','sources_y'])\n",
    "data = data.drop_duplicates()\n",
    "dmin = data.day.min()\n",
    "#data['tt'] = data.day.apply(lambda d: (d-dmin).days)*24 + data.stime.dt.hour\n",
    "data['tt'] = data.day.apply(lambda d: (d-dmin).days)*24*6 + data.stime.dt.hour*6 + (data.stime.dt.hour//10)\n",
    "print(data.tt.max(), ((data.day.max()-dmin).days+1)*24, ((data.day.max()-dmin).days+1)*720)\n",
    "data"
   ]
  },
  {
   "cell_type": "code",
   "execution_count": null,
   "id": "b277191c-4c3a-4909-a0ab-4ffac0661a06",
   "metadata": {},
   "outputs": [],
   "source": [
    "data.to_csv('output/09_contacts_cities_stadiums.csv', index=False)"
   ]
  },
  {
   "cell_type": "markdown",
   "id": "b2e2c524-1060-4e9b-881b-cbcfafd8f18d",
   "metadata": {},
   "source": [
    "## contact heatmaps for host cities and host stadiums"
   ]
  },
  {
   "cell_type": "code",
   "execution_count": null,
   "id": "40d166ad-a238-4a4d-992f-7f9c8d695b3d",
   "metadata": {},
   "outputs": [],
   "source": [
    "data = pd.read_csv('output/09_contacts_cities_stadiums.csv')\n",
    "data['day'] = [d.date() for d in pd.to_datetime(data.day)]\n",
    "data['stime'] = pd.to_datetime(data.stime)\n",
    "data['hour'] = data.stime.dt.hour"
   ]
  },
  {
   "cell_type": "code",
   "execution_count": null,
   "id": "c25705ca-fb7f-4362-ae4d-e80bc645f19f",
   "metadata": {},
   "outputs": [],
   "source": [
    "#data['hour'] = data.stime.dt.hour\n",
    "#for_heatmap = data.groupby(['city','day','hour']).pair.apply(lambda x: len(set(x))).reset_index()\n",
    "for_heatmap = data.groupby(['city','in_stadium','day','hour']).pair.apply(lambda x: len(set(x))).reset_index()\n",
    "c1 = pd.DataFrame(set(for_heatmap.city), columns=['city'])\n",
    "c2 = pd.DataFrame(set(for_heatmap.in_stadium), columns=['in_stadium'])\n",
    "c3 = pd.DataFrame([d.date() for d in pd.date_range(di, df)], columns=['day'])\n",
    "c4 = pd.DataFrame(list(range(24)), columns=['hour'])\n",
    "#for_heatmap = c1.merge(c3, how='cross').merge(c4, how='cross').merge(for_heatmap, on=['city','day','hour'], how='left')\n",
    "for_heatmap = c1.merge(c2, how='cross').merge(c3, how='cross').merge(c4, how='cross').merge(for_heatmap, on=['city','in_stadium','day','hour'], how='left')\n",
    "for_heatmap"
   ]
  },
  {
   "cell_type": "code",
   "execution_count": null,
   "id": "c7ed084e-d00d-4f25-89a7-d1071268db08",
   "metadata": {},
   "outputs": [],
   "source": [
    "sns.set_theme(style=\"ticks\")\n",
    "\n",
    "# Function to plot a heatmap inside each facet\n",
    "def heatmap_func(data, **kwargs):\n",
    "    #print(data.in_stadium.iloc[0])\n",
    "    pivoted = data.pivot(index=\"hour\", columns=\"day\", values=\"pair\")  # Reshape\n",
    "    sns.heatmap(pivoted.loc[::-1], cmap=\"coolwarm\", cbar=False, robust=~data.in_stadium.iloc[0], **kwargs)#, vmin=0., vmax=pivoted.max().max()\n",
    "\n",
    "# Create a FacetGrid, grouping by 'category'\n",
    "g = sns.FacetGrid(for_heatmap[for_heatmap.city.isin(['Berlin','Dortmund','Düsseldorf','Frankfurt am Main','Gelsenkirchen'])].fillna(0),\n",
    "                  row=\"city\", col=\"in_stadium\", margin_titles=True, height=3, aspect=2.,\n",
    "                  row_order=sorted(set(for_heatmap.city))[:5], col_order=[False, True])\n",
    "\n",
    "# Map the custom heatmap function to each facet\n",
    "g.map_dataframe(heatmap_func)\n",
    "\n",
    "# Set yticks for all subplots\n",
    "g.set(yticks=[24-x-.5 for x in range(0,24,2)], xticks=[x+.5 for x in range(len(set(for_heatmap.day)))])\n",
    "g.set_yticklabels(list(range(0,24,2)), rotation=0)\n",
    "g.set_xticklabels([str(d.month).zfill(2)+'/'+str(d.day).zfill(2) if d.weekday()==6 and d.isocalendar().week%2==0 else '' for d in sorted(set(for_heatmap.day))], rotation=0)\n",
    "\n",
    "for ax in g.axes.flat:\n",
    "    #ax.set_title(ax.get_title().split('=')[1][1:])\n",
    "    ax.tick_params(axis=\"x\", labelbottom=True)\n",
    "\n",
    "# Modify margin titles\n",
    "g.set_titles(row_template=\"{row_name}\", col_template=\"{col_name}\")#, size=14, fontweight='bold')\n",
    "# Modify column titles\n",
    "new_titles = {False: \"city\", True: \"stadium\"}\n",
    "for ax, title in zip(g.axes.flat, g.col_names):  # g.col_names has the original column values\n",
    "    ax.set_title(new_titles.get(title, title))  # Replace title if in dictionary\n",
    "\n",
    "g.tight_layout()\n",
    "plt.savefig(f'plots/fig5_{cdef_alt}/09_contacts_cities_stadiums_1.jpg', bbox_inches='tight', dpi=300)\n",
    "plt.savefig(f'plots/fig5_{cdef_alt}/09_contacts_cities_stadiums_1.pdf', bbox_inches='tight')\n",
    "plt.show()"
   ]
  },
  {
   "cell_type": "code",
   "execution_count": null,
   "id": "4bcfd291-0c98-455d-86ca-17e57c77c27e",
   "metadata": {},
   "outputs": [],
   "source": [
    "sns.set_theme(style=\"ticks\")\n",
    "\n",
    "# Function to plot a heatmap inside each facet\n",
    "def heatmap_func(data, **kwargs):\n",
    "    #print(data.in_stadium.iloc[0])\n",
    "    pivoted = data.pivot(index=\"hour\", columns=\"day\", values=\"pair\")  # Reshape\n",
    "    sns.heatmap(pivoted.loc[::-1], cmap=\"coolwarm\", cbar=False, robust=~data.in_stadium.iloc[0], **kwargs)#, vmin=0., vmax=pivoted.max().max()\n",
    "\n",
    "# Create a FacetGrid, grouping by 'category'\n",
    "g = sns.FacetGrid(for_heatmap[for_heatmap.city.isin(['Hamburg','Köln','Leipzig','München','Stuttgart'])].fillna(0),\n",
    "                  row=\"city\", col=\"in_stadium\", margin_titles=True, height=3, aspect=2.,\n",
    "                  row_order=sorted(set(for_heatmap.city))[5:], col_order=[False, True])\n",
    "\n",
    "# Map the custom heatmap function to each facet\n",
    "g.map_dataframe(heatmap_func)\n",
    "\n",
    "# Set yticks for all subplots\n",
    "g.set(yticks=[24-x-.5 for x in range(0,24,2)], xticks=[x+.5 for x in range(len(set(for_heatmap.day)))])\n",
    "g.set_yticklabels(list(range(0,24,2)), rotation=0)\n",
    "g.set_xticklabels([str(d.month).zfill(2)+'/'+str(d.day).zfill(2) if d.weekday()==6 and d.isocalendar().week%2==0 else '' for d in sorted(set(for_heatmap.day))], rotation=0)\n",
    "\n",
    "for ax in g.axes.flat:\n",
    "    #ax.set_title(ax.get_title().split('=')[1][1:])\n",
    "    ax.tick_params(axis=\"x\", labelbottom=True)\n",
    "\n",
    "# Modify margin titles\n",
    "g.set_titles(row_template=\"{row_name}\", col_template=\"{col_name}\")#, size=14, fontweight='bold')\n",
    "# Modify column titles\n",
    "new_titles = {False: \"city\", True: \"stadium\"}\n",
    "for ax, title in zip(g.axes.flat, g.col_names):  # g.col_names has the original column values\n",
    "    ax.set_title(new_titles.get(title, title))  # Replace title if in dictionary\n",
    "\n",
    "g.tight_layout()\n",
    "plt.savefig(f'plots/fig5_{cdef_alt}/09_contacts_cities_stadiums_2.jpg', bbox_inches='tight', dpi=300)\n",
    "plt.savefig(f'plots/fig5_{cdef_alt}/09_contacts_cities_stadiums_2.pdf', bbox_inches='tight')\n",
    "plt.show()"
   ]
  },
  {
   "cell_type": "markdown",
   "id": "224f62c8-2f8c-4db0-aea9-2b4c68017538",
   "metadata": {},
   "source": [
    "## activity around EURO 2024 matches"
   ]
  },
  {
   "cell_type": "code",
   "execution_count": null,
   "id": "92b32385-012d-4193-a75e-dd1fea5a773d",
   "metadata": {
    "scrolled": true
   },
   "outputs": [],
   "source": [
    "# Creating the DataFrame with the updated match information, German city names, and times\n",
    "# Creating the DataFrame with the updated match information, German city names, and times\n",
    "data_group_a = {\n",
    "    'City': ['München', 'Köln', 'Stuttgart', 'Köln', 'Frankfurt am Main', 'Stuttgart'],\n",
    "    'Date': ['2024-06-14', '2024-06-15', '2024-06-19', '2024-06-19', '2024-06-23', '2024-06-23'],\n",
    "    'Time': ['21:00', '15:00', '18:00', '21:00', '21:00', '21:00'],\n",
    "    'Population': [1471508, 1085664, 634830, 1085664, 753056, 634830],\n",
    "    'Match': [\n",
    "        'Germany 5 - 1 Scotland', \n",
    "        'Hungary 1 - 3 Switzerland', \n",
    "        'Germany 2 - 0 Hungary', \n",
    "        'Scotland 1 - 1 Switzerland', \n",
    "        'Switzerland 1 - 1 Germany', \n",
    "        'Scotland 0 - 1 Hungary'\n",
    "    ]\n",
    "}\n",
    "df_group_a = pd.DataFrame(data_group_a)\n",
    "\n",
    "data_group_b = {\n",
    "    'City': ['Berlin', 'Dortmund', 'Hamburg', 'Gelsenkirchen', 'Leipzig', 'Düsseldorf'],\n",
    "    'Date': ['2024-06-15', '2024-06-15', '2024-06-19', '2024-06-20', '2024-06-24', '2024-06-24'],\n",
    "    'Time': ['18:00', '21:00', '15:00', '21:00', '21:00', '21:00'],\n",
    "    'Population': [3769000, 588462, 1841179, 260000, 597493, 619294],\n",
    "    'Match': [\n",
    "        'Spain 3 - 0 Croatia', \n",
    "        'Italy 2 - 1 Albania', \n",
    "        'Croatia 2 - 2 Albania', \n",
    "        'Spain 1 - 0 Italy', \n",
    "        'Croatia 1 - 1 Italy', \n",
    "        'Albania 0 - 1 Spain'\n",
    "    ]\n",
    "}\n",
    "df_group_b = pd.DataFrame(data_group_b)\n",
    "\n",
    "data_group_c = {\n",
    "    'City': ['Stuttgart', 'Gelsenkirchen', 'München', 'Frankfurt am Main', 'Köln', 'München'],\n",
    "    'Date': ['2024-06-16', '2024-06-16', '2024-06-20', '2024-06-20', '2024-06-25', '2024-06-25'],\n",
    "    'Time': ['18:00', '21:00', '15:00', '18:00', '21:00', '21:00'],\n",
    "    'Population': [634830, 260000, 1472000, 753056, 1085664, 1472000],\n",
    "    'Match': [\n",
    "        'Slovenia 1 - 1 Denmark', \n",
    "        'Serbia 0 - 1 England', \n",
    "        'Slovenia 1 - 1 Serbia', \n",
    "        'Denmark 1 - 1 England', \n",
    "        'England 0 - 0 Slovenia', \n",
    "        'Denmark 0 - 0 Serbia'\n",
    "    ]\n",
    "}\n",
    "\n",
    "df_group_c= pd.DataFrame(data_group_c)\n",
    "\n",
    "data_group_d = {\n",
    "    'City': ['Hamburg', 'Düsseldorf', 'Berlin', 'Leipzig', 'Berlin', 'Dortmund'],\n",
    "    'Date': ['2024-06-16', '2024-06-17', '2024-06-21', '2024-06-21', '2024-06-25', '2024-06-25'],\n",
    "    'Time': ['15:00', '21:00', '18:00', '21:00', '18:00', '18:00'],\n",
    "    'Population': [1841179, 619294, 3769000, 597493, 3769000, 588462],\n",
    "    'Match': [\n",
    "        'Poland 1 - 2 Netherlands', \n",
    "        'Austria 0 - 1 France', \n",
    "        'Poland 1 - 3 Austria', \n",
    "        'Netherlands 0 - 0 France', \n",
    "        'Netherlands 2 - 3 Austria', \n",
    "        'France 1 - 1 Poland'\n",
    "    ]\n",
    "}\n",
    "df_group_d = pd.DataFrame(data_group_d)\n",
    "\n",
    "\n",
    "data_group_e = {\n",
    "    'City': ['München', 'Frankfurt am Main', 'Düsseldorf', 'Köln', 'Frankfurt am Main', 'Stuttgart'],\n",
    "    'Date': ['2024-06-17', '2024-06-17', '2024-06-21', '2024-06-22', '2024-06-26', '2024-06-26'],\n",
    "    'Time': ['15:00', '18:00', '15:00', '21:00', '18:00', '18:00'],\n",
    "    'Population': [1488202, 753056, 617280, 1080394, 753056, 635911],\n",
    "    'Match': [\n",
    "        'Romania 3 - 0 Ukraine', \n",
    "        'Belgium 0 - 1 Slovakia', \n",
    "        'Slovakia 1 - 2 Ukraine', \n",
    "        'Belgium 2 - 0 Romania', \n",
    "        'Slovakia 1 - 1 Romania', \n",
    "        'Ukraine 0 - 0 Belgium'\n",
    "    ]\n",
    "}\n",
    "\n",
    "df_group_e = pd.DataFrame(data_group_e)\n",
    "\n",
    "\n",
    "# Creating the DataFrame with the match information, cities, dates, times, and populations\n",
    "data_group_f = {\n",
    "    'City': ['Dortmund', 'Leipzig', 'Hamburg', 'Dortmund', 'Gelsenkirchen', 'Hamburg'],\n",
    "    'Date': ['2024-06-18', '2024-06-18', '2024-06-22', '2024-06-22', '2024-06-26', '2024-06-26'],\n",
    "    'Time': ['18:00', '21:00', '15:00', '18:00', '21:00', '21:00'],\n",
    "    'Population': [588462, 597493, 1841179, 588462, 260000, 1841179],\n",
    "    'Match': [\n",
    "        'Turkey 3 - 1 Georgia', \n",
    "        'Portugal 2 - 1 Czechia', \n",
    "        'Georgia 1 - 1 Czechia', \n",
    "        'Turkey 0 - 3 Portugal', \n",
    "        'Georgia 2 - 0 Portugal', \n",
    "        'Czechia 1 - 2 Turkey'\n",
    "    ]\n",
    "}\n",
    "df_group_f = pd.DataFrame(data_group_f)\n",
    "\n",
    "\n",
    "\n",
    "\n",
    "data_eurocup_16th = {\n",
    "    'City': ['Dortmund', 'Berlin', 'Gelsenkirchen', 'Köln', 'Düsseldorf', 'Frankfurt am Main', 'München', 'Leipzig'],\n",
    "    'Date': ['2024-06-29', '2024-06-29', '2024-06-30', '2024-06-30', '2024-07-01', '2024-07-01', '2024-07-02', '2024-07-02'],\n",
    "    'Time': ['21:00', '18:00', '18:00', '21:00', '18:00', '21:00', '18:00', '21:00'],\n",
    "    'Population': [588462, 3644826, 260000, 1085664, 617280, 736414, 1471508, 597493],\n",
    "    'Match': [\n",
    "        'Germany 2 - 0 Denmark',\n",
    "        'Switzerland 2 - 0 Italy',\n",
    "        'England 2 - 1 Slovakia ',\n",
    "        'Spain 4 - 1 Georgia',\n",
    "        'France 1 - 0 Belgium',\n",
    "        'Portugal 0 - 0 Slovenia',\n",
    "        'Romania 0 - 3 Netherlands',\n",
    "        'Austria 1 - 2 Turkey'\n",
    "    ]\n",
    "}\n",
    "\n",
    "df_eurocup_16th = pd.DataFrame(data_eurocup_16th)\n",
    "\n",
    "# Creating the dataframe for the semifinals\n",
    "data_semifinals = {\n",
    "    'City': ['München', 'Dortmund'],\n",
    "    'Date': ['2024-07-09', '2024-07-10'],\n",
    "    'Time': ['21:00', '21:00'],\n",
    "    'Population': [1471508, 588462],\n",
    "    'Match': [\n",
    "        'Spain 2 - 1 France',\n",
    "        'Netherlands 1 - 2 England'\n",
    "    ]\n",
    "}\n",
    "\n",
    "df_semifinals = pd.DataFrame(data_semifinals)\n",
    "\n",
    "# Creating the dataframe for the quarterfinals\n",
    "data_quarterfinals = {\n",
    "    'City': ['Stuttgart', 'Hamburg', 'Berlin', 'Düsseldorf'],\n",
    "    'Date': ['2024-07-05', '2024-07-05', '2024-07-06', '2024-07-06'],\n",
    "    'Time': ['18:00', '21:00', '18:00', '21:00'],\n",
    "    'Population': [634830, 1841179, 3644826, 617280],\n",
    "    'Match': [\n",
    "        'Spain 2 - 1 Germany',\n",
    "        'Portugal 0 - 0 France ',\n",
    "        'Netherlands 2 - 1 Turkey',\n",
    "        'England 1 - 1 Switzerland'\n",
    "    ]\n",
    "}\n",
    "\n",
    "df_quarterfinals = pd.DataFrame(data_quarterfinals)\n",
    "\n",
    "data_final = {\n",
    "    'City': ['Berlin'],\n",
    "    'Date': ['2024-07-14'],\n",
    "    'Time': ['21:00'],\n",
    "    'Population': [3644826],\n",
    "    'Match': [\n",
    "        'Spain 2 - 1 England'\n",
    "    ]\n",
    "}\n",
    "\n",
    "df_final = pd.DataFrame(data_final)\n",
    "\n",
    "\n",
    "\n",
    "# Creating the DataFrame with the match information, cities, dates, times, and populations\n",
    "\n",
    "\n",
    "df_group_a['Group'] = 'Group A'\n",
    "df_group_b['Group'] = 'Group B'\n",
    "df_group_c['Group'] = 'Group C'\n",
    "df_group_d['Group'] = 'Group D'\n",
    "df_group_e['Group'] = 'Group E'\n",
    "df_group_f['Group'] = 'Group F'\n",
    "\n",
    "# Combine the DataFrames\n",
    "combined_df = pd.concat([df_group_a, df_group_b, df_group_c, df_group_d, df_group_e, df_group_f, df_eurocup_16th, df_quarterfinals, df_semifinals, df_final ], ignore_index=True)\n",
    "combined_df"
   ]
  },
  {
   "cell_type": "code",
   "execution_count": null,
   "id": "efe27c4c-2f01-4097-8c51-bcbb2da3a3c7",
   "metadata": {
    "scrolled": true
   },
   "outputs": [],
   "source": [
    "combined_df = combined_df.rename(columns={'City':'city','Date':'day','Time':'hour_match','Match':'match'})\n",
    "combined_df = combined_df[['city','day','hour_match','match']]\n",
    "combined_df['hour_match'] = combined_df.hour_match.apply(lambda x: int(x.split(':')[0]))\n",
    "combined_df['day'] = combined_df.day.apply(lambda x: datetime.strptime(x, '%Y-%m-%d').date())\n",
    "combined_df"
   ]
  },
  {
   "cell_type": "code",
   "execution_count": null,
   "id": "f9283526-9fdf-4279-b73c-02459ad8b8e8",
   "metadata": {
    "scrolled": true
   },
   "outputs": [],
   "source": []
  },
  {
   "cell_type": "code",
   "execution_count": null,
   "id": "935ad7a0-4e49-4eec-8f87-1663afee4357",
   "metadata": {},
   "outputs": [],
   "source": []
  },
  {
   "cell_type": "code",
   "execution_count": null,
   "id": "f9e8d242-704e-4b8e-9029-a2d99059a7e0",
   "metadata": {},
   "outputs": [],
   "source": []
  },
  {
   "cell_type": "code",
   "execution_count": null,
   "id": "5ae63511-7ecd-4f2d-baa4-b2d2bb0d41f6",
   "metadata": {},
   "outputs": [],
   "source": []
  },
  {
   "cell_type": "code",
   "execution_count": null,
   "id": "b0716dc7-d6bd-4ca5-944f-30d62a7e91fa",
   "metadata": {},
   "outputs": [],
   "source": []
  },
  {
   "cell_type": "code",
   "execution_count": null,
   "id": "273ec2ea-558c-4470-b4a3-d4d1bf39b4e1",
   "metadata": {},
   "outputs": [],
   "source": [
    "combined_df = combined_df.merge(for_heatmap.groupby(['city','day','hour']).pair.sum().reset_index(), on=['city','day'])\n",
    "combined_df['hour_rel'] = combined_df.hour - combined_df.hour_match\n",
    "#combined_df = combined_df.drop(columns=['hour_match','hour'])\n",
    "combined_df['germany'] = combined_df.match.apply(lambda x: 'Germany' in x)\n",
    "combined_df"
   ]
  },
  {
   "cell_type": "code",
   "execution_count": null,
   "id": "aec71915-a6f1-4890-bf11-cb8d4b351947",
   "metadata": {
    "scrolled": true
   },
   "outputs": [],
   "source": [
    "#baseline = for_heatmap.groupby(['hour']).pair.sum().reset_index().rename(columns={'pair':'baseline'})\n",
    "baseline = for_heatmap[for_heatmap.in_stadium==False].groupby(['hour']).pair.sum().reset_index().rename(columns={'pair':'baseline'})\n",
    "baseline['baseline'] = baseline.baseline / baseline.baseline.sum() * 24\n",
    "baseline"
   ]
  },
  {
   "cell_type": "code",
   "execution_count": null,
   "id": "a0b9e7c1-0437-40b5-9b51-8d140903f393",
   "metadata": {
    "scrolled": true
   },
   "outputs": [],
   "source": [
    "baseline = combined_df.groupby(['city','day']).pair.apply(np.sum).reset_index().rename(columns={'pair':'baseline'})\n",
    "baseline"
   ]
  },
  {
   "cell_type": "code",
   "execution_count": null,
   "id": "875ee6fa-3fa6-4c13-bd72-c38787dd38be",
   "metadata": {},
   "outputs": [],
   "source": []
  },
  {
   "cell_type": "code",
   "execution_count": null,
   "id": "7ab16a1f-0c3f-43aa-8c20-783477e0674c",
   "metadata": {},
   "outputs": [],
   "source": []
  },
  {
   "cell_type": "code",
   "execution_count": null,
   "id": "1bf8c3e6-ec2a-4654-8d63-6da84234559c",
   "metadata": {},
   "outputs": [],
   "source": []
  },
  {
   "cell_type": "code",
   "execution_count": null,
   "id": "cc9279f9-d0c6-4e63-bbd1-b9f8fc18ca3b",
   "metadata": {},
   "outputs": [],
   "source": []
  },
  {
   "cell_type": "code",
   "execution_count": null,
   "id": "4db8fce3-b474-4392-b070-65e9f1b15cb8",
   "metadata": {},
   "outputs": [],
   "source": [
    "#combined_df = combined_df.merge(baseline, on='hour')\n",
    "combined_df = combined_df.merge(baseline, on=['city','day'])\n",
    "combined_df['normed'] = combined_df.pair / combined_df.baseline"
   ]
  },
  {
   "cell_type": "code",
   "execution_count": null,
   "id": "31d52d0a-c369-492b-b31c-58ab34e4d9f2",
   "metadata": {},
   "outputs": [],
   "source": []
  },
  {
   "cell_type": "code",
   "execution_count": null,
   "id": "7292394a-53fe-49b9-b9d9-454583ed16d3",
   "metadata": {},
   "outputs": [],
   "source": []
  },
  {
   "cell_type": "code",
   "execution_count": null,
   "id": "6fd806a1-51f6-444c-9eff-8c59d48c3e72",
   "metadata": {},
   "outputs": [],
   "source": []
  },
  {
   "cell_type": "code",
   "execution_count": null,
   "id": "42ef77cd-9519-472f-bafb-d9b062ca35f3",
   "metadata": {},
   "outputs": [],
   "source": [
    "normed_df = combined_df[(combined_df.hour_rel>=-7) & (combined_df.hour_rel<=5)]"
   ]
  },
  {
   "cell_type": "code",
   "execution_count": null,
   "id": "529a19c4-bc73-4c20-9b64-c55c8755922a",
   "metadata": {},
   "outputs": [],
   "source": [
    "sns.set_theme(style=\"ticks\")\n",
    "\n",
    "# Initialize the figure with a logarithmic x axis\n",
    "f, ax = plt.subplots(figsize=(9, 4))\n",
    "#ax.set_xscale(\"log\")\n",
    "\n",
    "# Plot the orbital period with horizontal boxes\n",
    "yup = .26\n",
    "ax.fill_between([6.5,8.5], [yup,yup], color='gray', zorder=0, alpha=.5)\n",
    "sns.boxplot(\n",
    "    combined_df[(combined_df.hour_rel>=-7) & (combined_df.hour_rel<=5)], x=\"hour_rel\", y=\"normed\", hue=\"germany\",\n",
    "    whis=[5, 95], width=.6, palette=sns.color_palette(),#sns.color_palette(\"husl\", 2)#\"vlag\"\n",
    ")\n",
    "\n",
    "# Add in points to show each observation\n",
    "#sns.stripplot(planets, x=\"distance\", y=\"method\", size=4, color=\".3\")\n",
    "\n",
    "# Tweak the visual presentation\n",
    "ax.yaxis.grid(True)\n",
    "ax.set(xlabel=\"time relative to match [hours]\")\n",
    "ax.set(ylabel=\"hourly contact share in host city\")\n",
    "sns.despine(trim=True, bottom=True, left=True)\n",
    "\n",
    "# Get the legend object\n",
    "legend = ax.get_legend()\n",
    "# Change legend title\n",
    "legend.set_title(\"German participation\")\n",
    "# Change legend labels\n",
    "new_labels = [\"no\", \"yes\"]\n",
    "for text, new_label in zip(legend.texts, new_labels):\n",
    "    text.set_text(new_label)\n",
    "\n",
    "plt.savefig(f'plots/fig6_{cdef_alt}/09_contacts_around_euro24_matches.jpg', bbox_inches='tight', dpi=300)\n",
    "plt.savefig(f'plots/fig6_{cdef_alt}/09_contacts_around_euro24_matches.pdf', bbox_inches='tight')\n",
    "plt.show()"
   ]
  },
  {
   "cell_type": "code",
   "execution_count": null,
   "id": "87fb6efc-fd0f-44e6-8977-fcfc80b6406b",
   "metadata": {},
   "outputs": [],
   "source": [
    "restr = combined_df[(combined_df.hour_rel>=-7) & (combined_df.hour_rel<=5)]\n",
    "restr[restr.match=='Germany 5 - 1 Scotland'].pair"
   ]
  },
  {
   "cell_type": "code",
   "execution_count": null,
   "id": "788d2f44-2739-4551-94f5-549d29e3b154",
   "metadata": {},
   "outputs": [],
   "source": [
    "restr[restr.match=='Germany 2 - 0 Hungary'].pair"
   ]
  },
  {
   "cell_type": "code",
   "execution_count": null,
   "id": "319598e0-471a-4c44-9c00-0658ddfc66a8",
   "metadata": {
    "scrolled": true
   },
   "outputs": [],
   "source": [
    "#toplot2 = data[(data.day==date(2024,6,19)) & (data.stime.dt.hour==15) & (data.city=='Stuttgart')]\n",
    "toplot = data[(data.day==date(2024,6,19)) & (data.stime.dt.hour==15) & (data.city=='Stuttgart')]\n",
    "toplot"
   ]
  },
  {
   "cell_type": "code",
   "execution_count": null,
   "id": "9e29b70b-aa15-4bdc-9722-01797db40bdf",
   "metadata": {},
   "outputs": [],
   "source": [
    "# Create a folium map centered around the first point\n",
    "m = folium.Map(location=[toplot.lat.mean(), toplot.lon.mean()], zoom_start=12)\n",
    "\n",
    "# Add markers for each coordinate\n",
    "for pair, lat, lon in zip(toplot.pair, toplot.lat, toplot.lon):\n",
    "    folium.Circle(location=[lat, lon], popup=f\"{pair}, Lat: {lat}, Lon: {lon}\", color='blue', radius=10).add_to(m)\n",
    "#for pair, lat, lon in zip(toplot2.pair, toplot2.lat, toplot2.lon):\n",
    "#    folium.Circle(location=[lat, lon], popup=f\"{pair}, Lat: {lat}, Lon: {lon}\", color='red', radius=5).add_to(m)\n",
    "\n",
    "# Display map\n",
    "m"
   ]
  },
  {
   "cell_type": "code",
   "execution_count": null,
   "id": "61683262-02ac-43fb-927d-4fda9628776f",
   "metadata": {},
   "outputs": [],
   "source": [
    "normed_df = combined_df[(combined_df.hour_rel>=-7) & (combined_df.hour_rel<=5)]"
   ]
  },
  {
   "cell_type": "code",
   "execution_count": null,
   "id": "698381b9-991f-4fcd-98bb-40200df6cc6a",
   "metadata": {},
   "outputs": [],
   "source": [
    "sns.set_theme(style=\"ticks\")\n",
    "\n",
    "# Initialize the figure with a logarithmic x axis\n",
    "f, ax = plt.subplots(figsize=(9, 4))\n",
    "#ax.set_xscale(\"log\")\n",
    "\n",
    "# Plot the orbital period with horizontal boxes\n",
    "yup = 200\n",
    "ax.fill_between([6.5,8.5], [yup,yup], color='gray', zorder=0, alpha=.5)\n",
    "sns.boxplot(\n",
    "    combined_df[(combined_df.hour_rel>=-7) & (combined_df.hour_rel<=5)], x=\"hour_rel\", y=\"pair\", hue=\"germany\",\n",
    "    whis=[5, 95], width=.6, palette=sns.color_palette(),#sns.color_palette(\"husl\", 2)#\"vlag\"\n",
    ")\n",
    "\n",
    "# Add in points to show each observation\n",
    "#sns.stripplot(planets, x=\"distance\", y=\"method\", size=4, color=\".3\")\n",
    "\n",
    "# Tweak the visual presentation\n",
    "ax.yaxis.grid(True)\n",
    "ax.set(xlabel=\"time relative to match [hours]\")\n",
    "ax.set(ylabel=\"detected contacts in host city\")\n",
    "sns.despine(trim=True, bottom=True, left=True)\n",
    "\n",
    "# Get the legend object\n",
    "legend = ax.get_legend()\n",
    "# Change legend title\n",
    "legend.set_title(\"German participation\")\n",
    "# Change legend labels\n",
    "new_labels = [\"no\", \"yes\"]\n",
    "for text, new_label in zip(legend.texts, new_labels):\n",
    "    text.set_text(new_label)\n",
    "\n",
    "#plt.savefig(f'plots/fig6_{cdef_alt}/09_contacts_around_euro24_matches.jpg', bbox_inches='tight', dpi=300)\n",
    "#plt.savefig(f'plots/fig6_{cdef_alt}/09_contacts_around_euro24_matches.pdf', bbox_inches='tight')\n",
    "plt.show()"
   ]
  },
  {
   "cell_type": "code",
   "execution_count": null,
   "id": "a2372025-5acf-4cae-a838-d49d46495eab",
   "metadata": {},
   "outputs": [],
   "source": []
  }
 ],
 "metadata": {
  "kernelspec": {
   "display_name": "Python 3 (ipykernel)",
   "language": "python",
   "name": "python3"
  },
  "language_info": {
   "codemirror_mode": {
    "name": "ipython",
    "version": 3
   },
   "file_extension": ".py",
   "mimetype": "text/x-python",
   "name": "python",
   "nbconvert_exporter": "python",
   "pygments_lexer": "ipython3",
   "version": "3.11.7"
  }
 },
 "nbformat": 4,
 "nbformat_minor": 5
}
