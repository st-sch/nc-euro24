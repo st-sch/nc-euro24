{
 "cells": [
  {
   "cell_type": "code",
   "execution_count": null,
   "id": "719cca0a-e987-4303-9bd7-fd2e9df6156d",
   "metadata": {},
   "outputs": [],
   "source": [
    "import os, psycopg2, folium, pandas as pd\n",
    "from sqlalchemy import create_engine\n",
    "import matplotlib.pyplot as plt"
   ]
  },
  {
   "cell_type": "markdown",
   "id": "6eee122d-4aae-43ba-991c-226f441ddecf",
   "metadata": {},
   "source": [
    "# db connection"
   ]
  },
  {
   "cell_type": "code",
   "execution_count": null,
   "id": "f8c8cd59-9d92-49fa-b553-c45e68a8202f",
   "metadata": {},
   "outputs": [],
   "source": [
    "from sqlalchemy import create_engine \n",
    "from sqlalchemy.orm import sessionmaker\n",
    "# database credentials\n",
    "db_usr, db_pwd = '', '' # your database user name and password\n",
    "\n",
    "# database login\n",
    "host, port, db = 'nc-health-data-prod.cluster-ccsgl7rk4urn.eu-central-1.rds.amazonaws.com', 5432, 'master'\n",
    "engine = create_engine('postgresql://'+db_usr+':'+db_pwd+'@'+host+':'+str(port)+'/'+db)\n",
    "Session = sessionmaker(bind=engine)\n",
    "session = Session()\n",
    "conn = engine.connect()"
   ]
  },
  {
   "cell_type": "code",
   "execution_count": null,
   "id": "65d72338-20de-4153-b487-68f33ab0d5e4",
   "metadata": {},
   "outputs": [],
   "source": [
    "# db connection for queries without output\n",
    "conn_exe = psycopg2.connect('host='+host+' port='+str(port)+' dbname='+db+' user='+db_usr+' password='+db_pwd)\n",
    "cursor = conn_exe.cursor()"
   ]
  },
  {
   "cell_type": "code",
   "execution_count": null,
   "id": "33229b99-1830-40d4-a25a-475d7288d64d",
   "metadata": {},
   "outputs": [],
   "source": [
    "# close db connection\n",
    "conn_exe.close()"
   ]
  },
  {
   "cell_type": "markdown",
   "id": "edbdd3b7-a176-4e25-a048-41ffa69d257a",
   "metadata": {},
   "source": [
    "# data\n",
    "\n",
    "## identify mass event visitor dids and their home locations"
   ]
  },
  {
   "cell_type": "markdown",
   "id": "d06152ea-9673-4c68-9638-8a4594af6161",
   "metadata": {},
   "source": [
    "osm_id=  -9207449\n",
    "\n",
    "Use the plz to find the tiles and make the search faster\n",
    "\n",
    "tile_ids 61075 61076"
   ]
  },
  {
   "cell_type": "markdown",
   "id": "2dd8e6ed-5f74-4163-95f0-1629a7e34dc4",
   "metadata": {},
   "source": [
    "## If osm_id is osm_dt_buildings_tiles"
   ]
  },
  {
   "cell_type": "code",
   "execution_count": null,
   "id": "c492c5ff-0e1e-4ab9-93f7-36ccdff717a7",
   "metadata": {},
   "outputs": [],
   "source": [
    "query_osmid_did = f\"\"\"\n",
    "    drop table if exists euro_stuttgart;\n",
    "    create table euro_stuttgart as (\n",
    "    with t1 as (\n",
    "    \tselect ex.\"day\", ex.did, ex.tile_id, ex.tile_arr--unnest(ex.tile_arr) as tile8\n",
    "    \tfrom ex_corona_sdkv6_2024_27 as ex\n",
    "        where day = '2024-07-05'\n",
    "    )\n",
    "    , t2 as (\n",
    "    \tselect tile_id, osm_id\n",
    "    \tfrom osm_dt_buildings_tiles\n",
    "    )\n",
    "    , t3 as (\n",
    "    \tselect *\n",
    "    \tfrom t2\n",
    "    \twhere osm_id = -9207449\n",
    "    )\n",
    "    , t4 as (\n",
    "    select \n",
    "        t1.\"day\", \n",
    "        t1.did, \n",
    "        t1.tile_id, \n",
    "        unnest(t1.tile_arr) as tile8, \n",
    "        t3.tile_id as tile, \n",
    "        t3.osm_id\n",
    "    from t1\n",
    "    join t3\n",
    "    on t1.tile_id = t3.tile_id\n",
    "    )\n",
    "    select distinct \n",
    "        t4.\"day\", \n",
    "        t4.osm_id, \n",
    "        t4.did\n",
    "    from t4\n",
    "    where \n",
    "        t4.tile = t4.tile8\n",
    "        or t4.tile = t4.tile8 / 10\n",
    "        or t4.tile = t4.tile8 / 100\n",
    "        or t4.tile = t4.tile8 / 1000\n",
    "        or t4.tile = t4.tile8 / 10000\n",
    "        or t4.tile = t4.tile8 / 100000\n",
    "        or t4.tile = t4.tile8 / 1000000\n",
    "        or t4.tile = t4.tile8 / 10000000\n",
    "    order by t4.\"day\"\n",
    "    )\n",
    "\"\"\""
   ]
  },
  {
   "cell_type": "markdown",
   "id": "0b5c4c14-3f6e-4fab-abd3-30fd40533800",
   "metadata": {},
   "source": [
    "## If not"
   ]
  },
  {
   "cell_type": "code",
   "execution_count": null,
   "id": "4a51df13-674b-4cd9-af61-b39a9fdc7ce3",
   "metadata": {},
   "outputs": [],
   "source": [
    "query_did_osm_id = \"\"\"\n",
    "DROP TABLE IF EXISTS euro_stuttgart;\n",
    "CREATE TABLE euro_stuttgart AS \n",
    "\n",
    "WITH unnested AS (\n",
    "    SELECT \n",
    "        did, \n",
    "        unnest(stime_arr) AS stime, \n",
    "        unnest(tile_arr) AS tl8, \n",
    "        tile_id,\n",
    "        day\n",
    "    FROM (\n",
    "        SELECT * \n",
    "        FROM ex_corona_sdkv6_2024_25\n",
    "        WHERE tile_id IN (61075, 61076)\n",
    "          AND day = '2024-06-19'\n",
    "        UNION ALL\n",
    "        SELECT * \n",
    "        FROM ex_corona_sdkv6_2024_27\n",
    "        WHERE tile_id IN (61075, 61076)\n",
    "        AND day = '2024-07-05'\n",
    "    ) AS combined\n",
    "),\n",
    "geo AS (\n",
    "    SELECT \n",
    "        un.did, \n",
    "        un.stime,\n",
    "        un.day,\n",
    "        ST_Transform(\n",
    "            ST_Translate(\n",
    "                ST_SetSRID(tile8togeo(un.tl8), 32632), \n",
    "                tx.minx, \n",
    "                tx.miny\n",
    "            ), \n",
    "            3857\n",
    "        ) AS geopoint\n",
    "    FROM unnested AS un\n",
    "    JOIN txc_dt_grid_1000m AS tx \n",
    "      ON un.tile_id = tx.tile_id\n",
    "),\n",
    "osm AS (\n",
    "    SELECT osm_id, way\n",
    "    FROM planet_osm_polygon\n",
    "    WHERE osm_id = -9207449\n",
    ")\n",
    "SELECT DISTINCT geo.day, geo.did, osm.osm_id\n",
    "FROM geo, osm\n",
    "WHERE ST_Contains(osm.way, geo.geopoint);\n",
    "\"\"\"\n"
   ]
  },
  {
   "cell_type": "code",
   "execution_count": null,
   "id": "73c5e210-dcfe-4cb5-8244-1ca25af6e50f",
   "metadata": {},
   "outputs": [],
   "source": [
    "query_osmid_did_geo = f\"\"\"\n",
    "DROP TABLE IF EXISTS euro_stuttgart;\n",
    "CREATE TABLE euro_stuttgart AS\n",
    "WITH tiles AS (\n",
    "    SELECT t.tile_id, t.plz\n",
    "    FROM tile2plz t\n",
    "    WHERE t.plz = '70372'\n",
    "),\n",
    "t1 AS (\n",
    "    SELECT \n",
    "        ex.did,\n",
    "        UNNEST(ex.stime_arr) AS stime,\n",
    "        UNNEST(ex.tile_arr) AS tile8,\n",
    "        ber.tile_id,\n",
    "        ARRAY_LENGTH(ex.stime_arr, 1) AS stime_len\n",
    "    FROM tiles ber\n",
    "    JOIN (\n",
    "        SELECT * FROM ex_corona_sdkv6_2024_25\n",
    "        WHERE day = '2024-06-19'\n",
    "        UNION ALL\n",
    "        SELECT * FROM ex_corona_sdkv6_2024_27\n",
    "        WHERE day = '2024-07-05'\n",
    "    ) AS ex ON ber.tile_id = ex.tile_id\n",
    "),\n",
    "t2 AS (\n",
    "    SELECT\n",
    "        t1.did,\n",
    "        t1.stime,\n",
    "        t1.tile8,\n",
    "        t1.tile_id,\n",
    "        t1.stime_len,\n",
    "        ST_Translate(ST_SetSRID(tile8togeo(t1.tile8), 32632), tx.minx, tx.miny) AS tilegeo\n",
    "    FROM t1\n",
    "    JOIN txc_dt_grid_1000m AS tx ON t1.tile_id = tx.tile_id\n",
    "),\n",
    "t3 AS (\n",
    "    SELECT\n",
    "        t2.did,\n",
    "        t2.tile_id,\n",
    "        t2.tile8,\n",
    "        ST_X(ST_Transform(t2.tilegeo, 4326)) AS lon,\n",
    "        ST_Y(ST_Transform(t2.tilegeo, 4326)) AS lat,\n",
    "        t2.stime,\n",
    "        pl.osm_id\n",
    "    FROM t2\n",
    "    JOIN planet_osm_polygon AS pl \n",
    "        ON ST_Contains(pl.way, t2.tilegeo)\n",
    "    WHERE pl.osm_id = -9207449\n",
    ")\n",
    "SELECT\n",
    "    did,\n",
    "    ARRAY_AGG(tile8) AS tile8_ar,\n",
    "    ARRAY_AGG(lon) AS lon_ar,\n",
    "    ARRAY_AGG(lat) AS lat_ar,\n",
    "    ARRAY_AGG(stime) AS stime_ar,\n",
    "    osm_id\n",
    "FROM t3\n",
    "GROUP BY did, osm_id;\n",
    "\"\"\"\n"
   ]
  },
  {
   "cell_type": "code",
   "execution_count": null,
   "id": "b98ab212-ce68-42b9-a449-59474654de65",
   "metadata": {},
   "outputs": [],
   "source": [
    "query_osmid_home = f\"\"\"\n",
    "    with t1 as (\n",
    "    \tselect\n",
    "    \t\t  vis.\"day\"\n",
    "    \t\t, vis.did\n",
    "    \t\t, vis.osm_id\n",
    "    \t\t, hw.weighted_centroid as home\n",
    "    \tfrom euro_stuttgart as vis\n",
    "    \tjoin home_work_sdkv6 as hw\n",
    "    \ton hw.valid_for = (date_trunc('month', vis.\"day\") + interval '1 month' - interval '1 day')::date\n",
    "    \tand hw.did = vis.did\n",
    "    \twhere hw.place = 'home'\n",
    "    )\n",
    "    , t2 as (\n",
    "    \tselect osm_id, way\n",
    "    \tfrom planet_osm_polygon\n",
    "    \twhere osm_id = -9207449\n",
    "    )\n",
    "    select\n",
    "          t1.\"day\"\n",
    "        , t1.did\n",
    "        , st_x(st_transform(home, 4326)) as home_lon\n",
    "        , st_y(st_transform(home, 4326)) as home_lat\n",
    "        , t1.osm_id\n",
    "        , st_distance(t1.home, st_transform(t2.\"way\", 32632))/1000 as dist\n",
    "    from t1\n",
    "    join t2\n",
    "    on t1.osm_id = t2.osm_id;\n",
    "\"\"\""
   ]
  },
  {
   "cell_type": "code",
   "execution_count": null,
   "id": "c1e93625-f94b-4a33-8745-a79879628652",
   "metadata": {},
   "outputs": [],
   "source": [
    "data = pd.DataFrame()\n",
    "\n",
    "cursor.execute(query_did_osm_id)\n",
    "conn_exe.commit()\n",
    "\n",
    "data = pd.concat([data, pd.DataFrame(pd.read_sql_query(query_osmid_home, conn))])\n",
    "#conn.commit()"
   ]
  },
  {
   "cell_type": "code",
   "execution_count": null,
   "id": "617c3ef4-44c4-4fc6-bc74-ded3d9dfde1f",
   "metadata": {},
   "outputs": [],
   "source": [
    "#data.to_csv('output/03_data_2024.csv', index=False)"
   ]
  },
  {
   "cell_type": "code",
   "execution_count": null,
   "id": "23a4b7f5-761e-4ed2-851f-04c525c3a245",
   "metadata": {},
   "outputs": [],
   "source": [
    "data"
   ]
  },
  {
   "cell_type": "markdown",
   "id": "e699b065-37d5-45b7-b4d4-c12a5d45b11a",
   "metadata": {},
   "source": [
    "## plot visitor dids"
   ]
  },
  {
   "cell_type": "code",
   "execution_count": null,
   "id": "b65ecc1b-0ebc-4ab6-864c-d07688e1040f",
   "metadata": {},
   "outputs": [],
   "source": [
    "data"
   ]
  },
  {
   "cell_type": "code",
   "execution_count": null,
   "id": "a0b7eb79-83d1-4622-9a76-087d3085ec38",
   "metadata": {},
   "outputs": [],
   "source": [
    "import numpy as np\n",
    "fig, ax = plt.subplots(figsize=[10,5])\n",
    "\n",
    "data.dist.hist(ax=ax, bins=np.linspace(0,750,100))\n",
    "#ax.set_yscale('log')\n",
    "ax.set_xlabel('travel distance [km]', fontsize=15)\n",
    "ax.set_ylabel('number unique visitors', fontsize=15)\n",
    "ax.tick_params(labelsize=15)\n",
    "ax.set_xlim([0,700])\n",
    "\n",
    "plt.show()"
   ]
  },
  {
   "cell_type": "code",
   "execution_count": null,
   "id": "7309cfd7-8f32-44b4-b1f6-0040f9fca042",
   "metadata": {},
   "outputs": [],
   "source": [
    "fig, ax = plt.subplots(figsize=[10,5])\n",
    "\n",
    "data[data.dist<100].dist.hist(ax=ax, bins=np.linspace(0,100,50))\n",
    "#ax.set_yscale('log')\n",
    "\n",
    "plt.show()"
   ]
  },
  {
   "cell_type": "code",
   "execution_count": null,
   "id": "8b2a5614-fb69-44df-8b66-2323926f98c9",
   "metadata": {
    "scrolled": true
   },
   "outputs": [],
   "source": [
    "# Create a map centered at the first point\n",
    "m = folium.Map(location=[48.7758, 9.1829], zoom_start=7)\n",
    "\n",
    "# Add points to the map\n",
    "for lat, lon in zip(data.home_lat, data.home_lon):\n",
    "    folium.CircleMarker(\n",
    "        location=[lat, lon], #popup=point[\"name\"]\n",
    "        radius=1,                  # Size of the dot\n",
    "        color='blue',              # Outline color of the dot\n",
    "        fill=True,                 # Fill the dot\n",
    "        fill_color='blue',         # Fill color of the dot\n",
    "        fill_opacity=0.7           # Transparency of the fill\n",
    "    ).add_to(m)\n",
    "\n",
    "folium.CircleMarker(\n",
    "        location=[48.7758, 9.1829], #popup=point[\"name\"]\n",
    "        radius=1,                  # Size of the dot\n",
    "        color='red',              # Outline color of the dot\n",
    "        fill=True,                 # Fill the dot\n",
    "        fill_color='red',         # Fill color of the dot\n",
    "        fill_opacity=0.7           # Transparency of the fill\n",
    "    ).add_to(m)\n",
    "\n",
    "# Save the map to an HTML file (optional)\n",
    "#m.save(\"plots/03_homeloc_distr_by_venue.html\")\n",
    "\n",
    "# Display the map in Jupyter Notebook (if using it)\n",
    "m"
   ]
  }
 ],
 "metadata": {
  "kernelspec": {
   "display_name": "Python 3 (ipykernel)",
   "language": "python",
   "name": "python3"
  },
  "language_info": {
   "codemirror_mode": {
    "name": "ipython",
    "version": 3
   },
   "file_extension": ".py",
   "mimetype": "text/x-python",
   "name": "python",
   "nbconvert_exporter": "python",
   "pygments_lexer": "ipython3",
   "version": "3.11.5"
  }
 },
 "nbformat": 4,
 "nbformat_minor": 5
}
