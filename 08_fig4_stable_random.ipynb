{
 "cells": [
  {
   "cell_type": "code",
   "execution_count": null,
   "id": "54102208-88d0-4d55-83cd-b4c7e63389b1",
   "metadata": {},
   "outputs": [],
   "source": [
    "import os, folium, pandas as pd, numpy as np\n",
    "from datetime import date, datetime, timedelta\n",
    "from collections import Counter\n",
    "from sqlalchemy import create_engine\n",
    "from sklearn.cluster import KMeans, HDBSCAN\n",
    "from scipy.spatial import distance_matrix\n",
    "import matplotlib.pyplot as plt, seaborn as sns"
   ]
  },
  {
   "cell_type": "markdown",
   "id": "db9b7ab0-7eb8-4daa-94ef-2494681fe683",
   "metadata": {},
   "source": [
    "## parameters"
   ]
  },
  {
   "cell_type": "code",
   "execution_count": null,
   "id": "41343162-d38f-45ab-8865-0faa0d46fca2",
   "metadata": {},
   "outputs": [],
   "source": [
    "yeari, yearf = '2024', '2024'\n",
    "weeki, weekf = '18', '31'"
   ]
  },
  {
   "cell_type": "code",
   "execution_count": null,
   "id": "1b795ca7-10b4-4ab2-a1be-5eeb7759da45",
   "metadata": {},
   "outputs": [],
   "source": [
    "di = datetime.strptime(f'{yeari}-{weeki}-1', \"%Y-%W-%w\").date()\n",
    "df = datetime.strptime(f'{yearf}-{weekf}-1', \"%Y-%W-%w\").date() + timedelta(6)\n",
    "ds = [di+timedelta(dt) for dt in range((df-di).days+1)]\n",
    "daylist = ds\n",
    "print(di, 'until', df)"
   ]
  },
  {
   "cell_type": "code",
   "execution_count": null,
   "id": "a20feecc-95f7-4828-a55e-75e0c9727969",
   "metadata": {},
   "outputs": [],
   "source": [
    "cdef = 'tl7_10m'# 'tl5_10m' 'tl6_10m' 'tl7_10m' 'tl8_10m' 'tl8_60m'\n",
    "cdef_alt = '16m_10min'# tl5: 62 ... tl7: 16   tl8: 8"
   ]
  },
  {
   "cell_type": "markdown",
   "id": "a0f1cb28-1333-49ee-a135-a4883b89d280",
   "metadata": {},
   "source": [
    "## database connection"
   ]
  },
  {
   "cell_type": "code",
   "execution_count": null,
   "id": "c292d757-ba48-465b-bcc5-cc92d87c9a98",
   "metadata": {},
   "outputs": [],
   "source": [
    "# database credentials\n",
    "db_usr, db_pwd = os.getenv('DB_USR'), os.getenv('DB_PWD') # your database user name and password\n",
    "# database login\n",
    "host, port, db = 'nc-health-data-prod.cluster-ccsgl7rk4urn.eu-central-1.rds.amazonaws.com', 5432, 'master'"
   ]
  },
  {
   "cell_type": "code",
   "execution_count": null,
   "id": "7cb21716-a793-4b90-b462-b0d47f57dca6",
   "metadata": {},
   "outputs": [],
   "source": [
    "# for queries with output\n",
    "engine = create_engine('postgresql://'+db_usr+':'+db_pwd+'@'+host+':'+str(port)+'/'+db)\n",
    "conn = engine.connect()"
   ]
  },
  {
   "cell_type": "code",
   "execution_count": null,
   "id": "f46dd9f2-4a36-436a-aa26-7f648b1e6d5b",
   "metadata": {},
   "outputs": [],
   "source": [
    "conn.close()"
   ]
  },
  {
   "cell_type": "markdown",
   "id": "d73ae3ac-cab7-4e03-a549-f4a16b0fabb1",
   "metadata": {},
   "source": [
    "## load data"
   ]
  },
  {
   "cell_type": "code",
   "execution_count": null,
   "id": "0c61f02f-02da-4056-ba86-22a2cd898861",
   "metadata": {},
   "outputs": [],
   "source": [
    "# load mass event data\n",
    "match_data = pd.read_csv('output/00_event_data.csv')\n",
    "match_data['day'] = [d.date() for d in pd.to_datetime(match_data.day)]"
   ]
  },
  {
   "cell_type": "code",
   "execution_count": null,
   "id": "041e776d-f52a-4eef-9ea1-9324a3d48c05",
   "metadata": {},
   "outputs": [],
   "source": [
    "vac_data = [\n",
    "    ['Berlin', date(2024,7,18), date(2024,8,30)],\n",
    "    ['Dortmund', date(2024,7,8), date(2024,8,20)],\n",
    "    ['Düsseldorf', date(2024,7,8), date(2024,8,20)],\n",
    "    ['Frankfurt am Main', date(2024,7,15), date(2024,8,23)],\n",
    "    ['Gelsenkirchen', date(2024,7,8), date(2024,8,20)],\n",
    "    ['Hamburg', date(2024,7,18), date(2024,8,28)],\n",
    "    ['Köln', date(2024,7,8), date(2024,8,20)],\n",
    "    ['Leipzig', date(2024,6,20), date(2024,8,2)],\n",
    "    ['München', date(2024,7,29), date(2024,9,9)],\n",
    "    ['Stuttgart', date(2024,7,25), date(2024,9,7)],\n",
    "]\n",
    "vac_data = pd.DataFrame(vac_data, columns=['city','day_start','day_end'])\n",
    "vac_data"
   ]
  },
  {
   "cell_type": "markdown",
   "id": "3cfec6ce-9ed9-4267-b826-c73f3014f37d",
   "metadata": {},
   "source": [
    "## did pair timeseries: classification of did pairs as stable vs. random contacts"
   ]
  },
  {
   "cell_type": "markdown",
   "id": "81c5cace-bd41-4541-944c-e7445821627a",
   "metadata": {},
   "source": [
    "#cdef_cn = '_'+cdef if cdef == 'tl8_2min' else ''\n",
    "query = f\"\"\"\n",
    "    with cn_tmp as (\n",
    "    \tselect\n",
    "                  tl{cdef[2]}\n",
    "                , geopoint\n",
    "                , \"day\"\n",
    "                , stime\n",
    "                , dids\n",
    "                , sources\n",
    "     \t\t\t, bool_or(u.dist_stad < csa.radius_in_meter) as in_stadium\n",
    "                , min(u.area_id) as area_id\n",
    "            from covid_network_sdkv6_{cdef}, unnest(area_ids, dist_stads) u(area_id, dist_stad)\n",
    "            left join cluster_search_areas_v2 csa on csa.area_id = u.area_id\n",
    "            where\n",
    "                    \"day\" between '{di}' and '{df}'\n",
    "            group by 1,2,3,4,5,6\n",
    "    ),\n",
    "    cn as (\n",
    "        select\n",
    "                  tl{cdef[2]}\n",
    "                , \"day\"\n",
    "                , stime\n",
    "                , dids\n",
    "                , sources\n",
    "    \t\t\t, in_stadium\n",
    "                , area_id\n",
    "                , st_x(st_transform(geopoint, 4326)) as lon, st_y(st_transform(geopoint, 4326)) as lat\n",
    "        from cn_tmp\n",
    "    )\n",
    "    select *\n",
    "    from cn\n",
    "\"\"\"\n",
    "pd.DataFrame(pd.read_sql_query(query, conn))"
   ]
  },
  {
   "cell_type": "code",
   "execution_count": null,
   "id": "6cb536f0-d6cf-46f1-b5cc-e98231ff5383",
   "metadata": {},
   "outputs": [],
   "source": [
    "query = f\"\"\"\n",
    "    select \"day\", stime, dids, st_x(st_transform(geopoint, 4326)) as lon, st_y(st_transform(geopoint, 4326)) as lat, tl7--, array_length(inside_building, 1) > 0 as inside_building\n",
    "    from covid_network_sdkv6_tl7_10m as cn\n",
    "    --join txc_dt_grid_1000m as tx on cn.tile_id = tx.tile_id\n",
    "    where \"day\" between '{di}' and '{df}'\n",
    "\"\"\"\n",
    "data = pd.DataFrame(pd.read_sql_query(query, conn))\n",
    "data"
   ]
  },
  {
   "cell_type": "code",
   "execution_count": null,
   "id": "447840ad-124c-45e4-9463-741c1f27a471",
   "metadata": {},
   "outputs": [],
   "source": [
    "data_sv = data.copy(deep=True)"
   ]
  },
  {
   "cell_type": "code",
   "execution_count": null,
   "id": "0491195a-9162-4fec-b2eb-8b35680cd451",
   "metadata": {},
   "outputs": [],
   "source": [
    "data = data.explode('dids').reset_index(drop=True)\n",
    "data = data.drop_duplicates()\n",
    "data = data.merge(data.drop(columns=['lon','lat']), on=['day','stime','tl7'])#,'tl7','inside_building','lon','lat'])\n",
    "data = data[data.dids_x != data.dids_y]\n",
    "pairs = []\n",
    "for did1, did2 in zip(data.dids_x, data.dids_y):\n",
    "    pair = f'{did1}_{did2}' if did1 < did2 else f'{did2}_{did1}'\n",
    "    #print(did1, did2, pair)\n",
    "    pairs.append(pair)\n",
    "data.loc[:,'pair'] = pairs\n",
    "data = data.drop(columns=['dids_x','dids_y','tl7'])\n",
    "data = data.drop_duplicates()\n",
    "dmin = data.day.min()\n",
    "#data['tt'] = data.day.apply(lambda d: (d-dmin).days)*24 + data.stime.dt.hour\n",
    "data['tt'] = data.day.apply(lambda d: (d-dmin).days)*24*6 + data.stime.dt.hour*6 + (data.stime.dt.minute//10)\n",
    "print(data.tt.max(), ((data.day.max()-dmin).days+1)*24, ((data.day.max()-dmin).days+1)*720)\n",
    "data"
   ]
  },
  {
   "cell_type": "code",
   "execution_count": null,
   "id": "5f9f916f-b743-4cec-a27a-deb723d4be6a",
   "metadata": {},
   "outputs": [],
   "source": [
    "data.to_csv('output/08_follow_didpairs.csv', index=False)"
   ]
  },
  {
   "cell_type": "code",
   "execution_count": null,
   "id": "9f4ee4b0-c19e-480f-b506-ac26a72a3cbd",
   "metadata": {},
   "outputs": [],
   "source": [
    "data = pd.read_csv('output/08_follow_didpairs.csv')\n",
    "data['day'] = [d.date() for d in pd.to_datetime(data.day)]\n",
    "data['stime'] = pd.to_datetime(data.stime)"
   ]
  },
  {
   "cell_type": "code",
   "execution_count": null,
   "id": "2855e635-d41b-4015-a384-11e6d3ed1332",
   "metadata": {},
   "outputs": [],
   "source": [
    "data['tt2'] = data.day.apply(lambda d: (d-dmin).days)*24*6 + data.stime.dt.hour*6 + (data.stime.dt.minute//10)\n",
    "print(data.tt2.min(), data.tt2.max())"
   ]
  },
  {
   "cell_type": "code",
   "execution_count": null,
   "id": "d1afd53a-7794-4511-8a9f-62bf6cd7583a",
   "metadata": {},
   "outputs": [],
   "source": [
    "(data.day.max()-dmin).days*24*6 + (24-1)*6 + (6-1)"
   ]
  },
  {
   "cell_type": "code",
   "execution_count": null,
   "id": "c9c40f29-15be-4095-a8ba-a5c715026148",
   "metadata": {},
   "outputs": [],
   "source": [
    "# stability: 0 = random pair, 1 = stable pair\n",
    "randstab = pd.DataFrame(data.groupby('pair').day.apply(lambda x: 0 if len(set(x))==1 else 1)).reset_index()\n",
    "randstab = randstab.rename(columns={'tt':'stability','day':'stability','tt2':'stability'})\n",
    "randstab"
   ]
  },
  {
   "cell_type": "code",
   "execution_count": null,
   "id": "956c38f9-fa46-4b3b-82c5-624d118af86d",
   "metadata": {},
   "outputs": [],
   "source": [
    "# number of pairs in each category tt2\n",
    "randstab.groupby('stability').pair.apply(len)"
   ]
  },
  {
   "cell_type": "code",
   "execution_count": null,
   "id": "e93d3d22-3007-485f-8763-9e67e7029723",
   "metadata": {},
   "outputs": [],
   "source": [
    "# number of pairs in each category tt\n",
    "randstab.groupby('stability').pair.apply(len)"
   ]
  },
  {
   "cell_type": "code",
   "execution_count": null,
   "id": "d929bdff-4b32-434a-a128-1aaab3330db3",
   "metadata": {},
   "outputs": [],
   "source": [
    "# number of pairs in each category day\n",
    "randstab.groupby('stability').pair.apply(len)"
   ]
  },
  {
   "cell_type": "code",
   "execution_count": null,
   "id": "9c4e6d0a-b5c3-4573-827c-4779869d26ef",
   "metadata": {},
   "outputs": [],
   "source": [
    "# total contact duration in each category tt2\n",
    "data.merge(randstab, on='pair').groupby(['stability','tt2']).pair.apply(lambda x: len(set(x))).reset_index()\\\n",
    "                               .groupby(['stability']).pair.apply(np.sum)"
   ]
  },
  {
   "cell_type": "code",
   "execution_count": null,
   "id": "f6d85b11-6f4f-4d69-82c5-32c55ec98ac7",
   "metadata": {},
   "outputs": [],
   "source": [
    "# total contact duration in each category tt\n",
    "data.merge(randstab, on='pair').groupby(['stability','tt2']).pair.apply(lambda x: len(set(x))).reset_index()\\\n",
    "                               .groupby(['stability']).pair.apply(np.sum)"
   ]
  },
  {
   "cell_type": "code",
   "execution_count": null,
   "id": "6b6ce2bc-39ab-4250-9345-d6bd7ebd25af",
   "metadata": {},
   "outputs": [],
   "source": [
    "# total contact duration in each category day\n",
    "data.merge(randstab, on='pair').groupby(['stability','tt2']).pair.apply(lambda x: len(set(x))).reset_index()\\\n",
    "                               .groupby(['stability']).pair.apply(np.sum)"
   ]
  },
  {
   "cell_type": "markdown",
   "id": "3c2bbe81-3072-4c92-9b4f-5243a883a2b5",
   "metadata": {},
   "source": [
    "## contact number and duration per category for Germany"
   ]
  },
  {
   "cell_type": "code",
   "execution_count": null,
   "id": "dc5a0aab-f351-404c-a42c-eac1c4f1d0a8",
   "metadata": {},
   "outputs": [],
   "source": [
    "# number of pairs in each category by day\n",
    "connr = data.merge(randstab, on='pair').groupby(['day','stability']).pair.apply(lambda x: len(set(x))).reset_index()\n",
    "connr = connr.rename(columns={'pair':'nr'})\n",
    "connr"
   ]
  },
  {
   "cell_type": "code",
   "execution_count": null,
   "id": "58920769-8e2e-4a72-8dd9-d39b675b1cfb",
   "metadata": {},
   "outputs": [],
   "source": [
    "connr[connr.stability==0].nr.sum()"
   ]
  },
  {
   "cell_type": "code",
   "execution_count": null,
   "id": "3f9ec7e8-20c0-4e47-9d1d-52055447d8bf",
   "metadata": {},
   "outputs": [],
   "source": [
    "# total contact duration in each category by day\n",
    "condur = data.merge(randstab, on='pair').groupby(['day','stability','tt2']).pair.apply(lambda x: len(set(x))).reset_index()\\\n",
    "                                        .groupby(['day','stability']).pair.apply(np.sum).reset_index()\n",
    "condur = condur.rename(columns={'pair':'dur'})\n",
    "condur"
   ]
  },
  {
   "cell_type": "code",
   "execution_count": null,
   "id": "4350afe9-ccde-4779-9da7-7ebebb00342d",
   "metadata": {},
   "outputs": [],
   "source": [
    "condur[condur.stability==0].dur.sum()"
   ]
  },
  {
   "cell_type": "code",
   "execution_count": null,
   "id": "a24d7cf9-dd7a-439c-915e-572ffd3ef031",
   "metadata": {},
   "outputs": [],
   "source": [
    "sns.set_theme(style=\"ticks\")\n",
    "\n",
    "# Initialize a grid of plots with an Axes for each walk\n",
    "grid = sns.FacetGrid(connr, col=\"stability\", hue=\"stability\", palette=sns.color_palette(),#\"tab20c\",\n",
    "                     col_wrap=1, height=1.5, aspect=7.5)\n",
    "\n",
    "# Draw a horizontal line to show the starting point\n",
    "#grid.refline(y=0, linestyle=\":\")\n",
    "\n",
    "# Draw a line plot to show the trajectory of each random walk\n",
    "grid.map(plt.plot, \"day\", \"nr\", marker=\"o\", ms=1)\n",
    "\n",
    "# Adjust the tick positions and labels\n",
    "#grid.set(xticks=[d for d in sorted(set(d2n.day)) if d.weekday()==5 and d.isocalendar()[1]%2==0],# yticks=[],\n",
    "#         xlim=(d2n.day.min()-timedelta(3), d2n.day.max()+timedelta(3)), ylim=(max(.5,d2n.stime.min()), d2n.stime.max()))\n",
    "\n",
    "# Adjust the arrangement of the plots\n",
    "grid.fig.tight_layout(w_pad=1)\n",
    "\n",
    "for ax in grid.axes.flat:\n",
    "    ax.set_yscale('log')"
   ]
  },
  {
   "cell_type": "code",
   "execution_count": null,
   "id": "eb8d422e-26d6-466f-88b8-20bf02a3f3c4",
   "metadata": {},
   "outputs": [],
   "source": [
    "sns.set_theme(style=\"ticks\")\n",
    "\n",
    "# Initialize a grid of plots with an Axes for each walk\n",
    "grid = sns.FacetGrid(condur, col=\"stability\", hue=\"stability\", palette=sns.color_palette(),#\"tab20c\",\n",
    "                     col_wrap=1, height=1.5, aspect=7.5)\n",
    "\n",
    "# Draw a horizontal line to show the starting point\n",
    "#grid.refline(y=0, linestyle=\":\")\n",
    "\n",
    "# Draw a line plot to show the trajectory of each random walk\n",
    "grid.map(plt.plot, \"day\", \"dur\", marker=\"o\", ms=1)\n",
    "\n",
    "# Adjust the tick positions and labels\n",
    "#grid.set(xticks=[d for d in sorted(set(d2n.day)) if d.weekday()==5 and d.isocalendar()[1]%2==0],# yticks=[],\n",
    "#         xlim=(d2n.day.min()-timedelta(3), d2n.day.max()+timedelta(3)), ylim=(max(.5,d2n.stime.min()), d2n.stime.max()))\n",
    "\n",
    "# Adjust the arrangement of the plots\n",
    "grid.fig.tight_layout(w_pad=1)\n",
    "\n",
    "for ax in grid.axes.flat:\n",
    "    ax.set_yscale('log')"
   ]
  },
  {
   "cell_type": "code",
   "execution_count": null,
   "id": "df0f140d-bfe5-4c42-ae14-55bfb78e74c3",
   "metadata": {},
   "outputs": [],
   "source": [
    "conavg = connr.merge(condur, on=['day','stability'])\n",
    "conavg['avg'] = conavg.dur / conavg.nr\n",
    "conavg"
   ]
  },
  {
   "cell_type": "code",
   "execution_count": null,
   "id": "b7c18bf7-9fee-4bec-90d4-e89128927dc9",
   "metadata": {},
   "outputs": [],
   "source": [
    "sns.set_theme(style=\"ticks\")\n",
    "\n",
    "# Initialize a grid of plots with an Axes for each walk\n",
    "grid = sns.FacetGrid(conavg, col=\"stability\", hue=\"stability\", palette=sns.color_palette(),#\"tab20c\",\n",
    "                     col_wrap=1, height=1.5, aspect=7.5)\n",
    "\n",
    "# Draw a horizontal line to show the starting point\n",
    "#grid.refline(y=0, linestyle=\":\")\n",
    "\n",
    "# Draw a line plot to show the trajectory of each random walk\n",
    "grid.map(plt.plot, \"day\", \"avg\", marker=\"o\", ms=1)\n",
    "\n",
    "# Adjust the tick positions and labels\n",
    "#grid.set(xticks=[d for d in sorted(set(d2n.day)) if d.weekday()==5 and d.isocalendar()[1]%2==0],# yticks=[],\n",
    "#         xlim=(d2n.day.min()-timedelta(3), d2n.day.max()+timedelta(3)), ylim=(max(.5,d2n.stime.min()), d2n.stime.max()))\n",
    "\n",
    "# Adjust the arrangement of the plots\n",
    "grid.fig.tight_layout(w_pad=1)\n",
    "\n",
    "for ax in grid.axes.flat:\n",
    "    ax.set_yscale('log')"
   ]
  },
  {
   "cell_type": "markdown",
   "id": "029f2a0f-af65-4845-8793-1646bb46eeed",
   "metadata": {},
   "source": [
    "## contact number and duration per category for host cities"
   ]
  },
  {
   "cell_type": "code",
   "execution_count": null,
   "id": "e3b4eaf2-1b79-4fda-97f1-1478b4e95422",
   "metadata": {},
   "outputs": [],
   "source": [
    "query = f\"\"\"\n",
    "    with restricted as (\n",
    "    \tselect cn.*\n",
    "    \tfrom tuberlin_euro24_tileid as ti\n",
    "    \tjoin covid_network_sdkv6_{cdef} as cn on cn.tile_id = ti.tile_id\n",
    "        where\n",
    "                \"day\" between '{di}' and '{df}'\n",
    "    ),\n",
    "    cn_tmp as (\n",
    "        select\n",
    "                  tl{cdef[2]}\n",
    "                , geopoint\n",
    "                , \"day\"\n",
    "                , stime\n",
    "                , dids\n",
    "                --, sources\n",
    "             \t--, bool_or(u.dist_stad < csa.radius_in_meter) as in_stadium\n",
    "                --, min(u.area_id) as area_id\n",
    "            from restricted, unnest(area_ids, dist_stads) u(area_id, dist_stad)\n",
    "            left join cluster_search_areas_v2 csa on csa.area_id = u.area_id\n",
    "            --group by 1,2,3,4,7\n",
    "    ),\n",
    "    cities2 as (\n",
    "        select osm_id, \"name\", max(way_area) as way_area\n",
    "        from tuberlin_euro24_contour\n",
    "        group by 1,2\n",
    "    ),\n",
    "    cities3 as (\n",
    "        select c1.\"name\", c1.way\n",
    "        from tuberlin_euro24_contour as c1\n",
    "        join cities2 as c2 on c1.way_area = c2.way_area\n",
    "    ),\n",
    "    cn as (\n",
    "        select\n",
    "                  tl{cdef[2]}\n",
    "                , \"day\"\n",
    "                , stime\n",
    "                , unnest(dids) as did\n",
    "                --, sources\n",
    "        \t\t--, in_stadium\n",
    "                --, area_id\n",
    "                , \"name\" as city\n",
    "                , geopoint\n",
    "        from cn_tmp\n",
    "        join cities3 as c3 on st_contains(c3.way, cn_tmp.geopoint)\n",
    "    ),\n",
    "    cn_homes as (\n",
    "        select\n",
    "              tl{cdef[2]}\n",
    "            , \"day\"\n",
    "            , stime\n",
    "            , array_agg(cn.did order by cn.did) as dids\n",
    "            , city\n",
    "            , st_x(st_transform(geopoint, 4326)) as lon, st_y(st_transform(geopoint, 4326)) as lat\n",
    "            , array_agg(st_distance(st_transform(hw.weighted_centroid, 3857), geopoint) order by cn.did) as homedists\n",
    "        from cn\n",
    "        left join home_work_sdkv6 as hw on hw.valid_for = date_trunc('month', cn.\"day\") + INTERVAL '1 month' - INTERVAL '1 day'\n",
    "        and hw.did = cn.did and hw.place = 'home'\n",
    "        group by 1,2,3,5,6,7\n",
    "    )\n",
    "    select *\n",
    "    from cn_homes\n",
    "\"\"\""
   ]
  },
  {
   "cell_type": "code",
   "execution_count": null,
   "id": "041e866b-ea70-481a-83d2-7033eb006737",
   "metadata": {},
   "outputs": [],
   "source": [
    "data = pd.DataFrame(pd.read_sql_query(query, conn))\n",
    "data"
   ]
  },
  {
   "cell_type": "code",
   "execution_count": null,
   "id": "f2a58a92-86c8-4583-8b96-ace31a88132c",
   "metadata": {},
   "outputs": [],
   "source": [
    "data_sv = data.copy(deep=True)"
   ]
  },
  {
   "cell_type": "code",
   "execution_count": null,
   "id": "e5f2e2d3-b893-4ffc-9bc3-c8fb497acedf",
   "metadata": {},
   "outputs": [],
   "source": [
    "data = data_sv.copy(deep=True)"
   ]
  },
  {
   "cell_type": "code",
   "execution_count": null,
   "id": "9c17e236-1e51-46bf-a7db-fb6e56bc6ac0",
   "metadata": {},
   "outputs": [],
   "source": [
    "data = data.explode(['dids','homedists']).reset_index(drop=True)\n",
    "data = data.drop_duplicates()\n",
    "data = data.merge(data.drop(columns=['lon','lat']), on=['day','city','stime','tl7'])#,'tl7','inside_building','lon','lat'])\n",
    "data = data[data.dids_x != data.dids_y]\n",
    "pairs, dhome1s, dhome2s = [], [], []\n",
    "for did1, did2, dhome1, dhome2 in zip(data.dids_x, data.dids_y, data.homedists_x, data.homedists_y):\n",
    "    pair = f'{did1}_{did2}' if did1 < did2 else f'{did2}_{did1}'\n",
    "    #print(did1, did2, pair)\n",
    "    pairs.append(pair)\n",
    "    if did1 < did2:\n",
    "        dhome1s.append(dhome1)\n",
    "        dhome2s.append(dhome2)\n",
    "    else:\n",
    "        dhome1s.append(dhome2)\n",
    "        dhome2s.append(dhome1)\n",
    "data.loc[:,'pair'] = pairs\n",
    "data.loc[:,'dhome1'] = dhome1s\n",
    "data.loc[:,'dhome2'] = dhome2s\n",
    "data = data.drop(columns=['dids_x','dids_y','homedists_x','homedists_y','tl7'])\n",
    "data = data.drop_duplicates()\n",
    "dmin = data.day.min()\n",
    "#data['tt'] = data.day.apply(lambda d: (d-dmin).days)*24 + data.stime.dt.hour\n",
    "data['tt'] = data.day.apply(lambda d: (d-dmin).days)*24*6 + data.stime.dt.hour*6 + (data.stime.dt.minute//10)\n",
    "print(data.tt.max(), ((data.day.max()-dmin).days+1)*24, ((data.day.max()-dmin).days+1)*720)\n",
    "data"
   ]
  },
  {
   "cell_type": "code",
   "execution_count": null,
   "id": "a56c1d17-be63-4f53-910e-b144e96cf575",
   "metadata": {},
   "outputs": [],
   "source": [
    "data.to_csv('output/08_follow_didpairs_cities.csv', index=False)"
   ]
  },
  {
   "cell_type": "code",
   "execution_count": null,
   "id": "3a5c9706-44b5-4ef9-b0af-09689f0e6afc",
   "metadata": {},
   "outputs": [],
   "source": [
    "data = pd.read_csv('output/08_follow_didpairs_cities.csv')\n",
    "data['day'] = [d.date() for d in pd.to_datetime(data.day)]\n",
    "data['stime'] = pd.to_datetime(data.stime)"
   ]
  },
  {
   "cell_type": "code",
   "execution_count": null,
   "id": "937c39eb-2063-4009-9252-07620a105393",
   "metadata": {},
   "outputs": [],
   "source": [
    "data"
   ]
  },
  {
   "cell_type": "code",
   "execution_count": null,
   "id": "51b9c164-b333-4ec5-a089-0fda4f359f00",
   "metadata": {},
   "outputs": [],
   "source": [
    "data['tt2'] = data.day.apply(lambda d: (d-dmin).days)*24*6 + data.stime.dt.hour*6 + (data.stime.dt.minute//10)\n",
    "print(data.tt2.min(), data.tt2.max())"
   ]
  },
  {
   "cell_type": "code",
   "execution_count": null,
   "id": "92cce012-63df-4f9a-880e-729e01eb1ae3",
   "metadata": {},
   "outputs": [],
   "source": [
    "data"
   ]
  },
  {
   "cell_type": "code",
   "execution_count": null,
   "id": "488dce98-7ebf-481a-b570-01fc54c37eb3",
   "metadata": {},
   "outputs": [],
   "source": [
    "# number of pairs in each category by day\n",
    "connr = data.merge(randstab, on='pair').groupby(['day','city','stability']).pair.apply(lambda x: len(set(x))).reset_index()\n",
    "connr = connr.rename(columns={'pair':'nr'})\n",
    "connr"
   ]
  },
  {
   "cell_type": "code",
   "execution_count": null,
   "id": "efdb85b5-2977-42ff-b2ab-d1e7ce1e3658",
   "metadata": {},
   "outputs": [],
   "source": [
    "# total contact duration in each category by day\n",
    "condur = data.merge(randstab, on='pair').groupby(['day','city','stability','tt2']).pair.apply(lambda x: len(set(x))).reset_index()\\\n",
    "                                        .groupby(['day','city','stability']).pair.apply(np.sum).reset_index()\n",
    "condur = condur.rename(columns={'pair':'dur'})\n",
    "baseline = condur.groupby(['city','stability']).dur.apply(np.mean).reset_index().rename(columns={'dur':'baseline'})\n",
    "condur = condur.merge(baseline, on=['city','stability'])\n",
    "condur['to_baseline'] = condur.dur / condur.baseline\n",
    "condur"
   ]
  },
  {
   "cell_type": "code",
   "execution_count": null,
   "id": "dceee3bc-1eb3-4aad-a182-e3505566eee1",
   "metadata": {},
   "outputs": [],
   "source": [
    "city_list = sorted(set(data.city))"
   ]
  },
  {
   "cell_type": "code",
   "execution_count": null,
   "id": "058802f0-e81f-4287-b02a-ad883beab5f3",
   "metadata": {},
   "outputs": [],
   "source": [
    "sns.set_theme(style=\"ticks\")\n",
    "\n",
    "# Initialize a grid of plots with an Axes for each walk\n",
    "grid = sns.FacetGrid(connr, col=\"city\", hue=\"stability\", hue_order=[1,0], palette=sns.husl_palette(2),#sns.color_palette(),#\"tab20c\",\n",
    "                     col_wrap=1, height=2, aspect=5.5, row_order=city_list, legend_out=True)\n",
    "\n",
    "# Draw a horizontal line to show the starting point\n",
    "#grid.refline(y=0, linestyle=\":\")\n",
    "\n",
    "# Draw a line plot to show the trajectory of each random walk\n",
    "grid.map(plt.plot, \"day\", \"nr\", marker=\"o\", ms=1)\n",
    "\n",
    "# Adjust the tick positions and labels\n",
    "#grid.set(xticks=[d for d in sorted(set(d2n.day)) if d.weekday()==5 and d.isocalendar()[1]%2==0],# yticks=[],\n",
    "#         xlim=(d2n.day.min()-timedelta(3), d2n.day.max()+timedelta(3)), ylim=(max(.5,d2n.stime.min()), d2n.stime.max()))\n",
    "\n",
    "ylimup, ylimdown = 1.2*connr.nr.max(), 1./1.2*connr.nr.min()\n",
    "axes = grid.axes.flat\n",
    "holis = [date(2024,5,1), date(2024,5,9), date(2024,5,20)]\n",
    "for ax, city in zip(axes, city_list):\n",
    "    if True:#for ax in ax_row:\n",
    "        ax.set_ylabel('detected contacts')\n",
    "        #ax.plot([data_here.day.min(), data_here.day.max()], [1,1], c='gray')\n",
    "        ax.set_title(city)\n",
    "        ax.set_xticks(list(set(data.day)))\n",
    "        ax.set_xticklabels([str(d.month).zfill(2)+'/'+str(d.day).zfill(2) if d.weekday()==6 else '' for d in list(set(data.day))])#, rotation=90)\n",
    "        #lower = set(data.city)\n",
    "        #ax.fill_between([data.day.min(), data.day.max()], [1,1]\n",
    "        matches_here = match_data[match_data.city==city]\n",
    "        for day, match in zip(matches_here.day, matches_here.match):\n",
    "            if day >= data.day.min() and day <= data.day.max():\n",
    "                if connr[(connr.day==day) & (connr.city==city)].nr.max() < 5e2:\n",
    "                    ax.text(day, ylimup, match, rotation=90, ha='center', va='top', fontsize=10)\n",
    "                else:\n",
    "                    ax.text(day, 1.2*ylimdown, match, rotation=90, ha='center', va='bottom', fontsize=10)\n",
    "        day_start = vac_data[vac_data.city==city].day_start.iloc[0]\n",
    "        day_end = min(vac_data[vac_data.city==city].day_end.iloc[0], data.day.max())\n",
    "        if day_end > day_start:\n",
    "            ax.fill_between([day_start, day_end], [ylimdown]*2, [ylimup]*2, color='gray', alpha=.25)\n",
    "        ax.set_ylim([ylimdown, ylimup])\n",
    "\n",
    "        for holi in holis:\n",
    "            ax.fill_between([holi-timedelta(1), holi+timedelta(1)], [0]*2, [ylimup]*2, color='C3', alpha=.25)\n",
    "        if city in ['Frankfurt am Main','München','Köln','Düsseldorf','Dortmund','Gelsenkirchen','Stuttgart']:\n",
    "            holi = date(2024,5,30)\n",
    "            ax.fill_between([holi-timedelta(1), holi+timedelta(1)], [0]*2, [ylimup]*2, color='C3', alpha=.25)\n",
    "        ax.set_yscale('log')\n",
    "\n",
    "grid.add_legend(title='category of contact')#, bbox_to_anchor=(1, 1), loc=\"center left\")\n",
    "lg = grid._legend\n",
    "for tx in lg.texts:\n",
    "    if tx.get_text() == '1':\n",
    "        tx.set_text('recurrent')\n",
    "    elif tx.get_text() == '0':\n",
    "        tx.set_text('random')\n",
    "\n",
    "# Adjust the arrangement of the plots\n",
    "#grid.fig.tight_layout(w_pad=1)\n",
    "\n",
    "#plt.savefig(f'plots/fig4_{cdef_alt}/08_stable_random_contacts_cities_number.jpg', bbox_inches='tight', dpi=300)\n",
    "#plt.savefig(f'plots/fig4_{cdef_alt}/08_stable_random_contacts_cities_number.pdf', bbox_inches='tight')\n",
    "plt.show()"
   ]
  },
  {
   "cell_type": "code",
   "execution_count": null,
   "id": "711fe5ad-c9b1-4444-9bda-166e87cd3a47",
   "metadata": {},
   "outputs": [],
   "source": [
    "sns.set_theme(style=\"ticks\")\n",
    "\n",
    "# Initialize a grid of plots with an Axes for each walk\n",
    "grid = sns.FacetGrid(condur, col=\"city\", hue=\"stability\", hue_order=[1,0], palette=sns.husl_palette(2),#sns.color_palette(),#\"tab20c\",\n",
    "                     col_wrap=1, height=2, aspect=5.5, row_order=city_list, legend_out=True)\n",
    "\n",
    "# Draw a horizontal line to show the starting point\n",
    "#grid.refline(y=0, linestyle=\":\")\n",
    "\n",
    "# Draw a line plot to show the trajectory of each random walk\n",
    "grid.map(plt.plot, \"day\", \"dur\", marker=\"o\", ms=1)\n",
    "\n",
    "# Adjust the tick positions and labels\n",
    "#grid.set(xticks=[d for d in sorted(set(d2n.day)) if d.weekday()==5 and d.isocalendar()[1]%2==0],# yticks=[],\n",
    "#         xlim=(d2n.day.min()-timedelta(3), d2n.day.max()+timedelta(3)), ylim=(max(.5,d2n.stime.min()), d2n.stime.max()))\n",
    "\n",
    "ylimup, ylimdown = 1.2*condur.dur.max(), 1./1.2*condur.dur.min()\n",
    "axes = grid.axes.flat\n",
    "holis = [date(2024,5,1), date(2024,5,9), date(2024,5,20)]\n",
    "for ax, city in zip(axes, city_list):\n",
    "    if True:#for ax in ax_row:\n",
    "        ax.set_ylabel('contact duration')\n",
    "        #ax.plot([data_here.day.min(), data_here.day.max()], [1,1], c='gray')\n",
    "        ax.set_title(city)\n",
    "        ax.set_xticks(list(set(data.day)))\n",
    "        ax.set_xticklabels([str(d.month).zfill(2)+'/'+str(d.day).zfill(2) if d.weekday()==6 else '' for d in list(set(data.day))])#, rotation=90)\n",
    "        #lower = set(data.city)\n",
    "        #ax.fill_between([data.day.min(), data.day.max()], [1,1]\n",
    "        matches_here = match_data[match_data.city==city]\n",
    "        for day, match in zip(matches_here.day, matches_here.match):\n",
    "            if day >= data.day.min() and day <= data.day.max():\n",
    "                if condur[(condur.day==day) & (condur.city==city)].dur.max() < 5e2:\n",
    "                    ax.text(day, ylimup, match, rotation=90, ha='center', va='top', fontsize=10)\n",
    "                else:\n",
    "                    ax.text(day, 1.2*ylimdown, match, rotation=90, ha='center', va='bottom', fontsize=10)\n",
    "        day_start = vac_data[vac_data.city==city].day_start.iloc[0]\n",
    "        day_end = min(vac_data[vac_data.city==city].day_end.iloc[0], data.day.max())\n",
    "        if day_end > day_start:\n",
    "            ax.fill_between([day_start, day_end], [ylimdown]*2, [ylimup]*2, color='gray', alpha=.25)\n",
    "        ax.set_ylim([ylimdown, ylimup])\n",
    "\n",
    "        for holi in holis:\n",
    "            ax.fill_between([holi-timedelta(1), holi+timedelta(1)], [0]*2, [ylimup]*2, color='C3', alpha=.25)\n",
    "        if city in ['Frankfurt am Main','München','Köln','Düsseldorf','Dortmund','Gelsenkirchen','Stuttgart']:\n",
    "            holi = date(2024,5,30)\n",
    "            ax.fill_between([holi-timedelta(1), holi+timedelta(1)], [0]*2, [ylimup]*2, color='C3', alpha=.25)\n",
    "        ax.set_yscale('log')\n",
    "\n",
    "grid.add_legend(title='category of contact')#, bbox_to_anchor=(1, 1), loc=\"center left\")\n",
    "lg = grid._legend\n",
    "for tx in lg.texts:\n",
    "    if tx.get_text() == '1':\n",
    "        tx.set_text('recurrent')\n",
    "    elif tx.get_text() == '0':\n",
    "        tx.set_text('random')\n",
    "\n",
    "# Adjust the arrangement of the plots\n",
    "#grid.fig.tight_layout(w_pad=1)\n",
    "\n",
    "#plt.savefig(f'plots/fig4_{cdef_alt}/08_stable_random_contacts_cities_duration.jpg', bbox_inches='tight', dpi=300)\n",
    "#plt.savefig(f'plots/fig4_{cdef_alt}/08_stable_random_contacts_cities_duration.pdf', bbox_inches='tight')\n",
    "plt.show()"
   ]
  },
  {
   "cell_type": "code",
   "execution_count": null,
   "id": "aea546a7-4984-4156-a565-e9c0be778c05",
   "metadata": {},
   "outputs": [],
   "source": [
    "conavg = connr.merge(condur, on=['day','city','stability'])\n",
    "conavg['avg'] = conavg.dur / conavg.nr\n",
    "conavg"
   ]
  },
  {
   "cell_type": "code",
   "execution_count": null,
   "id": "ab975572-48f8-4150-a8ae-83415d4d6cdb",
   "metadata": {},
   "outputs": [],
   "source": [
    "sns.set_theme(style=\"ticks\")\n",
    "\n",
    "# Initialize a grid of plots with an Axes for each walk\n",
    "grid = sns.FacetGrid(conavg, col=\"city\", hue=\"stability\", hue_order=[1,0], palette=sns.husl_palette(2),#sns.color_palette(),#\"tab20c\",\n",
    "                     col_wrap=1, height=2, aspect=5.5, row_order=city_list, legend_out=True)\n",
    "\n",
    "# Draw a horizontal line to show the starting point\n",
    "#grid.refline(y=0, linestyle=\":\")\n",
    "\n",
    "# Draw a line plot to show the trajectory of each random walk\n",
    "grid.map(plt.plot, \"day\", \"avg\", marker=\"o\", ms=1)\n",
    "\n",
    "# Adjust the tick positions and labels\n",
    "#grid.set(xticks=[d for d in sorted(set(d2n.day)) if d.weekday()==5 and d.isocalendar()[1]%2==0],# yticks=[],\n",
    "#         xlim=(d2n.day.min()-timedelta(3), d2n.day.max()+timedelta(3)), ylim=(max(.5,d2n.stime.min()), d2n.stime.max()))\n",
    "\n",
    "ylimup, ylimdown = 1.2*conavg.avg.max(), 1./1.2*conavg.avg.min()\n",
    "axes = grid.axes.flat\n",
    "holis = [date(2024,5,1), date(2024,5,9), date(2024,5,20)]\n",
    "for ax, city in zip(axes, city_list):\n",
    "    if True:#for ax in ax_row:\n",
    "        ax.set_ylabel('rel. duration per contact')\n",
    "        #ax.plot([data_here.day.min(), data_here.day.max()], [1,1], c='gray')\n",
    "        ax.set_title(city)\n",
    "        ax.set_xticks(list(set(data.day)))\n",
    "        ax.set_xticklabels([str(d.month).zfill(2)+'/'+str(d.day).zfill(2) if d.weekday()==6 else '' for d in list(set(data.day))])#, rotation=90)\n",
    "        #lower = set(data.city)\n",
    "        #ax.fill_between([data.day.min(), data.day.max()], [1,1]\n",
    "        matches_here = match_data[match_data.city==city]\n",
    "        for day, match in zip(matches_here.day, matches_here.match):\n",
    "            if day >= data.day.min() and day <= data.day.max():\n",
    "                if True:#conavg[(conavg.day==day) & (conavg.city==city)].avg.max() < 5e2:\n",
    "                    ax.text(day, ylimup, match, rotation=90, ha='center', va='top', fontsize=10)\n",
    "                else:\n",
    "                    ax.text(day, 1.2*ylimdown, match, rotation=90, ha='center', va='bottom', fontsize=10)\n",
    "        day_start = vac_data[vac_data.city==city].day_start.iloc[0]\n",
    "        day_end = min(vac_data[vac_data.city==city].day_end.iloc[0], data.day.max())\n",
    "        if day_end > day_start:\n",
    "            ax.fill_between([day_start, day_end], [ylimdown]*2, [ylimup]*2, color='gray', alpha=.25)\n",
    "        ax.set_ylim([ylimdown, ylimup])\n",
    "\n",
    "        for holi in holis:\n",
    "            ax.fill_between([holi-timedelta(1), holi+timedelta(1)], [0]*2, [ylimup]*2, color='C3', alpha=.25)\n",
    "        if city in ['Frankfurt am Main','München','Köln','Düsseldorf','Dortmund','Gelsenkirchen','Stuttgart']:\n",
    "            holi = date(2024,5,30)\n",
    "            ax.fill_between([holi-timedelta(1), holi+timedelta(1)], [0]*2, [ylimup]*2, color='C3', alpha=.25)\n",
    "        #ax.set_yscale('log')\n",
    "\n",
    "grid.add_legend(title='category of contact')#, bbox_to_anchor=(1, 1), loc=\"center left\")\n",
    "lg = grid._legend\n",
    "for tx in lg.texts:\n",
    "    if tx.get_text() == '1':\n",
    "        tx.set_text('recurrent')\n",
    "    elif tx.get_text() == '0':\n",
    "        tx.set_text('random')\n",
    "\n",
    "# Adjust the arrangement of the plots\n",
    "#grid.fig.tight_layout(w_pad=1)\n",
    "\n",
    "#plt.savefig(f'plots/fig4_{cdef_alt}/08_stable_random_contacts_cities_durationpercontact.jpg', bbox_inches='tight', dpi=300)\n",
    "#plt.savefig(f'plots/fig4_{cdef_alt}/08_stable_random_contacts_cities_durationpercontact.pdf', bbox_inches='tight')\n",
    "plt.show()"
   ]
  },
  {
   "cell_type": "markdown",
   "id": "7dae10dc-0006-4b41-b899-a8e1af1ea81d",
   "metadata": {},
   "source": [
    "## random vs. stable contacts and home distances"
   ]
  },
  {
   "cell_type": "code",
   "execution_count": null,
   "id": "89057a31-3aaa-4880-bd4e-3aad981438c5",
   "metadata": {},
   "outputs": [],
   "source": [
    "dayh = [date(2024,7,17),date(2024,7,18),date(2024,7,19)]\n",
    "dist_cmp_pos = data[(data.city=='Gelsenkirchen') & (data.day.isin(dayh))]\n",
    "dist_cmp_pos['event'] = True\n",
    "dist_cmp_neg = data[(data.city=='Gelsenkirchen') & (data.day.isin([d-timedelta(7) for d in dayh]))]\n",
    "dist_cmp_neg['event'] = False\n",
    "dist_cmp = pd.concat([dist_cmp_pos, dist_cmp_neg]).merge(randstab, on='pair')\n",
    "daily_dur = dist_cmp.groupby(['day','pair']).tt2.apply(lambda x: len(set(x))).reset_index().rename(columns={'tt2':'dur'})\n",
    "dist_cmp = dist_cmp.merge(daily_dur, on=['day','pair'])\n",
    "dist_cmp"
   ]
  },
  {
   "cell_type": "code",
   "execution_count": null,
   "id": "a82c3293-a8da-40e2-ae7b-b653ad6145b9",
   "metadata": {},
   "outputs": [],
   "source": [
    "dist_cmp = data.merge(match_data[['day','city','area_id']], on=['day','city'], how='left')\n",
    "dist_cmp['event'] = ~dist_cmp.area_id.isna()\n",
    "dist_cmp = dist_cmp.merge(randstab, on='pair')\n",
    "daily_dur = dist_cmp.groupby(['day','pair']).tt2.apply(lambda x: len(set(x))).reset_index().rename(columns={'tt2':'dur'})\n",
    "dist_cmp = dist_cmp.merge(daily_dur, on=['day','pair'])\n",
    "dist_cmp"
   ]
  },
  {
   "cell_type": "code",
   "execution_count": null,
   "id": "944b8c67-4622-44be-ad22-f2f8ff2995fb",
   "metadata": {},
   "outputs": [],
   "source": [
    "match_base = match_data[['day','city','area_id']]\n",
    "match_base['day'] = [d-timedelta(7) for d in match_base.day]\n",
    "match_base['area_id'] = np.nan"
   ]
  },
  {
   "cell_type": "code",
   "execution_count": null,
   "id": "257ea0c2-82fe-4c7c-97c6-6a84eb321ca3",
   "metadata": {},
   "outputs": [],
   "source": [
    "dist_cmp_pos = data.merge(match_data[['day','city','area_id']], on=['day','city'])\n",
    "dist_cmp_pos['event'] = True\n",
    "dist_cmp_neg = data.merge(match_base[['day','city','area_id']], on=['day','city'])\n",
    "dist_cmp_neg['event'] = False\n",
    "dist_cmp = pd.concat([dist_cmp_pos, dist_cmp_neg]).merge(randstab, on='pair')\n",
    "daily_dur = dist_cmp.groupby(['day','pair']).tt2.apply(lambda x: len(set(x))).reset_index().rename(columns={'tt2':'dur'})\n",
    "dist_cmp = dist_cmp.merge(daily_dur, on=['day','pair'])\n",
    "dist_cmp"
   ]
  },
  {
   "cell_type": "code",
   "execution_count": null,
   "id": "2ba34e77-78b5-4061-b8b5-f1b94823f31c",
   "metadata": {},
   "outputs": [],
   "source": [
    "dist_cmp['dhome1'], dist_cmp['dhome2'] = np.where(dist_cmp['dhome1'] > dist_cmp['dhome2'],\\\n",
    "                                                  (dist_cmp['dhome2'], dist_cmp['dhome1']),\\\n",
    "                                                  (dist_cmp['dhome1'], dist_cmp['dhome2']))\n",
    "dist_cmp['dhome1'] /= 1e3\n",
    "dist_cmp['dhome2'] /= 1e3\n",
    "dist_cmp['dur'] *= 1e1\n",
    "dist_cmp"
   ]
  },
  {
   "cell_type": "code",
   "execution_count": null,
   "id": "63f4cfad-127b-430b-ae54-afe0fd222d67",
   "metadata": {},
   "outputs": [],
   "source": [
    "# Draw a scatter plot while assigning point colors and sizes to different\n",
    "# variables in the dataset\n",
    "f, ax = plt.subplots(figsize=(6.5, 6.5))\n",
    "sns.despine(f, left=True, bottom=True)\n",
    "#clarity_ranking = [\"I1\", \"SI2\", \"SI1\", \"VS2\", \"VS1\", \"VVS2\", \"VVS1\", \"IF\"]\n",
    "g = sns.scatterplot(x=\"dhome1\", y=\"dhome2\",\n",
    "                hue=\"event\", size=\"dur\",\n",
    "                style=\"stability\",\n",
    "                palette=\"ch:r=-.2,d=.3_r\",\n",
    "                #hue_order=clarity_ranking,\n",
    "                sizes=(1, 80), linewidth=0,\n",
    "                data=dist_cmp[dist_cmp.city=='Gelsenkirchen'], ax=ax)\n",
    "ax.set_xscale('symlog', linthresh=1e-1)\n",
    "ax.set_yscale('symlog', linthresh=1e-1)\n",
    "plt.legend(loc=\"upper left\", bbox_to_anchor=(1, 1))"
   ]
  },
  {
   "cell_type": "code",
   "execution_count": null,
   "id": "133fd2a3-4a43-4fa9-83ea-84f2e236e37b",
   "metadata": {},
   "outputs": [],
   "source": [
    "g = sns.relplot(\n",
    "    data=dist_cmp, x=\"dhome1\", y=\"dhome2\",\n",
    "    col=\"event\", hue=\"stability\", size=\"dur\",# style=\"day\",\n",
    "    kind=\"scatter\",\n",
    "    palette=sns.husl_palette(2),#\"ch:r=-.2,d=.3_r\",\n",
    "    #hue_order=clarity_ranking,\n",
    "    sizes=(.1, 25), linewidth=0,\n",
    ")\n",
    "for ax in g.axes.flat:\n",
    "    ax.set_xscale('symlog', linthresh=1e-1)\n",
    "    ax.set_yscale('symlog', linthresh=1e-1)\n",
    "    ax.set_xlim([0, 2e3])\n",
    "    ax.set_ylim([0, 2e3])\n",
    "    ax.set_xlabel('distance of contact to home of device 1 [km]')\n",
    "    ax.set_ylabel('distance of contact to home of device 2 [km]')\n",
    "    ax.set_aspect('equal')\n",
    "#g.add_legend(title='category of contact')#, bbox_to_anchor=(1, 1), loc=\"center left\")\n",
    "lg = g._legend\n",
    "for tx in lg.texts:\n",
    "    if tx.get_text() == 'stability':\n",
    "        tx.set_text('category')\n",
    "    elif tx.get_text() == '1':\n",
    "        tx.set_text('recurrent')\n",
    "    elif tx.get_text() == '0':\n",
    "        tx.set_text('random')\n",
    "    elif tx.get_text() == 'dur':\n",
    "        tx.set_text('duration [min]')\n",
    "g.tight_layout()\n",
    "\n",
    "plt.savefig(f'plots/fig1_{cdef_alt}/08_stable_random_homedist_germany.jpg', bbox_inches='tight', dpi=300)\n",
    "plt.savefig(f'plots/fig1_{cdef_alt}/08_stable_random_homedist_germany.pdf', bbox_inches='tight')\n",
    "plt.show()"
   ]
  },
  {
   "cell_type": "code",
   "execution_count": null,
   "id": "0ccd5998-d857-4f83-b37d-c3adc85f5373",
   "metadata": {},
   "outputs": [],
   "source": [
    "g = sns.relplot(\n",
    "    data=dist_cmp[dist_cmp.city=='Gelsenkirchen'], x=\"dhome1\", y=\"dhome2\",\n",
    "    col=\"event\", hue=\"stability\", size=\"dur\",# style=\"day\",\n",
    "    kind=\"scatter\",\n",
    "    palette=sns.husl_palette(2),#\"ch:r=-.2,d=.3_r\",\n",
    "    #hue_order=clarity_ranking,\n",
    "    sizes=(.1, 25), linewidth=0,\n",
    ")\n",
    "for ax in g.axes.flat:\n",
    "    ax.set_xscale('symlog', linthresh=1e-1)\n",
    "    ax.set_yscale('symlog', linthresh=1e-1)\n",
    "    ax.set_xlim([0, 2e3])\n",
    "    ax.set_ylim([0, 2e3])\n",
    "    ax.set_xlabel('distance of contact to home of device 1 [km]')\n",
    "    ax.set_ylabel('distance of contact to home of device 2 [km]')\n",
    "    ax.set_aspect('equal')\n",
    "#g.add_legend(title='category of contact')#, bbox_to_anchor=(1, 1), loc=\"center left\")\n",
    "lg = g._legend\n",
    "for tx in lg.texts:\n",
    "    if tx.get_text() == 'stability':\n",
    "        tx.set_text('category')\n",
    "    elif tx.get_text() == '1':\n",
    "        tx.set_text('recurrent')\n",
    "    elif tx.get_text() == '0':\n",
    "        tx.set_text('random')\n",
    "    elif tx.get_text() == 'dur':\n",
    "        tx.set_text('duration [min]')\n",
    "g.tight_layout()\n",
    "\n",
    "plt.savefig(f'plots/fig1_{cdef_alt}/08_stable_random_homedist_city.jpg', bbox_inches='tight', dpi=300)\n",
    "plt.savefig(f'plots/fig1_{cdef_alt}/08_stable_random_homedist_city.pdf', bbox_inches='tight')\n",
    "plt.show()"
   ]
  },
  {
   "cell_type": "code",
   "execution_count": null,
   "id": "aaa5c409-2019-4866-a705-2cdf26bd9190",
   "metadata": {},
   "outputs": [],
   "source": []
  }
 ],
 "metadata": {
  "kernelspec": {
   "display_name": "Python 3 (ipykernel)",
   "language": "python",
   "name": "python3"
  },
  "language_info": {
   "codemirror_mode": {
    "name": "ipython",
    "version": 3
   },
   "file_extension": ".py",
   "mimetype": "text/x-python",
   "name": "python",
   "nbconvert_exporter": "python",
   "pygments_lexer": "ipython3",
   "version": "3.11.7"
  }
 },
 "nbformat": 4,
 "nbformat_minor": 5
}
