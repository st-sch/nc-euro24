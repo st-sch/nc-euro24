{
 "cells": [
  {
   "cell_type": "code",
   "execution_count": null,
   "id": "daac694c-ae1d-437f-bf77-90601e0a45e0",
   "metadata": {},
   "outputs": [],
   "source": [
    "import os, pytz, pandas as pd\n",
    "from datetime import date, datetime, timedelta\n",
    "from sqlalchemy import create_engine\n",
    "import matplotlib.pyplot as plt, seaborn as sns"
   ]
  },
  {
   "cell_type": "markdown",
   "id": "d3ac7b77-3ade-47e5-8d65-bce11901914d",
   "metadata": {},
   "source": [
    "## parameters"
   ]
  },
  {
   "cell_type": "code",
   "execution_count": null,
   "id": "95a53b73-156d-41ad-989a-cd9891228d34",
   "metadata": {},
   "outputs": [],
   "source": [
    "yeari, yearf = '2024', '2024'\n",
    "weeki, weekf = '18', '31'"
   ]
  },
  {
   "cell_type": "code",
   "execution_count": null,
   "id": "c19f80f7-725c-47d8-9adb-9bc3eb56340b",
   "metadata": {},
   "outputs": [],
   "source": [
    "di = datetime.strptime(f'{yeari}-{weeki}-1', \"%Y-%W-%w\").date()\n",
    "df = datetime.strptime(f'{yearf}-{weekf}-1', \"%Y-%W-%w\").date() + timedelta(6)\n",
    "ds = [di+timedelta(dt) for dt in range((df-di).days+1)]\n",
    "daylist = ds\n",
    "print(di, 'until', df)"
   ]
  },
  {
   "cell_type": "code",
   "execution_count": null,
   "id": "c9f1df73-80c9-4751-a7f4-aae229872b32",
   "metadata": {},
   "outputs": [],
   "source": [
    "cdef = 'tl7_10m'# 'tl5_10m' 'tl6_10m' 'tl7_10m' 'tl8_10m' 'tl8_60m'\n",
    "cdef_alt = '16m_10min'# tl5: 62 ... tl7: 16   tl8: 8"
   ]
  },
  {
   "cell_type": "markdown",
   "id": "02792cb2-b35d-46b5-87f1-d1e34685aa64",
   "metadata": {},
   "source": [
    "## database connection"
   ]
  },
  {
   "cell_type": "code",
   "execution_count": null,
   "id": "53d15932-b63a-483f-9be4-9c7c4395652e",
   "metadata": {},
   "outputs": [],
   "source": [
    "# database credentials\n",
    "db_usr, db_pwd = os.getenv('DB_USR'), os.getenv('DB_PWD') # your database user name and password\n",
    "# database login\n",
    "host, port, db = 'nc-health-data-prod.cluster-ccsgl7rk4urn.eu-central-1.rds.amazonaws.com', 5432, 'master'"
   ]
  },
  {
   "cell_type": "code",
   "execution_count": null,
   "id": "c6bc4897-9d3f-464f-9b2c-bf3ff270833e",
   "metadata": {},
   "outputs": [],
   "source": [
    "# for queries with output\n",
    "engine = create_engine('postgresql://'+db_usr+':'+db_pwd+'@'+host+':'+str(port)+'/'+db)\n",
    "conn = engine.connect()"
   ]
  },
  {
   "cell_type": "code",
   "execution_count": null,
   "id": "b590e586-eb37-4fbd-9fa3-443d4b0a3b5d",
   "metadata": {},
   "outputs": [],
   "source": [
    "conn.close()"
   ]
  },
  {
   "cell_type": "markdown",
   "id": "e85363e7-fd2c-4334-8706-d056522bd2e3",
   "metadata": {},
   "source": [
    "## POI contacts\n",
    "\n",
    "### shopping, outing, dining"
   ]
  },
  {
   "cell_type": "code",
   "execution_count": null,
   "id": "9a3f32cc-6606-4b63-8ce3-9225f857fd51",
   "metadata": {},
   "outputs": [],
   "source": [
    "query = f\"\"\"\n",
    "    with cn_poi as (\n",
    "    \tselect *\n",
    "    \tfrom covid_network_sdkv6_{cdef} as cn\n",
    "    \tjoin euro2024_poi as poi on poi.tile_id = cn.tile_id\n",
    "    \twhere \"day\" between '{str(di-timedelta(1))}' and '{str(df)}'\n",
    "        and st_contains(poi.way_polygon, st_transform(cn.geopoint, 3857))\n",
    "    )\n",
    "    select amenity, shop, \"day\", stime, dids, st_x(st_transform(geopoint, 4326)) as lon, st_y(st_transform(geopoint, 4326)) as lat, tl7--, way_polygon, geopoint\n",
    "    from cn_poi\n",
    "\"\"\"\n",
    "data_1 = pd.DataFrame(pd.read_sql_query(query, conn))"
   ]
  },
  {
   "cell_type": "code",
   "execution_count": null,
   "id": "6d46f06e-b3f3-4ce4-895d-bc71244bcd2e",
   "metadata": {},
   "outputs": [],
   "source": [
    "data_1['stime'] = data_1.stime.apply(lambda x: x.astimezone(pytz.timezone('Europe/Berlin')))\n",
    "data_1['day'] = data_1.stime.apply(lambda x: x.date())\n",
    "data_1 = data_1[(data_1.day >= di) & (data_1.day <= df)]"
   ]
  },
  {
   "cell_type": "code",
   "execution_count": null,
   "id": "e32f3897-befd-49a3-b19f-971a64e3d219",
   "metadata": {},
   "outputs": [],
   "source": [
    "data_sv = data_1.copy(deep=True)"
   ]
  },
  {
   "cell_type": "code",
   "execution_count": null,
   "id": "8e28382f-6b81-46b9-af62-15c6461fa008",
   "metadata": {},
   "outputs": [],
   "source": [
    "data_1 = data_sv.copy(deep=True)"
   ]
  },
  {
   "cell_type": "code",
   "execution_count": null,
   "id": "3b837f2b-7915-41f3-950c-2fb235ed3fca",
   "metadata": {},
   "outputs": [],
   "source": [
    "data_amenity = data_1[[col for col in data_1.columns if col!='shop']]\n",
    "data_amenity = data_amenity[~data_amenity.amenity.isna()]\n",
    "data_amenity = data_amenity[data_amenity.amenity.isin(['bar','restaurant','biergarten','pub','cafe'])]\n",
    "data_amenity = data_amenity.rename(columns={'amenity':'venue'})\n",
    "data_shop = data_1[[col for col in data_1.columns if col!='amenity']]\n",
    "data_shop = data_shop[~data_shop.shop.isna()]\n",
    "data_shop = data_shop[data_shop.shop.isin(['kiosk','supermarket','beverages'])]\n",
    "data_shop = data_shop.rename(columns={'shop':'venue'})\n",
    "data_1 = pd.concat([data_amenity, data_shop])\n",
    "data_1"
   ]
  },
  {
   "cell_type": "markdown",
   "id": "24f5ca0b-a854-47dd-bb1e-cdb058cd0232",
   "metadata": {},
   "source": [
    "### fan zones\n",
    "\n",
    "17707818\n",
    "178050313\n",
    "-7360802\n",
    "143672616\n",
    "-222512 146613649\n",
    "165636449\n",
    "172420880 (172341584)\n",
    "4218882\n",
    "-3538248\n",
    "4979228\n",
    "-3995902\n",
    "-6404164\n",
    "10053878\n",
    "3933618\n",
    "3990007\n",
    "507962489\n",
    "3996756\n",
    "231448110, 4567556, 503322108, 29065531, 147841549, 532727925 (line)\n",
    "-1769862\n",
    "417328807, 278980053, 417328805 (point)\n",
    "499593498\n",
    "24240304"
   ]
  },
  {
   "cell_type": "code",
   "execution_count": null,
   "id": "f206f385-e336-4452-8605-408bb63dca00",
   "metadata": {},
   "outputs": [],
   "source": [
    "query = f\"\"\"\n",
    "    with osm_polygons as (\n",
    "    \tselect osm_id, name, way\n",
    "    \tfrom planet_osm_polygon\n",
    "    \twhere osm_id in (17707818,178050313,-7360802,143672616,-222512,146613649,165636449,172420880,172341584,4218882,\n",
    "    \t\t\t\t\t -3538248,4979228,-3995902,-6404164,10053878,3933618,3990007,507962489,3996756,-1769862,499593498,24240304)\n",
    "    )\n",
    "    , osm_lines as (\n",
    "    \tselect osm_id, name, way\n",
    "    \tfrom planet_osm_line\n",
    "    \twhere osm_id in (231448110, 4567556, 503322108, 29065531, 147841549, 532727925)\n",
    "    )\n",
    "    , osm_points as (\n",
    "    \tselect osm_id, name, way\n",
    "    \tfrom planet_osm_point\n",
    "    \twhere osm_id in (417328807, 278980053, 417328805)\n",
    "    )\n",
    "    , osm as (\n",
    "    \tselect *\n",
    "    \tfrom osm_polygons\n",
    "    \tunion all\n",
    "    \tselect *\n",
    "    \tfrom osm_lines\n",
    "    \tunion all\n",
    "    \tselect *\n",
    "    \tfrom osm_points\n",
    "    )\n",
    "    select \"day\", stime, dids, st_x(st_transform(geopoint, 4326)) as lon, st_y(st_transform(geopoint, 4326)) as lat, tl7, osm.osm_id, osm.name--, cn.geopoint, osm.osm_id, osm.way\n",
    "    from covid_network_sdkv6_{cdef} as cn, osm\n",
    "    where \"day\" between '{str(di-timedelta(1))}' and '{str(df)}'\n",
    "    and st_distance(st_transform(cn.geopoint, 3857), osm.way) <= 100\n",
    "\"\"\"\n",
    "data_2 = pd.DataFrame(pd.read_sql_query(query, conn))\n",
    "data_2"
   ]
  },
  {
   "cell_type": "code",
   "execution_count": null,
   "id": "5f1b0192-a470-42db-b230-539363d7aa1a",
   "metadata": {},
   "outputs": [],
   "source": [
    "data_2['stime'] = data_2.stime.apply(lambda x: x.astimezone(pytz.timezone('Europe/Berlin')))\n",
    "data_2['day'] = data_2.stime.apply(lambda x: x.date())\n",
    "data_2 = data_2[(data_2.day >= di) & (data_2.day <= df)]"
   ]
  },
  {
   "cell_type": "code",
   "execution_count": null,
   "id": "5b350bcf-846c-4dd4-96f4-b000fb9282b4",
   "metadata": {},
   "outputs": [],
   "source": [
    "data_sv = data_2.copy(deep=True)"
   ]
  },
  {
   "cell_type": "code",
   "execution_count": null,
   "id": "0d71d4a9-fb18-4b32-9bfd-692050bf8abd",
   "metadata": {},
   "outputs": [],
   "source": [
    "data_2 = data_sv.copy(deep=True)"
   ]
  },
  {
   "cell_type": "code",
   "execution_count": null,
   "id": "043589af-4a8b-4b86-a707-1c587948a394",
   "metadata": {},
   "outputs": [],
   "source": [
    "city2zone = {\n",
    "    'Berlin':['Platz der Republik','Platz des 18. März','Straße des 17. Juni'],\n",
    "    'Hamburg':['Heiligengeistfeld'],\n",
    "    'Gelsenkirchen':['Nordsternpark','Nordsternplatz'],\n",
    "    'Dortmund':['Friedensplatz','Westfalenpark'],\n",
    "    'Düsseldorf':['Burgplatz','Gustav-Gründgens-Platz','Rheinpark','Rheinwerft'],\n",
    "    'Köln':['Aachener Weiher','Heumarkt'],\n",
    "    'Leipzig':['Dr.-Otto-Koch-Denkmal','Gellert-Denkmal','Moritzbastei','Robert-Koch-Park','Schiller-Denkmal','Tiefgarage Augustusplatz'],\n",
    "    'Stuttgart':['Karlsplatz','Marktplatz','Schillerplatz','Schlossplatz'],\n",
    "    'München':['Olympiapark / Olympiagelände'],\n",
    "    'Frankfurt am Main':['Nizza','Untermainkai'],\n",
    "}\n",
    "zone2city = {}\n",
    "for city, zones in city2zone.items():\n",
    "    for zone in zones:\n",
    "        zone2city[zone] = city\n",
    "data_2['city'] = data_2.name.map(zone2city)"
   ]
  },
  {
   "cell_type": "code",
   "execution_count": null,
   "id": "286746e3-153e-40ea-991a-7310c41b9968",
   "metadata": {},
   "outputs": [],
   "source": [
    "by_polygon = data_2.groupby(['day','city']).dids.apply(len).reset_index()\n",
    "c1 = pd.DataFrame(set(by_polygon.city), columns=['city'])\n",
    "c2 = pd.DataFrame([d.date() for d in pd.date_range(di, df)], columns=['day'])\n",
    "by_polygon = c1.merge(c2, how='cross').merge(by_polygon, on=['city','day'], how='left')\n",
    "by_polygon"
   ]
  },
  {
   "cell_type": "code",
   "execution_count": null,
   "id": "1cb5a048-6c8d-4ae8-b75a-8aebb37519f3",
   "metadata": {},
   "outputs": [],
   "source": [
    "# Draw a heatmap with the numeric values in each cell\n",
    "f, ax = plt.subplots(figsize=(12.5, 1.5))\n",
    "\n",
    "pivoted = by_polygon.pivot(index=\"city\", columns=\"day\", values=\"dids\")  # Reshape\n",
    "g = sns.heatmap(pivoted.fillna(0), cmap=\"coolwarm\", cbar=False, robust=True)#, **kwargs)\n",
    "\n",
    "g.set(yticks=[x+.5 for x in range(len(pivoted.index))])\n",
    "g.set_yticklabels(pivoted.index, rotation=0)\n",
    "\n",
    "# Set yticks for all subplots\n",
    "g.set(xticks=[x+.5 for x in range(len(set(data_2.day)))])\n",
    "g.set_xticklabels([str(d.month).zfill(2)+'/'+str(d.day).zfill(2) if d.weekday()==6 else '' for d in sorted(set(data_2.day))], rotation=0)\n",
    "g.set_ylabel('fanzone')\n",
    "\n",
    "plt.savefig(f'plots/fig3_{cdef_alt}/07_contacts_fanzone.jpg', bbox_inches='tight', dpi=300)\n",
    "plt.savefig(f'plots/fig3_{cdef_alt}/07_contacts_fanzone.pdf', bbox_inches='tight')\n",
    "plt.show()"
   ]
  },
  {
   "cell_type": "code",
   "execution_count": null,
   "id": "f7b9c5fa-622e-4141-aea9-3ab4eb419bf0",
   "metadata": {},
   "outputs": [],
   "source": [
    "data_2 = data_2.drop(columns=['osm_id','name'])\n",
    "data_2['venue'] = 'fanzone'\n",
    "data_2"
   ]
  },
  {
   "cell_type": "markdown",
   "id": "fc793997-0958-4f3b-b4e5-3c79964164f9",
   "metadata": {},
   "source": [
    "### all POI together"
   ]
  },
  {
   "cell_type": "code",
   "execution_count": null,
   "id": "42c5d639-eedc-4fb7-9fa9-9c93fb81fd43",
   "metadata": {},
   "outputs": [],
   "source": [
    "data = pd.concat([data_1, data_2])\n",
    "data"
   ]
  },
  {
   "cell_type": "code",
   "execution_count": null,
   "id": "03aaf31e-c8eb-4584-918b-a7b33d310437",
   "metadata": {},
   "outputs": [],
   "source": [
    "data = data.explode('dids').reset_index(drop=True)\n",
    "data = data.drop_duplicates()\n",
    "data = data.merge(data.drop(columns=['lon','lat','city']), on=['day','stime','tl7','venue',])#,'tl7','inside_building','lon','lat'])\n",
    "data = data[data.dids_x != data.dids_y]\n",
    "pairs = []\n",
    "for did1, did2 in zip(data.dids_x, data.dids_y):\n",
    "    pair = f'{did1}_{did2}' if did1 < did2 else f'{did2}_{did1}'\n",
    "    #print(did1, did2, pair)\n",
    "    pairs.append(pair)\n",
    "data.loc[:,'pair'] = pairs\n",
    "data = data.drop(columns=['dids_x','dids_y','tl7'])\n",
    "data = data.drop_duplicates()\n",
    "dmin = data.day.min()\n",
    "#data['tt'] = data.day.apply(lambda d: (d-dmin).days)*24 + data.stime.dt.hour\n",
    "data['tt'] = data.day.apply(lambda d: (d-dmin).days)*24*6 + data.stime.dt.hour*6 + (data.stime.dt.hour//10)\n",
    "print(data.tt.max(), ((data.day.max()-dmin).days+1)*24, ((data.day.max()-dmin).days+1)*720)\n",
    "data"
   ]
  },
  {
   "cell_type": "code",
   "execution_count": null,
   "id": "cab49e72-93ab-4201-884e-428842e148a3",
   "metadata": {},
   "outputs": [],
   "source": [
    "data.to_csv('output/07_poi_contacts.csv', index=False)"
   ]
  },
  {
   "cell_type": "code",
   "execution_count": null,
   "id": "1d80036b-8764-490c-9caf-8ec1c6391ae7",
   "metadata": {},
   "outputs": [],
   "source": [
    "data = pd.read_csv('output/07_poi_contacts.csv')\n",
    "data['day'] = [d.date() for d in pd.to_datetime(data.day)]\n",
    "data['stime'] = pd.to_datetime(data.stime)\n",
    "data['hour'] = data.stime.dt.hour"
   ]
  },
  {
   "cell_type": "code",
   "execution_count": null,
   "id": "cc570450-929a-4a46-adb1-cf463f571a21",
   "metadata": {},
   "outputs": [],
   "source": [
    "type2venue = {\n",
    "    'shopping':['supermarket','beverages','kiosk'],\n",
    "    'outing':['pub','bar','biergarten'],\n",
    "    'dining':['restaurant','cafe'],\n",
    "    'fanzone':['fanzone'],\n",
    "}\n",
    "venue2type = {}\n",
    "for cl, venues in type2venue.items():\n",
    "    for venue in venues:\n",
    "        venue2type[venue] = cl\n",
    "data['venue_type'] = data.venue.map(venue2type)\n",
    "data"
   ]
  },
  {
   "cell_type": "code",
   "execution_count": null,
   "id": "b6a73818-0d53-4d9c-883b-114df81bc9a6",
   "metadata": {},
   "outputs": [],
   "source": [
    "data.groupby('venue').pair.apply(len)"
   ]
  },
  {
   "cell_type": "code",
   "execution_count": null,
   "id": "e0274573-d11a-45ee-9e61-e8877dea3500",
   "metadata": {},
   "outputs": [],
   "source": [
    "data.groupby('venue_type').pair.apply(len)"
   ]
  },
  {
   "cell_type": "code",
   "execution_count": null,
   "id": "06a1a3df-d1df-4ebd-9f8b-11e2c3ae4b54",
   "metadata": {},
   "outputs": [],
   "source": [
    "for_heatmap = data.groupby(['venue_type','day','hour']).pair.apply(lambda x: len(set(x))).reset_index()\n",
    "c1 = pd.DataFrame(set(for_heatmap.venue_type), columns=['venue_type'])\n",
    "c2 = pd.DataFrame([d.date() for d in pd.date_range(di, df)], columns=['day'])\n",
    "c3 = pd.DataFrame(list(range(24)), columns=['hour'])\n",
    "for_heatmap = c1.merge(c2, how='cross').merge(c3, how='cross').merge(for_heatmap, on=['venue_type','day','hour'], how='left')\n",
    "for_heatmap"
   ]
  },
  {
   "cell_type": "code",
   "execution_count": null,
   "id": "3c8f0f76-812c-4357-9b8c-09c6e50273ce",
   "metadata": {},
   "outputs": [],
   "source": [
    "sns.set_theme(style=\"ticks\")\n",
    "\n",
    "# Function to plot a heatmap inside each facet\n",
    "def heatmap_func(data, **kwargs):\n",
    "    pivoted = data.pivot(index=\"hour\", columns=\"day\", values=\"pair\")  # Reshape\n",
    "    sns.heatmap(pivoted.loc[::-1], cmap=\"coolwarm\", cbar=False, robust=True, **kwargs)\n",
    "\n",
    "# Create a FacetGrid, grouping by 'category'\n",
    "g = sns.FacetGrid(for_heatmap.fillna(0), row=\"venue_type\", margin_titles=True, height=3, aspect=3.,\n",
    "                  row_order=['dining','outing','fanzone','shopping'])\n",
    "\n",
    "# Map the custom heatmap function to each facet\n",
    "g.map_dataframe(heatmap_func)\n",
    "\n",
    "# Set yticks for all subplots\n",
    "g.set(yticks=[24-x-.5 for x in range(0,24,2)], xticks=[x+.5 for x in range(len(set(data.day)))])\n",
    "g.set_yticklabels(list(range(0,24,2)), rotation=0)\n",
    "g.set_xticklabels([str(d.month).zfill(2)+'/'+str(d.day).zfill(2) if d.weekday()==6 else '' for d in sorted(set(data.day))], rotation=0)\n",
    "\n",
    "for ax in g.axes.flat:\n",
    "    #ax.set_title(ax.get_title().split('=')[1][1:])\n",
    "    ax.tick_params(axis=\"x\", labelbottom=True)\n",
    "\n",
    "# Modify margin titles\n",
    "g.set_titles(row_template=\"{row_name}\")#, col_template=\"{col_name}\", size=14, fontweight='bold')\n",
    "\n",
    "g.tight_layout()\n",
    "plt.savefig(f'plots/fig3_{cdef_alt}/07_contacts_poi.jpg', bbox_inches='tight', dpi=300)\n",
    "plt.savefig(f'plots/fig3_{cdef_alt}/07_contacts_poi.pdf', bbox_inches='tight')\n",
    "plt.show()"
   ]
  },
  {
   "cell_type": "code",
   "execution_count": null,
   "id": "028e1207-a99d-4067-b6a3-735ff64ff1e0",
   "metadata": {},
   "outputs": [],
   "source": [
    "for_heatmap['wd'] = for_heatmap.day.apply(lambda x: x.weekday())\n",
    "for_heatmap"
   ]
  },
  {
   "cell_type": "code",
   "execution_count": null,
   "id": "5b1089d8-a12b-4835-8dd6-ab4c9184a130",
   "metadata": {},
   "outputs": [],
   "source": [
    "baseline = for_heatmap[for_heatmap.day>=date(2024,6,3)].groupby(['venue','wd','hour']).pair.mean().reset_index().rename(columns={'pair':'baseline'})\n",
    "baseline"
   ]
  },
  {
   "cell_type": "code",
   "execution_count": null,
   "id": "e6b252f9-2a44-485a-8734-f69ffb80fd7f",
   "metadata": {},
   "outputs": [],
   "source": [
    "to_baseline = for_heatmap[for_heatmap.day>=date(2024,6,3)].merge(baseline, on=['venue','wd','hour'])\n",
    "to_baseline['to_baseline'] = to_baseline.pair / to_baseline.baseline\n",
    "to_baseline"
   ]
  },
  {
   "cell_type": "code",
   "execution_count": null,
   "id": "de20629e-75e7-4dfa-8ce9-5143f2b56520",
   "metadata": {},
   "outputs": [],
   "source": [
    "# Function to plot a heatmap inside each facet\n",
    "def heatmap_func(data, **kwargs):\n",
    "    pivoted = data.pivot(index=\"hour\", columns=\"day\", values=\"to_baseline\")  # Reshape\n",
    "    sns.heatmap(pivoted.loc[::-1], cmap=\"coolwarm\", cbar=True, center=1, robust=True, **kwargs)\n",
    "\n",
    "# Create a FacetGrid, grouping by 'category'\n",
    "g = sns.FacetGrid(to_baseline, row=\"venue\", margin_titles=True, height=3, aspect=4)\n",
    "\n",
    "# Map the custom heatmap function to each facet\n",
    "g.map_dataframe(heatmap_func)\n",
    "\n",
    "plt.show()"
   ]
  },
  {
   "cell_type": "code",
   "execution_count": null,
   "id": "7ce3c962-4c46-4a31-a40e-ca15bf7d9563",
   "metadata": {},
   "outputs": [],
   "source": []
  }
 ],
 "metadata": {
  "kernelspec": {
   "display_name": "Python 3 (ipykernel)",
   "language": "python",
   "name": "python3"
  },
  "language_info": {
   "codemirror_mode": {
    "name": "ipython",
    "version": 3
   },
   "file_extension": ".py",
   "mimetype": "text/x-python",
   "name": "python",
   "nbconvert_exporter": "python",
   "pygments_lexer": "ipython3",
   "version": "3.11.7"
  }
 },
 "nbformat": 4,
 "nbformat_minor": 5
}
