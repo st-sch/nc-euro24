{
 "cells": [
  {
   "cell_type": "code",
   "execution_count": null,
   "id": "92375d6e-7d2a-4ca9-99b6-bd4365b1d9d8",
   "metadata": {},
   "outputs": [],
   "source": [
    "import os, pandas as pd, networkx as nx, numpy as np, statsmodels.api as sm\n",
    "from sqlalchemy import create_engine\n",
    "from datetime import date, datetime, timedelta\n",
    "import matplotlib.pyplot as plt, seaborn as sns"
   ]
  },
  {
   "cell_type": "markdown",
   "id": "b8cd9a66-7989-4905-bf2e-91077e7cfc24",
   "metadata": {},
   "source": [
    "## parameters"
   ]
  },
  {
   "cell_type": "code",
   "execution_count": null,
   "id": "2c9b08c9-eefb-4c78-8189-7bb871773fbe",
   "metadata": {},
   "outputs": [],
   "source": [
    "yeari, yearf = '2024', '2024'\n",
    "weeki, weekf = '18', '31'"
   ]
  },
  {
   "cell_type": "code",
   "execution_count": null,
   "id": "e168adc1-efde-488a-bd92-b056f2782b3e",
   "metadata": {},
   "outputs": [],
   "source": [
    "di = datetime.strptime(f'{yeari}-{weeki}-1', \"%Y-%W-%w\").date()\n",
    "df = datetime.strptime(f'{yearf}-{weekf}-1', \"%Y-%W-%w\").date() + timedelta(6)\n",
    "ds = [di+timedelta(dt) for dt in range((df-di).days+1)]\n",
    "daylist = ds\n",
    "print(di, 'until', df)"
   ]
  },
  {
   "cell_type": "code",
   "execution_count": null,
   "id": "d5f377ea-ea62-48ad-ab2f-03712232beca",
   "metadata": {},
   "outputs": [],
   "source": [
    "cdef = 'tl7_10m'# 'tl5_10m' 'tl6_10m' 'tl7_10m' 'tl8_10m' 'tl8_60m'\n",
    "cdef_alt = '16m_10min'# tl5: 62 ... tl7: 16   tl8: 8"
   ]
  },
  {
   "cell_type": "markdown",
   "id": "4ca0054c-2a0e-41e2-af8b-ff80f38df31a",
   "metadata": {},
   "source": [
    "## load data"
   ]
  },
  {
   "cell_type": "code",
   "execution_count": null,
   "id": "496065e0-d215-4f8e-860e-49a14fc6349d",
   "metadata": {},
   "outputs": [],
   "source": [
    "# load stadium meta data\n",
    "stadname_data = pd.read_csv('output/00_stadname_data.csv')\n",
    "aid2name = {aid: name for aid, name in zip(stadname_data.area_id, stadname_data.area_name)}\n",
    "\n",
    "aid2city = {aid: city for aid, city in sorted({\n",
    "    1: 'München',\n",
    "    2: 'Berlin',\n",
    "    3: 'Leipzig',\n",
    "    4: 'Frankfurt am Main',\n",
    "    10: 'Dortmund',\n",
    "    11: 'Stuttgart',\n",
    "    15: 'Köln',\n",
    "    24: 'Düsseldorf',\n",
    "    25: 'Hamburg',\n",
    "    28: 'Gelsenkirchen',\n",
    "\n",
    "    16: 'Berlin',\n",
    "    29: 'Hamburg',\n",
    "    41: 'München',\n",
    "    64: 'Frankfurt am Main',\n",
    "}.items(), key=lambda item: item[1])}\n",
    "city2aid = {city: aid for aid, city in [(aid, city) for aid, city in aid2city.items()][::-1]}"
   ]
  },
  {
   "cell_type": "code",
   "execution_count": null,
   "id": "1ea204ac-3806-47a6-ac03-32a350dc2a60",
   "metadata": {},
   "outputs": [],
   "source": [
    "# n_c cities: load total contact numbers numbers for cities\n",
    "data = pd.read_csv(f'output/00_ncontacts_cities_{cdef}.csv')\n",
    "data['day'] = [d.date() for d in pd.to_datetime(data.day)]\n",
    "\n",
    "# n_d stadiums: load did numbers for stadiums\n",
    "panelstad_data2 = pd.read_csv('output/00_panelstad_data2.csv')\n",
    "panelstad_data2['day'] = [d.date() for d in pd.to_datetime(panelstad_data2.day)]\n",
    "\n",
    "# load mass event data\n",
    "match_data = pd.read_csv('output/00_event_data.csv')\n",
    "match_data['day'] = [d.date() for d in pd.to_datetime(match_data.day)]"
   ]
  },
  {
   "cell_type": "markdown",
   "id": "46add9f5-4768-4fa5-9a6c-04a633a05350",
   "metadata": {},
   "source": [
    "## plot stadium $n_c$ and $n_d$"
   ]
  },
  {
   "cell_type": "code",
   "execution_count": null,
   "id": "0603589c-4174-43d9-8619-70cdc4fe8880",
   "metadata": {},
   "outputs": [],
   "source": [
    "# n_c contact numbers\n",
    "data2 = data.copy(deep=True)\n",
    "data2 = data2[['day','city','area_id','ncontacts_2']]\n",
    "data2.rename(columns={'ncontacts_2':'n'}, inplace=True)\n",
    "data2['which'] = 'contacts'\n",
    "\n",
    "# n_d device numbers\n",
    "panelstad_data3 = panelstad_data2.copy(deep=True)\n",
    "panelstad_data3['city'] = [aid2city[aid] for aid in panelstad_data3.area_id]\n",
    "panelstad_data3.rename(columns={'ndids':'n'}, inplace=True)\n",
    "panelstad_data3['which'] = 'devices'\n",
    "\n",
    "# join both\n",
    "joint_data = pd.concat([data2, panelstad_data3])\n",
    "joint_data['n'] = [np.log10(n) if n>0 else 0 for n in joint_data.n]\n",
    "euro24_stadiums = [1,2,3,4,10,11,15,24,25,28]\n",
    "add_stadiums = [16,29,41,64]# additional stadiums not involved in EURO 2024\n",
    "joint_data = joint_data[joint_data.area_id.isin(euro24_stadiums + add_stadiums)]\n",
    "joint_data"
   ]
  },
  {
   "cell_type": "code",
   "execution_count": null,
   "id": "3ba1ce5d-73d8-465f-b2d8-5588fc31e2d7",
   "metadata": {
    "scrolled": true
   },
   "outputs": [],
   "source": [
    "sns.set_theme(style=\"ticks\")\n",
    "\n",
    "# Define the palette as a list to specify exact values\n",
    "palette = sns.husl_palette(2)#sns.color_palette(\"rocket_r\")\n",
    "\n",
    "# Plot the lines on two facets\n",
    "g = sns.relplot(\n",
    "    data=joint_data,\n",
    "    x=\"day\", y=\"n\",\n",
    "    hue=\"which\", hue_order=['devices','contacts'],\n",
    "    row=\"area_id\", row_order=list(aid2city.keys()),# size=\"which\",# col=\"align\",\n",
    "    kind=\"line\",# palette=palette,# size_order=[False, True], \n",
    "    height=2, aspect=4., facet_kws=dict(sharex=False),\n",
    "    alpha=.5\n",
    ")\n",
    "\n",
    "axes = g.axes\n",
    "holis = [date(2024,5,9), date(2024,5,20)]\n",
    "for ax_row, (aid, city) in zip(axes, aid2city.items()):\n",
    "    for ax in ax_row:\n",
    "        ax.set_ylabel('log10(count)')\n",
    "        ax.set_title(f\"{city.split(' ')[0]} - {aid2name[aid]}\")\n",
    "        #daylist = [di+timedelta(dt) for dt in range(1+(df-di).days)]\n",
    "        ax.set_xticks(daylist)\n",
    "        ax.set_xticklabels([str(d.month).zfill(2)+'/'+str(d.day).zfill(2) if d.weekday()==6 else '' for t,d in enumerate(daylist)])#, rotation=90)\n",
    "        #ax.set_xlim([di-timedelta(7), df+timedelta(7)])\n",
    "        ax.set_ylim([0., 3.])\n",
    "        matches_here = match_data[match_data.area_id==aid]\n",
    "        for day, match in zip(matches_here.day, matches_here.match):\n",
    "            if day in daylist:\n",
    "                ax.text(day, 3., match, rotation=90, ha='center', va='top')\n",
    "\n",
    "plt.savefig(f'plots/fig1_{cdef_alt}/02_panelcontactsstad.jpg', bbox_inches='tight', dpi=300)\n",
    "plt.savefig(f'plots/fig1_{cdef_alt}/02_panelcontactsstad.pdf', bbox_inches='tight')\n",
    "plt.show()"
   ]
  },
  {
   "cell_type": "code",
   "execution_count": null,
   "id": "7d8225cb-de44-41d4-b324-c0b8108d3781",
   "metadata": {
    "scrolled": true
   },
   "outputs": [],
   "source": [
    "sns.set_theme(style=\"ticks\")\n",
    "\n",
    "# Define the palette as a list to specify exact values\n",
    "palette = sns.husl_palette(2)#sns.color_palette(\"rocket_r\")\n",
    "\n",
    "# Plot the lines on two facets\n",
    "g = sns.relplot(\n",
    "    data=joint_data[joint_data.area_id.isin(list(aid2city.keys())[:7])],\n",
    "    x=\"day\", y=\"n\",\n",
    "    hue=\"which\", hue_order=['devices','contacts'],\n",
    "    row=\"area_id\", row_order=list(aid2city.keys())[:7],# size=\"which\",# col=\"align\",\n",
    "    kind=\"line\",# palette=palette,# size_order=[False, True], \n",
    "    height=2, aspect=4., facet_kws=dict(sharex=False),\n",
    "    alpha=.5\n",
    ")\n",
    "\n",
    "axes = g.axes\n",
    "holis = [date(2024,5,9), date(2024,5,20)]\n",
    "for ax_row, (aid, city) in zip(axes, [(aid, city) for (aid, city) in aid2city.items()][:7]):\n",
    "    for ax in ax_row:\n",
    "        ax.set_ylabel('log10(count)')\n",
    "        ax.set_title(f\"{city.split(' ')[0]} - {aid2name[aid]}\")\n",
    "        #daylist = [di+timedelta(dt) for dt in range(1+(df-di).days)]\n",
    "        ax.set_xticks(daylist)\n",
    "        ax.set_xticklabels([str(d.month).zfill(2)+'/'+str(d.day).zfill(2) if d.weekday()==6 else '' for t,d in enumerate(daylist)])#, rotation=90)\n",
    "        #ax.set_xlim([di-timedelta(7), df+timedelta(7)])\n",
    "        ax.set_ylim([0., 3.])\n",
    "        matches_here = match_data[match_data.area_id==aid]\n",
    "        for day, match in zip(matches_here.day, matches_here.match):\n",
    "            if day in daylist:\n",
    "                ax.text(day, 3., match, rotation=90, ha='center', va='top')\n",
    "\n",
    "plt.savefig(f'plots/fig1_{cdef_alt}/02_panelcontactsstad_1.jpg', bbox_inches='tight', dpi=300)\n",
    "plt.savefig(f'plots/fig1_{cdef_alt}/02_panelcontactsstad_1.pdf', bbox_inches='tight')\n",
    "plt.show()"
   ]
  },
  {
   "cell_type": "code",
   "execution_count": null,
   "id": "14b06bff-6a4f-4262-aab1-db3c2a58cc98",
   "metadata": {
    "scrolled": true
   },
   "outputs": [],
   "source": [
    "sns.set_theme(style=\"ticks\")\n",
    "\n",
    "# Define the palette as a list to specify exact values\n",
    "palette = sns.husl_palette(2)#sns.color_palette(\"rocket_r\")\n",
    "\n",
    "# Plot the lines on two facets\n",
    "g = sns.relplot(\n",
    "    data=joint_data[joint_data.area_id.isin(list(aid2city.keys())[7:])],\n",
    "    x=\"day\", y=\"n\",\n",
    "    hue=\"which\", hue_order=['devices','contacts'],\n",
    "    row=\"area_id\", row_order=list(aid2city.keys())[7:],# size=\"which\",# col=\"align\",\n",
    "    kind=\"line\",# palette=palette,# size_order=[False, True], \n",
    "    height=2, aspect=4., facet_kws=dict(sharex=False),\n",
    "    alpha=.5\n",
    ")\n",
    "\n",
    "axes = g.axes\n",
    "holis = [date(2024,5,9), date(2024,5,20)]\n",
    "for ax_row, (aid, city) in zip(axes, [(aid, city) for (aid, city) in aid2city.items()][7:]):\n",
    "    for ax in ax_row:\n",
    "        ax.set_ylabel('log10(count)')\n",
    "        ax.set_title(f\"{city.split(' ')[0]} - {aid2name[aid]}\")\n",
    "        #daylist = [di+timedelta(dt) for dt in range(1+(df-di).days)]\n",
    "        ax.set_xticks(daylist)\n",
    "        ax.set_xticklabels([str(d.month).zfill(2)+'/'+str(d.day).zfill(2) if d.weekday()==6 else '' for t,d in enumerate(daylist)])#, rotation=90)\n",
    "        #ax.set_xlim([di-timedelta(7), df+timedelta(7)])\n",
    "        ax.set_ylim([0., 3.])\n",
    "        matches_here = match_data[match_data.area_id==aid]\n",
    "        for day, match in zip(matches_here.day, matches_here.match):\n",
    "            if day in daylist:\n",
    "                ax.text(day, 3., match, rotation=90, ha='center', va='top')\n",
    "\n",
    "plt.savefig(f'plots/fig1_{cdef_alt}/02_panelcontactsstad_2.jpg', bbox_inches='tight', dpi=300)\n",
    "plt.savefig(f'plots/fig1_{cdef_alt}/02_panelcontactsstad_2.pdf', bbox_inches='tight')\n",
    "plt.show()"
   ]
  },
  {
   "cell_type": "code",
   "execution_count": null,
   "id": "7dbbd4a7-ee17-4223-b223-34880ec0cea6",
   "metadata": {},
   "outputs": [],
   "source": []
  }
 ],
 "metadata": {
  "kernelspec": {
   "display_name": "Python 3 (ipykernel)",
   "language": "python",
   "name": "python3"
  },
  "language_info": {
   "codemirror_mode": {
    "name": "ipython",
    "version": 3
   },
   "file_extension": ".py",
   "mimetype": "text/x-python",
   "name": "python",
   "nbconvert_exporter": "python",
   "pygments_lexer": "ipython3",
   "version": "3.11.7"
  }
 },
 "nbformat": 4,
 "nbformat_minor": 5
}
