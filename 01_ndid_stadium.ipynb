{
 "cells": [
  {
   "cell_type": "code",
   "execution_count": null,
   "id": "e37540e1-a655-4611-ba41-92350b8d1bf2",
   "metadata": {},
   "outputs": [],
   "source": [
    "import os, pandas as pd, networkx as nx, numpy as np, statsmodels.api as sm\n",
    "from sqlalchemy import create_engine\n",
    "from datetime import date, datetime, timedelta\n",
    "import matplotlib.pyplot as plt, seaborn as sns"
   ]
  },
  {
   "cell_type": "markdown",
   "id": "c2818aa2-02e1-4513-b229-775ff235289d",
   "metadata": {},
   "source": [
    "## parameters"
   ]
  },
  {
   "cell_type": "code",
   "execution_count": null,
   "id": "1599646d-499f-43c5-adbc-295a736a3e13",
   "metadata": {},
   "outputs": [],
   "source": [
    "yeari, yearf = '2024', '2024'\n",
    "weeki, weekf = '18', '31'"
   ]
  },
  {
   "cell_type": "code",
   "execution_count": null,
   "id": "26efa571-e8b8-43b4-ac0f-c4a88dcedb2e",
   "metadata": {},
   "outputs": [],
   "source": [
    "di = datetime.strptime(f'{yeari}-{weeki}-1', \"%Y-%W-%w\").date()\n",
    "df = datetime.strptime(f'{yearf}-{weekf}-1', \"%Y-%W-%w\").date() + timedelta(6)\n",
    "ds = [di+timedelta(dt) for dt in range((df-di).days+1)]\n",
    "daylist = ds\n",
    "print(di, 'until', df)"
   ]
  },
  {
   "cell_type": "markdown",
   "id": "b5f4c51d-526b-4241-8e8c-4c1c5af2108e",
   "metadata": {},
   "source": [
    "## load data"
   ]
  },
  {
   "cell_type": "code",
   "execution_count": null,
   "id": "bf6d2d26-d006-4863-aa02-09e8472c8fe5",
   "metadata": {},
   "outputs": [],
   "source": [
    "# load stadium meta data\n",
    "stadname_data = pd.read_csv('output/00_stadname_data.csv')\n",
    "aid2name = {aid: name for aid, name in zip(stadname_data.area_id, stadname_data.area_name)}\n",
    "\n",
    "aid2city = {aid: city for aid, city in sorted({\n",
    "    1: 'München',\n",
    "    2: 'Berlin',\n",
    "    3: 'Leipzig',\n",
    "    4: 'Frankfurt am Main',\n",
    "    10: 'Dortmund',\n",
    "    11: 'Stuttgart',\n",
    "    15: 'Köln',\n",
    "    24: 'Düsseldorf',\n",
    "    25: 'Hamburg',\n",
    "    28: 'Gelsenkirchen',\n",
    "\n",
    "    16: 'Berlin',\n",
    "    29: 'Hamburg',\n",
    "    41: 'München',\n",
    "    64: 'Frankfurt am Main',\n",
    "}.items(), key=lambda item: item[1])}\n",
    "city2aid = {city: aid for aid, city in [(aid, city) for aid, city in aid2city.items()][::-1]}"
   ]
  },
  {
   "cell_type": "code",
   "execution_count": null,
   "id": "b5fa5f00-1ae8-4efb-a5e4-2c288a6d86df",
   "metadata": {},
   "outputs": [],
   "source": [
    "# n_d stadiums: load did numbers for stadiums\n",
    "panelstad_data2 = pd.read_csv('output/00_panelstad_data2.csv')\n",
    "panelstad_data2['day'] = [d.date() for d in pd.to_datetime(panelstad_data2.day)]\n",
    "\n",
    "# load mass event data\n",
    "match_data = pd.read_csv('output/00_event_data.csv')\n",
    "match_data['day'] = [d.date() for d in pd.to_datetime(match_data.day)]"
   ]
  },
  {
   "cell_type": "markdown",
   "id": "9eb727a6-f296-4b1d-ac0d-37090acfc16a",
   "metadata": {},
   "source": [
    "## plot stadium $n_d$"
   ]
  },
  {
   "cell_type": "code",
   "execution_count": null,
   "id": "3e33b878-658b-44fa-93f3-aeb5dda3b1e3",
   "metadata": {
    "scrolled": true
   },
   "outputs": [],
   "source": [
    "sns.set_theme(style=\"ticks\")\n",
    "\n",
    "# Define the palette as a list to specify exact values\n",
    "#palette = sns.husl_palette(2)#sns.color_palette(\"rocket_r\")\n",
    "\n",
    "# Plot the lines on two facets\n",
    "g = sns.relplot(\n",
    "    data=panelstad_data2,\n",
    "    x=\"day\", y=\"ndids\",\n",
    "    #hue=\"with_stadiums\", hue_order=[True,False],\n",
    "    row=\"area_id\", row_order=list(aid2city.keys()),# size=\"choice\",# col=\"align\",\n",
    "    kind=\"line\",# palette=palette,# size_order=[False, True], \n",
    "    height=2, aspect=4., facet_kws=dict(sharex=False),\n",
    ")\n",
    "\n",
    "axes = g.axes\n",
    "holis = [date(2024,5,9), date(2024,5,20)]\n",
    "for ax_row, (aid, city) in zip(axes, aid2city.items()):\n",
    "    for ax in ax_row:\n",
    "        ax.set_ylabel('users in stadium')\n",
    "        ax.set_title(f\"{city.split(' ')[0]} - {aid2name[aid]}\")\n",
    "        #daylist = [di+timedelta(dt) for dt in range(1+(df-di).days)]\n",
    "        ax.set_xticks(daylist)\n",
    "        ax.set_xticklabels([str(d.month).zfill(2)+'/'+str(d.day).zfill(2) if d.weekday()==6 else '' for t,d in enumerate(daylist)])#, rotation=90)\n",
    "        #ax.set_xlim([di-timedelta(7), df+timedelta(7)])\n",
    "        ymax = 150.# 90.\n",
    "        ax.set_ylim([0., ymax])\n",
    "        matches_here = match_data[match_data.area_id==aid]\n",
    "        if city=='Gelsenkirchen':\n",
    "            matches_here = pd.concat([matches_here, match_data[match_data.match=='Schalke Tach']])\n",
    "        for day, match in zip(matches_here.day, matches_here.match):\n",
    "            if day in daylist:\n",
    "                ax.text(day, ymax, match, rotation=90, ha='center', va='top', fontsize=10)\n",
    "\n",
    "plt.savefig(f'plots/01_panelstad.jpg', bbox_inches='tight', dpi=300)\n",
    "plt.savefig(f'plots/01_panelstad.pdf', bbox_inches='tight')\n",
    "plt.show()"
   ]
  },
  {
   "cell_type": "code",
   "execution_count": null,
   "id": "4df9bbcc-feb1-4b45-9cd2-f57bb85d9a04",
   "metadata": {
    "scrolled": true
   },
   "outputs": [],
   "source": [
    "sns.set_theme(style=\"ticks\")\n",
    "\n",
    "# Define the palette as a list to specify exact values\n",
    "#palette = sns.husl_palette(2)#sns.color_palette(\"rocket_r\")\n",
    "\n",
    "# Plot the lines on two facets\n",
    "g = sns.relplot(\n",
    "    data=panelstad_data2[panelstad_data2.area_id.isin(list(aid2city.keys())[:7])],\n",
    "    x=\"day\", y=\"ndids\",\n",
    "    #hue=\"with_stadiums\", hue_order=[True,False],\n",
    "    row=\"area_id\", row_order=list(aid2city.keys())[:7],# size=\"choice\",# col=\"align\",\n",
    "    kind=\"line\",# palette=palette,# size_order=[False, True], \n",
    "    height=2, aspect=4., facet_kws=dict(sharex=False),\n",
    ")\n",
    "\n",
    "axes = g.axes\n",
    "holis = [date(2024,5,9), date(2024,5,20)]\n",
    "for ax_row, (aid, city) in zip(axes, [(aid, city) for aid, city in aid2city.items()][:7]):\n",
    "    for ax in ax_row:\n",
    "        ax.set_ylabel('users in stadium')\n",
    "        ax.set_title(f\"{city.split(' ')[0]} - {aid2name[aid]}\")\n",
    "        #daylist = [di+timedelta(dt) for dt in range(1+(df-di).days)]\n",
    "        ax.set_xticks(daylist)\n",
    "        ax.set_xticklabels([str(d.month).zfill(2)+'/'+str(d.day).zfill(2) if d.weekday()==6 else '' for t,d in enumerate(daylist)])#, rotation=90)\n",
    "        #ax.set_xlim([di-timedelta(7), df+timedelta(7)])\n",
    "        ymax = 150.# 90.\n",
    "        ax.set_ylim([0., ymax])\n",
    "        matches_here = match_data[match_data.area_id==aid]\n",
    "        if city=='Gelsenkirchen':\n",
    "            matches_here = pd.concat([matches_here, match_data[match_data.match=='Schalke Tach']])\n",
    "        for day, match in zip(matches_here.day, matches_here.match):\n",
    "            if day in daylist:\n",
    "                ax.text(day, ymax, match, rotation=90, ha='center', va='top', fontsize=10)            \n",
    "\n",
    "plt.savefig(f'plots/01_panelstad_1.jpg', bbox_inches='tight', dpi=300)\n",
    "plt.savefig(f'plots/01_panelstad_1.pdf', bbox_inches='tight')\n",
    "plt.show()"
   ]
  },
  {
   "cell_type": "code",
   "execution_count": null,
   "id": "d2f2cf03-1505-40c8-835d-abefb266bc6e",
   "metadata": {
    "scrolled": true
   },
   "outputs": [],
   "source": [
    "sns.set_theme(style=\"ticks\")\n",
    "\n",
    "# Define the palette as a list to specify exact values\n",
    "#palette = sns.husl_palette(2)#sns.color_palette(\"rocket_r\")\n",
    "\n",
    "# Plot the lines on two facets\n",
    "g = sns.relplot(\n",
    "    data=panelstad_data2[panelstad_data2.area_id.isin(list(aid2city.keys())[7:])],\n",
    "    x=\"day\", y=\"ndids\",\n",
    "    #hue=\"with_stadiums\", hue_order=[True,False],\n",
    "    row=\"area_id\", row_order=list(aid2city.keys())[7:],# size=\"choice\",# col=\"align\",\n",
    "    kind=\"line\",# palette=palette,# size_order=[False, True], \n",
    "    height=2, aspect=4., facet_kws=dict(sharex=False),\n",
    ")\n",
    "\n",
    "axes = g.axes\n",
    "holis = [date(2024,5,9), date(2024,5,20)]\n",
    "for ax_row, (aid, city) in zip(axes, [(aid, city) for aid, city in aid2city.items()][7:]):\n",
    "    for ax in ax_row:\n",
    "        ax.set_ylabel('users in stadium')\n",
    "        ax.set_title(f\"{city.split(' ')[0]} - {aid2name[aid]}\")\n",
    "        #daylist = [di+timedelta(dt) for dt in range(1+(df-di).days)]\n",
    "        ax.set_xticks(daylist)\n",
    "        ax.set_xticklabels([str(d.month).zfill(2)+'/'+str(d.day).zfill(2) if d.weekday()==6 else '' for t,d in enumerate(daylist)])#, rotation=90)\n",
    "        #ax.set_xlim([di-timedelta(7), df+timedelta(7)])\n",
    "        ymax = 125.# 90.\n",
    "        ax.set_ylim([0., ymax])\n",
    "        matches_here = match_data[match_data.area_id==aid]\n",
    "        for day, match in zip(matches_here.day, matches_here.match):\n",
    "            if day in daylist:\n",
    "                ax.text(day, ymax, match, rotation=90, ha='center', va='top', fontsize=10)\n",
    "\n",
    "plt.savefig(f'plots/01_panelstad_2.jpg', bbox_inches='tight', dpi=300)\n",
    "plt.savefig(f'plots/01_panelstad_2.pdf', bbox_inches='tight')\n",
    "plt.show()"
   ]
  },
  {
   "cell_type": "code",
   "execution_count": null,
   "id": "c2e8fa04-8232-41f6-8868-a463b6138521",
   "metadata": {},
   "outputs": [],
   "source": [
    "aid = 11# 28:Gelsenkirchen, 11:Stuttgart\n",
    "city = aid2city[aid]\n",
    "sns.set_theme(style=\"ticks\")\n",
    "\n",
    "# Define the palette as a list to specify exact values\n",
    "#palette = sns.husl_palette(2)#sns.color_palette(\"rocket_r\")\n",
    "\n",
    "# Plot the lines on two facets\n",
    "g = sns.relplot(\n",
    "    data=panelstad_data2[panelstad_data2.area_id==aid],\n",
    "    x=\"day\", y=\"ndids\",\n",
    "    #hue=\"with_stadiums\", hue_order=[True,False],\n",
    "    #row=\"area_id\", row_order=list(aid2city.keys())[:7],# size=\"choice\",# col=\"align\",\n",
    "    kind=\"line\",# palette=palette,# size_order=[False, True], \n",
    "    height=2, aspect=5., facet_kws=dict(sharex=False),\n",
    ")\n",
    "\n",
    "ax = g.axes[0][0]\n",
    "holis = [date(2024,5,9), date(2024,5,20)]\n",
    "ax.set_ylabel('users in stadium')\n",
    "ax.set_title(f\"{city.split(' ')[0]} - {aid2name[aid]}\")\n",
    "#daylist = [di+timedelta(dt) for dt in range(1+(df-di).days)]\n",
    "ax.set_xticks(daylist)\n",
    "ax.set_xticklabels([str(d.month).zfill(2)+'/'+str(d.day).zfill(2) if d.weekday()==6 else '' for t,d in enumerate(daylist)])#, rotation=90)\n",
    "ax.set_yticks([0,50,100,150])\n",
    "#ax.yaxis.grid(True)\n",
    "#ax.set_xlim([di-timedelta(7), df+timedelta(7)])\n",
    "ymax = 150.# 90.\n",
    "ax.set_ylim([-2.5, ymax])\n",
    "matches_here = match_data[match_data.area_id==aid]\n",
    "if city=='Gelsenkirchen':\n",
    "    matches_here = pd.concat([matches_here, match_data[match_data.match=='Schalke Tach']])\n",
    "#for day, match in zip(matches_here.day, matches_here.match):\n",
    "#    if day in daylist:\n",
    "#        ax.text(day, ymax+100, match, rotation=90, ha='center', va='top')#, fontsize=10)            \n",
    "\n",
    "plt.savefig(f'plots/01_panelstad_single.jpg', bbox_inches='tight', dpi=300)\n",
    "plt.savefig(f'plots/01_panelstad_single.pdf', bbox_inches='tight')\n",
    "plt.show()"
   ]
  },
  {
   "cell_type": "code",
   "execution_count": null,
   "id": "830a76a1-2fa3-4de6-a8bf-4814efe77137",
   "metadata": {},
   "outputs": [],
   "source": []
  }
 ],
 "metadata": {
  "kernelspec": {
   "display_name": "Python 3 (ipykernel)",
   "language": "python",
   "name": "python3"
  },
  "language_info": {
   "codemirror_mode": {
    "name": "ipython",
    "version": 3
   },
   "file_extension": ".py",
   "mimetype": "text/x-python",
   "name": "python",
   "nbconvert_exporter": "python",
   "pygments_lexer": "ipython3",
   "version": "3.11.7"
  }
 },
 "nbformat": 4,
 "nbformat_minor": 5
}
