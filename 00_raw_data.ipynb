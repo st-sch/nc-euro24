{
 "cells": [
  {
   "cell_type": "code",
   "execution_count": null,
   "id": "ac49c7cb-e099-40ec-a80d-20ead37d0946",
   "metadata": {},
   "outputs": [],
   "source": [
    "import os, pandas as pd, networkx as nx, numpy as np, statsmodels.api as sm\n",
    "from sqlalchemy import create_engine\n",
    "from datetime import date, datetime, timedelta\n",
    "import matplotlib.pyplot as plt, seaborn as sns"
   ]
  },
  {
   "cell_type": "markdown",
   "id": "d99083ac-3a00-4117-9fb8-d3281b21a8d5",
   "metadata": {},
   "source": [
    "## parameters"
   ]
  },
  {
   "cell_type": "code",
   "execution_count": null,
   "id": "d2b969a0-1e9e-4c09-bec2-fbfac28c99e4",
   "metadata": {},
   "outputs": [],
   "source": [
    "yeari, yearf = '2024', '2024'\n",
    "weeki, weekf = '18', '31'"
   ]
  },
  {
   "cell_type": "code",
   "execution_count": null,
   "id": "d4d7c59d-9ca7-4b61-9090-978022740113",
   "metadata": {},
   "outputs": [],
   "source": [
    "di = datetime.strptime(f'{yeari}-{weeki}-1', \"%Y-%W-%w\").date()\n",
    "df = datetime.strptime(f'{yearf}-{weekf}-1', \"%Y-%W-%w\").date() + timedelta(6)\n",
    "ds = [di+timedelta(dt) for dt in range((df-di).days+1)]\n",
    "daylist = ds\n",
    "print(di, 'until', df)"
   ]
  },
  {
   "cell_type": "code",
   "execution_count": null,
   "id": "135e9d5e-277e-4418-a4ac-9c1549733022",
   "metadata": {},
   "outputs": [],
   "source": [
    "cdef = 'tl7_10m'# 'tl5_10m' 'tl6_10m' 'tl7_10m' 'tl8_10m' 'tl8_60m'\n",
    "cdef_alt = '16m_10min'# tl5: 62 ... tl7: 16   tl8: 8"
   ]
  },
  {
   "cell_type": "markdown",
   "id": "2ce91698-5cc4-4789-b277-c25ab524b33f",
   "metadata": {},
   "source": [
    "## database connection"
   ]
  },
  {
   "cell_type": "code",
   "execution_count": null,
   "id": "bbfe0577-fdf8-412e-9397-bf5f721d8db3",
   "metadata": {},
   "outputs": [],
   "source": [
    "# database credentials\n",
    "db_usr, db_pwd = os.getenv('DB_USR'), os.getenv('DB_PWD') # your database user name and password\n",
    "# database login\n",
    "host, port, db = 'nc-health-data-prod.cluster-ccsgl7rk4urn.eu-central-1.rds.amazonaws.com', 5432, 'master'"
   ]
  },
  {
   "cell_type": "code",
   "execution_count": null,
   "id": "fc681187-6bc2-42e9-bc73-0aa8b0208822",
   "metadata": {},
   "outputs": [],
   "source": [
    "# for queries with output\n",
    "engine = create_engine('postgresql://'+db_usr+':'+db_pwd+'@'+host+':'+str(port)+'/'+db)\n",
    "conn = engine.connect()"
   ]
  },
  {
   "cell_type": "code",
   "execution_count": null,
   "id": "6dd1853d-831c-4343-8649-b36d77bee07d",
   "metadata": {},
   "outputs": [],
   "source": [
    "conn.close()"
   ]
  },
  {
   "cell_type": "markdown",
   "id": "1a3e30b3-55db-4cbb-8224-4ed2d791fa68",
   "metadata": {},
   "source": [
    "## load contact numbers $n_c$ ..."
   ]
  },
  {
   "cell_type": "code",
   "execution_count": null,
   "id": "50c895e6-98c4-48ff-bb7f-7a956443d7ba",
   "metadata": {},
   "outputs": [],
   "source": [
    "def contactnw_unique(contacts):\n",
    "    '''\n",
    "    builds the 'networkx' graph for a specified day based on 'covid_network'\n",
    "    Parameters\n",
    "    ----------\n",
    "    contacts : list of list of str\n",
    "        list of pairs of device IDs that are in contact\n",
    " \n",
    "    Returns\n",
    "    -------\n",
    "    G : nx_graph\n",
    "        contact graph(sampled; not population graph) for the specified day.\n",
    " \n",
    "    '''\n",
    "    G = nx.Graph()\n",
    "    for dids in contacts:\n",
    "        for v1 in range(len(dids)):\n",
    "            for v2 in range(v1):\n",
    "                G.add_edge(dids[v1], dids[v2])\n",
    "    return G\n",
    "\n",
    "# function to restrict contact list to contacts with given minimum number of GPS pings\n",
    "def contactnw_gpsunique(cs, sources, ngps):\n",
    "    # ngps: minimum number of contact partners with GPS ping\n",
    "    if ngps == 0:\n",
    "        G = contactnw_unique([list(set(cc)) for cc in cs])\n",
    "    elif ngps == 1:\n",
    "        G = contactnw_unique([[did1, did2] for cc,ss in zip(cs,sources)\n",
    "                for did1,s1 in zip(cc,ss) for did2,s2 in zip(cc,ss) if [s1,s2].count('GPS')>=1 and did1!=did2])\n",
    "    elif ngps == 2:\n",
    "        G = contactnw_unique([[did for did,s in zip(cc,ss) if s=='GPS'] for cc,ss in zip(cs,sources)])\n",
    "    return G"
   ]
  },
  {
   "cell_type": "markdown",
   "id": "9daa539e-741d-4631-a5ac-758d40f65968",
   "metadata": {},
   "source": [
    "### ... for Germany"
   ]
  },
  {
   "cell_type": "code",
   "execution_count": null,
   "id": "fa62919c-cb67-44a1-97d1-52f463c822aa",
   "metadata": {},
   "outputs": [],
   "source": [
    "#cdef_cn = '_'+cdef if cdef == 'tl8_2min' else ''\n",
    "ld_cn_germany = lambda d: f\"\"\"\n",
    "    with cn_tmp as (\n",
    "    \tselect\n",
    "                  tl{cdef[2]}\n",
    "                , stime\n",
    "                , dids\n",
    "                , sources\n",
    "     \t\t\t, bool_or(u.dist_stad < csa.radius_in_meter) as in_stadium\n",
    "                , min(u.area_id) as area_id\n",
    "            from covid_network_sdkv6_{cdef}, unnest(area_ids, dist_stads) u(area_id, dist_stad)\n",
    "            left join cluster_search_areas_v2 csa on csa.area_id = u.area_id\n",
    "            where\n",
    "                    \"day\" = '{str(d)}'\n",
    "            group by 1,2,3,4\n",
    "    ),\n",
    "    cn as (\n",
    "        select\n",
    "                  tl{cdef[2]}\n",
    "                , stime\n",
    "                , dids\n",
    "                , sources\n",
    "    \t\t\t, in_stadium\n",
    "                , area_id\n",
    "        from cn_tmp\n",
    "    )\n",
    "    select *\n",
    "    from cn\n",
    "\"\"\""
   ]
  },
  {
   "cell_type": "code",
   "execution_count": null,
   "id": "881c35cf-591a-431c-abc0-f8e205a4470c",
   "metadata": {},
   "outputs": [],
   "source": [
    "ngps_stad = 1\n",
    "data_rows = []\n",
    "for t, d in enumerate(ds):\n",
    "    print('processing', d, cdef)\n",
    "    clist = pd.DataFrame(pd.read_sql_query(ld_cn_germany(d), conn))\n",
    "    # split list of contact events by region (0=outside stadiums <> area_id==null, 1=inside stadiums <> area_id>0)\n",
    "    clist_splitted = [clist[(clist.in_stadium == False) | clist.in_stadium.isna()],# contacts outside stadiums\n",
    "                      clist[clist.in_stadium == True]]# contacts inside stadiums\n",
    "    #print([len(cs) for cs in clist_splitted])\n",
    "    # construct 2 networks of unique contacts (1 for outside stadiums/region 0, 1 for inside stadiums/region 2),\n",
    "    # imposing a minimum number of GPS pings per did pair in contact (0 in region 0, 1 in region 1)\n",
    "    Gs = [contactnw_gpsunique(cs.dids.tolist(),# list of list of dids\n",
    "                              [s[1:-1].split(',') for s in cs.sources.tolist()],# list of list of ping sources\n",
    "                              ngps)# minimum number of GPS-sourced pings required per did pair\n",
    "                  for cs, ngps in zip(clist_splitted, [0, ngps_stad])]\n",
    "    #print([len(G.edges()) for G in Gs])\n",
    "    #print([d, 2*len(Gs[0].edges()), 2*len(Gs[1].edges())])\n",
    "    data_rows.append([d, 2*len(Gs[0].edges()), 2*len(Gs[1].edges())])\n",
    "data_germany = pd.DataFrame(data_rows, columns=['day','ncontacts_1','ncontacts_2'])"
   ]
  },
  {
   "cell_type": "code",
   "execution_count": null,
   "id": "5de91d96-c8ce-4bef-a84f-66ee53d9cb7e",
   "metadata": {},
   "outputs": [],
   "source": [
    "data_germany[['day','ncontacts_1','ncontacts_2']].to_csv(f'output/00_ncontacts_germany_{cdef}.csv', index=False)"
   ]
  },
  {
   "cell_type": "code",
   "execution_count": null,
   "id": "e3fae468-ffe9-41ac-9731-c8b404357667",
   "metadata": {},
   "outputs": [],
   "source": [
    "data_germany = pd.read_csv(f'output/00_ncontacts_germany_{cdef}.csv')\n",
    "data_germany['day'] = [d.date() for d in pd.to_datetime(data_germany.day)]\n",
    "data_germany"
   ]
  },
  {
   "cell_type": "markdown",
   "id": "71d538f9-566c-493d-80bd-6d3f6a2dc551",
   "metadata": {},
   "source": [
    "### ... for cities & stadiums\n",
    "\n",
    "osm ID / city (table `planet_osm_polygon`)\n",
    "\n",
    "- München: -62428\n",
    "- Berlin: -62422\n",
    "- Leipzig: -62649\n",
    "- Frankfurt: -62400\n",
    "- Dortmund: -1829065\n",
    "- Stuttgart: -2793104\n",
    "- Köln: -62578\n",
    "- Düsseldorf: -62539\n",
    "- Hamburg: -62782\n",
    "- Gelsenkirchen: -62522"
   ]
  },
  {
   "cell_type": "code",
   "execution_count": null,
   "id": "a89658b9-90a7-4d8e-8c4b-2cac29f33939",
   "metadata": {},
   "outputs": [],
   "source": [
    "# function to load list of contact events & their locations and ping sources\n",
    "ld_cn = lambda d: f\"\"\"\n",
    "    with cities1 as (\n",
    "    \tselect osm_id, \"name\", way_area, way\n",
    "    \tfrom planet_osm_polygon\n",
    "    \twhere osm_id in (-62428,-62422,-62649,-62400,-1829065,-2793104,-62578,-62539,-62782,-62522)\n",
    "    ),\n",
    "    cities2 as (\n",
    "    \tselect osm_id, \"name\", max(way_area) as way_area\n",
    "    \tfrom cities1\n",
    "    \tgroup by 1,2\n",
    "    ),\n",
    "    cities3 as (\n",
    "    \tselect c1.\"name\", c1.way\n",
    "    \tfrom cities1 as c1\n",
    "    \tjoin cities2 as c2 on c1.way_area = c2.way_area\n",
    "    ),\n",
    "    cn_tmp as (\n",
    "    \tselect\n",
    "                  tl{cdef[2]}\n",
    "                , stime\n",
    "                , dids\n",
    "                , sources\n",
    "     \t\t\t, bool_or(u.dist_stad < csa.radius_in_meter) as in_stadium\n",
    "                , min(u.area_id) as area_id\n",
    "     \t\t\t, geopoint\n",
    "            from covid_network_sdkv6_{cdef}, unnest(area_ids, dist_stads) u(area_id, dist_stad)\n",
    "            left join cluster_search_areas_v2 csa on csa.area_id = u.area_id\n",
    "            where\n",
    "                    \"day\" = '{str(d)}'\n",
    "            group by 1,2,3,4,7\n",
    "    ),\n",
    "    cn as (\n",
    "        select\n",
    "                  tl{cdef[2]}\n",
    "                , stime\n",
    "                , dids\n",
    "                , sources\n",
    "    \t\t\t, in_stadium\n",
    "                , area_id\n",
    "                , \"name\" as city\n",
    "        from cn_tmp\n",
    "        join cities3 as c3 on st_contains(c3.way, cn_tmp.geopoint)\n",
    "    )\n",
    "    select *\n",
    "    from cn\n",
    "\"\"\""
   ]
  },
  {
   "cell_type": "code",
   "execution_count": null,
   "id": "7cc884b0-bda6-4b45-a650-3710bbd2844a",
   "metadata": {},
   "outputs": [],
   "source": [
    "ngps_stad = 1\n",
    "data_rows = []\n",
    "for t, d in enumerate(ds):\n",
    "    print('processing', d, cdef)\n",
    "    clist = pd.DataFrame(pd.read_sql_query(ld_cn(d), conn))\n",
    "    for city in set(clist.city):\n",
    "        csss = clist[clist.city == city]\n",
    "        csss.loc[:,'area_id'] = csss.area_id.fillna(-1)# -1 means outside any stadium of interest\n",
    "        for aid in set(csss.area_id):\n",
    "            css = csss[csss.area_id==aid]\n",
    "            # split list of contact events by region (0=outside stadiums <> area_id==null, 1=inside stadiums <> area_id>0)\n",
    "            clist_splitted = [css[(css.in_stadium == False) | css.in_stadium.isna()],# contacts outside stadiums\n",
    "                              css[css.in_stadium == True]]# contacts inside stadiums\n",
    "            # construct 2 networks of unique contacts (1 for outside stadiums/region 0, 1 for inside stadiums/region 2),\n",
    "            # imposing a minimum number of GPS pings per did pair in contact (0 in region 0, 1 in region 1)\n",
    "            Gs = [contactnw_gpsunique(cs.dids.tolist(),# list of list of dids\n",
    "                                      [s[1:-1].split(',') for s in cs.sources.tolist()],# list of list of ping sources\n",
    "                                      ngps)# minimum number of GPS-sourced pings required per did pair\n",
    "                  for cs, ngps in zip(clist_splitted, [0, ngps_stad])]\n",
    "            data_rows.append([d, city, aid, 2*len(Gs[0].edges()), 2*len(Gs[1].edges())])# factor 2 because of handshake lemma\n",
    "data = pd.DataFrame(data_rows, columns=['day','city','area_id','ncontacts_1','ncontacts_2'])"
   ]
  },
  {
   "cell_type": "code",
   "execution_count": null,
   "id": "950a52bd-d339-4fce-8643-b8cd9a595dcc",
   "metadata": {},
   "outputs": [],
   "source": [
    "data.to_csv(f'output/00_ncontacts_cities_{cdef}.csv', index=False)"
   ]
  },
  {
   "cell_type": "code",
   "execution_count": null,
   "id": "85f12db3-1ae5-4011-800d-2a809422ac9f",
   "metadata": {},
   "outputs": [],
   "source": [
    "data = pd.read_csv(f'output/00_ncontacts_cities_{cdef}.csv')\n",
    "data['day'] = [d.date() for d in pd.to_datetime(data.day)]\n",
    "data"
   ]
  },
  {
   "cell_type": "code",
   "execution_count": null,
   "id": "f8b3232f-5df0-4e9d-b71d-a2d63a4e2ffd",
   "metadata": {},
   "outputs": [],
   "source": [
    "data.day.max()"
   ]
  },
  {
   "cell_type": "markdown",
   "id": "d69a3ec3-83cd-40f6-a1e9-68ff78b5f58d",
   "metadata": {},
   "source": [
    "## load device numbers $n_d$\n",
    "\n",
    "### ... for Germany"
   ]
  },
  {
   "cell_type": "code",
   "execution_count": null,
   "id": "0dff6944-2bf2-4933-8490-3a0df23e2c8d",
   "metadata": {},
   "outputs": [],
   "source": [
    "ld_cr_germany = lambda di, df: f\"\"\"\n",
    "    select \"day\", ndid_1, ndid_2, pdid_1, pdid_2--, ktot_1\n",
    "    from covid_results_sdkv6\n",
    "    where \"location\"='Deutschland' and \"day\" between '{str(di)}' and '{str(df)}'\n",
    "    order by 1\n",
    "\"\"\"\n",
    "panel_data_germany = pd.DataFrame(pd.read_sql_query(ld_cr_germany(di, df), conn))\n",
    "panel_data_germany"
   ]
  },
  {
   "cell_type": "code",
   "execution_count": null,
   "id": "8819c0e7-a938-4520-840a-70b9fbe51bf0",
   "metadata": {},
   "outputs": [],
   "source": [
    "panel_data_germany.to_csv('output/00_panel_data_germany.csv', index=False)"
   ]
  },
  {
   "cell_type": "code",
   "execution_count": null,
   "id": "6ac95172-56fb-4a7e-b313-f626fff87dbd",
   "metadata": {},
   "outputs": [],
   "source": [
    "panel_data_germany = pd.read_csv('output/00_panel_data_germany.csv')\n",
    "panel_data_germany['day'] = [d.date() for d in pd.to_datetime(panel_data_germany.day)]\n",
    "panel_data_germany"
   ]
  },
  {
   "cell_type": "markdown",
   "id": "ab08bd06-1c50-475d-bc46-beacc609f32a",
   "metadata": {},
   "source": [
    "### ... for cities"
   ]
  },
  {
   "cell_type": "code",
   "execution_count": null,
   "id": "a8c830e3-f03a-4ba2-abd6-bc67067c4e18",
   "metadata": {},
   "outputs": [],
   "source": [
    "ld_hw = \"\"\"\n",
    "    with cities1 as (\n",
    "    \tselect osm_id, \"name\", way_area, way\n",
    "    \tfrom planet_osm_polygon\n",
    "    \twhere osm_id in (-62428,-62422,-62649,-62400,-1829065,-2793104,-62578,-62539,-62782,-62522)\n",
    "    ),\n",
    "    cities2 as (\n",
    "    \tselect osm_id, \"name\", max(way_area) as way_area\n",
    "    \tfrom cities1\n",
    "    \tgroup by 1,2\n",
    "    ),\n",
    "    cities3 as (\n",
    "    \tselect c1.\"name\", c1.way\n",
    "    \tfrom cities1 as c1\n",
    "    \tjoin cities2 as c2 on c1.way_area = c2.way_area\n",
    "    )\n",
    "    select ci.\"name\" as city, count(distinct hw.did) as ndids\n",
    "    from home_work_sdkv6_202405 as hw, cities3 as ci\n",
    "    where place = 'home'\n",
    "    and st_contains(ci.way, st_transform(hw.weighted_centroid, 3857))\n",
    "    group by 1\n",
    "\"\"\"\n",
    "panel_data = pd.DataFrame(pd.read_sql_query(ld_hw, conn))\n",
    "panel_data"
   ]
  },
  {
   "cell_type": "code",
   "execution_count": null,
   "id": "6de6e56e-dcae-4c70-90b5-582de529f06f",
   "metadata": {},
   "outputs": [],
   "source": [
    "panel_data.to_csv('output/00_panel_data.csv', index=False)"
   ]
  },
  {
   "cell_type": "code",
   "execution_count": null,
   "id": "49ff90b6-5e89-43ec-b650-042f591ae084",
   "metadata": {},
   "outputs": [],
   "source": [
    "panel_data = pd.read_csv('output/00_panel_data.csv')\n",
    "panel_data"
   ]
  },
  {
   "cell_type": "markdown",
   "id": "195bb8b2-0f5b-4e98-b992-f145131f46a1",
   "metadata": {},
   "source": [
    "### ... for stadiums\n",
    "\n",
    "area ID / stadium name (table `cluster_search_areas_v2`)\n",
    "\n",
    "- 1: Allianz Arena, München\n",
    "- 2: Olympiastadion, Berlin\n",
    "- 3: Red Bull Arena, Leipzig\n",
    "- 4: Deutsche Bank Park, Frankfurt\n",
    "- 10: Signal Iduna Park, Dortmund\n",
    "- 11: Mercedes-Benz Arena, Stuttgart\n",
    "- 15: RheinEnergieStadion, Köln\n",
    "- 24: Merkur Spiel-Arena, Düsseldorf\n",
    "- 25: Volksparkarena, Hamburg\n",
    "- 28: Veltins-Arena, Gelsenkirchen"
   ]
  },
  {
   "cell_type": "code",
   "execution_count": null,
   "id": "204ed0b4-cba2-4bf7-833b-8347e633afb1",
   "metadata": {},
   "outputs": [],
   "source": [
    "ld_dp = lambda di, df, euro24_stadiums: f\"\"\"\n",
    "    select \n",
    "          \"day\"\n",
    "        , area_id\n",
    "        , ndids\n",
    "    from covid_dids_pings_per_day_sdkv6\n",
    "    where\n",
    "            \"day\" between '{di}' and '{df}' -- = '2024-07-05'\n",
    "        and area_id in ({','.join([str(aid) for aid in euro24_stadiums + add_stadiums])}) -- = 11\n",
    "        and \"source\" = 'ANY'\n",
    "        and homeloc = 'Deutschland'\n",
    "        and to_char(stime, 'HH24:MI:SS') = '23:59:59'\n",
    "\"\"\"\n",
    "panelstad_data = pd.DataFrame(pd.read_sql_query(ld_dp(di, df, euro24_stadiums), conn))\n",
    "panelstad_data"
   ]
  },
  {
   "cell_type": "code",
   "execution_count": null,
   "id": "2200d1e3-1eb2-4398-8f23-cb881b78bb9b",
   "metadata": {},
   "outputs": [],
   "source": [
    "euro24_stadiums = [1,2,3,4,10,11,15,24,25,28]\n",
    "add_stadiums = [16,29,41,64]# additional stadiums not involved in EURO 2024"
   ]
  },
  {
   "cell_type": "code",
   "execution_count": null,
   "id": "adbd298d-d582-42c5-8b85-93d2c55d8f57",
   "metadata": {},
   "outputs": [],
   "source": [
    "panelstad_data2 = pd.DataFrame(daylist, columns=['day']).merge(pd.DataFrame(euro24_stadiums+add_stadiums, columns=['area_id']), how='cross')\n",
    "panelstad_data2 = panelstad_data2.merge(panelstad_data, on=['day','area_id'], how='left').fillna(0.)\n",
    "panelstad_data2['ndids'] = panelstad_data2.ndids.astype(int)\n",
    "panelstad_data2"
   ]
  },
  {
   "cell_type": "code",
   "execution_count": null,
   "id": "486409a4-fbdd-46a5-9a74-2c476fc9e5b9",
   "metadata": {},
   "outputs": [],
   "source": [
    "panelstad_data2.to_csv('output/00_panelstad_data2.csv', index=False)"
   ]
  },
  {
   "cell_type": "code",
   "execution_count": null,
   "id": "9e72c544-9f7b-490d-b038-e4b541386f6a",
   "metadata": {},
   "outputs": [],
   "source": [
    "panelstad_data2 = pd.read_csv('output/00_panelstad_data2.csv')\n",
    "panelstad_data2['day'] = [d.date() for d in pd.to_datetime(panelstad_data2.day)]\n",
    "panelstad_data2"
   ]
  },
  {
   "cell_type": "code",
   "execution_count": null,
   "id": "59a95e22-53e9-4474-b5b4-572c3956c9f6",
   "metadata": {},
   "outputs": [],
   "source": [
    "panelstad_data2.ndids.max()"
   ]
  },
  {
   "cell_type": "markdown",
   "id": "a0dded98-3bd0-4ebe-8fac-81f9376c5309",
   "metadata": {},
   "source": [
    "## load ping numbers per device $n_p$\n",
    "\n",
    "### ... for cities"
   ]
  },
  {
   "cell_type": "code",
   "execution_count": null,
   "id": "8ae99545-eec8-4c34-8e28-a7f3f503c202",
   "metadata": {},
   "outputs": [],
   "source": [
    "query = f\"\"\"\n",
    "    with npings as (\n",
    "    \tselect city, sum(ndids) as npings\n",
    "    \tfrom ts_plz_population as tpp\n",
    "    \tjoin covid_dids_pings_per_day_sdkv6 as dp on dp.homeloc = tpp.id_plz5\n",
    "    \twhere area_id=0 and \"source\"='ANY' and (stime at time zone 'UTC')::time < '23:59:00'\n",
    "    \tand \"day\" between '{str(di)}' and '{str(df)}'\n",
    "    \tand city in ('Berlin','Dortmund','Düsseldorf','Frankfurt am Main','Gelsenkirchen','Hamburg','Köln','Leipzig','München','Stuttgart')\n",
    "    \tgroup by 1\n",
    "    )\n",
    "    , ndids as (\n",
    "    \tselect city, sum(ndids) as ndids\n",
    "    \tfrom ts_plz_population as tpp\n",
    "    \tjoin covid_dids_pings_per_day_sdkv6 as dp on dp.homeloc = tpp.id_plz5\n",
    "    \twhere area_id=0 and \"source\"='ANY' and (stime at time zone 'UTC')::time = '23:59:59'\n",
    "        and \"day\" between '{str(di)}' and '{str(df)}'\n",
    "    \tand city in ('Berlin','Dortmund','Düsseldorf','Frankfurt am Main','Gelsenkirchen','Hamburg','Köln','Leipzig','München','Stuttgart')\n",
    "    \tgroup by 1\n",
    "    )\n",
    "    select nd.city, nd.ndids, np.npings, np.npings::real/nd.ndids::real as npingsperdid\n",
    "    from ndids as nd\n",
    "    join npings as np on np.city = nd.city\n",
    "    order by 1\n",
    "\"\"\"\n",
    "data_pingfreq = pd.DataFrame(pd.read_sql_query(query, conn))\n",
    "data_pingfreq"
   ]
  },
  {
   "cell_type": "code",
   "execution_count": null,
   "id": "e77ca97b-c027-4881-8b00-ea88a6bb106e",
   "metadata": {},
   "outputs": [],
   "source": [
    "data_pingfreq.to_csv('output/00_data_pingfreq.csv', index=False)"
   ]
  },
  {
   "cell_type": "code",
   "execution_count": null,
   "id": "b930fe63-ae34-42f3-9f7c-67288ecc5923",
   "metadata": {},
   "outputs": [],
   "source": [
    "data_pingfreq = pd.read_csv('output/00_data_pingfreq.csv')\n",
    "data_pingfreq"
   ]
  },
  {
   "cell_type": "code",
   "execution_count": null,
   "id": "0ff03a5e-b496-4c99-8411-775a891f8396",
   "metadata": {},
   "outputs": [],
   "source": [
    "query = f\"\"\"\n",
    "    with npings as (\n",
    "    \tselect city, \"day\", sum(ndids) as npings\n",
    "    \tfrom ts_plz_population as tpp\n",
    "    \tjoin covid_dids_pings_per_day_sdkv6 as dp on dp.homeloc = tpp.id_plz5\n",
    "    \twhere area_id=0 and \"source\"='ANY' and (stime at time zone 'UTC')::time < '23:59:00'\n",
    "    \tand \"day\" between '{str(di)}' and '{str(df)}'\n",
    "    \tand city in ('Berlin','Dortmund','Düsseldorf','Frankfurt am Main','Gelsenkirchen','Hamburg','Köln','Leipzig','München','Stuttgart')\n",
    "    \tgroup by 1,2\n",
    "    )\n",
    "    , ndids as (\n",
    "    \tselect city, \"day\", sum(ndids) as ndids\n",
    "    \tfrom ts_plz_population as tpp\n",
    "    \tjoin covid_dids_pings_per_day_sdkv6 as dp on dp.homeloc = tpp.id_plz5\n",
    "    \twhere area_id=0 and \"source\"='ANY' and (stime at time zone 'UTC')::time = '23:59:59'\n",
    "        and \"day\" between '{str(di)}' and '{str(df)}'\n",
    "    \tand city in ('Berlin','Dortmund','Düsseldorf','Frankfurt am Main','Gelsenkirchen','Hamburg','Köln','Leipzig','München','Stuttgart')\n",
    "    \tgroup by 1,2\n",
    "    )\n",
    "    select nd.city, avg(np.npings::real/nd.ndids::real) as npingsperdid\n",
    "    from ndids as nd\n",
    "    join npings as np on np.city = nd.city and np.\"day\" = nd.\"day\"\n",
    "    group by 1\n",
    "    order by 1\n",
    "\"\"\"\n",
    "data_pingfreq2 = pd.DataFrame(pd.read_sql_query(query, conn))\n",
    "data_pingfreq2"
   ]
  },
  {
   "cell_type": "markdown",
   "id": "a3ba428f-8613-4222-8640-ae167ce89dd1",
   "metadata": {},
   "source": [
    "## mass event data\n",
    "\n",
    "### event data\n",
    "\n",
    "EURO 24 match data: https://www.fr.de/sport/fussball/em-2024-spielplan-ergebnisse-termine-gruppen-uhrzeit-deutschland-fussball-news-92086708.html"
   ]
  },
  {
   "cell_type": "code",
   "execution_count": null,
   "id": "b7cb8111-4823-4387-a55c-79517ea4506b",
   "metadata": {},
   "outputs": [],
   "source": [
    "match_data = [\n",
    "    [date(2024,6,14), 'München', 'auto', 'GER-SCO', True, 'auto'],\n",
    "    [date(2024,6,15), 'Köln', 'auto', 'HUN-SUI', True, 'auto'],\n",
    "    [date(2024,6,19), 'Köln', 'auto', 'SCO-SUI', True, 'auto'],\n",
    "    [date(2024,6,19), 'Stuttgart', 'auto', 'GER-HUN', True, 'auto'],\n",
    "    [date(2024,6,23), 'Frankfurt am Main', 'auto', 'SUI-GER', True, 'auto'],\n",
    "    [date(2024,6,23), 'Stuttgart', 'auto', 'SCO-HUN', True, 'auto'],\n",
    "\n",
    "    [date(2024,6,15), 'Berlin', 'auto', 'ESP-CRO', True, 'auto'],\n",
    "    [date(2024,6,15), 'Dortmund', 'auto', 'ITA-ALB', True, 'auto'],\n",
    "    [date(2024,6,19), 'Hamburg', 'auto', 'ALB-CRO', True, 'auto'],\n",
    "    [date(2024,6,20), 'Gelsenkirchen', 'auto', 'ESP-ITA', True, 'auto'],\n",
    "    [date(2024,6,24), 'Düsseldorf', 'auto', 'ALB-ESP', True, 'auto'],\n",
    "    [date(2024,6,24), 'Leipzig', 'auto', 'CRO-ITA', True, 'auto'],\n",
    "\n",
    "    [date(2024,6,16), 'Stuttgart', 'auto', 'SLO-DEN', True, 'auto'],\n",
    "    [date(2024,6,16), 'Gelsenkirchen', 'auto', 'SRB-ENG', True, 'auto'],\n",
    "    [date(2024,6,20), 'Frankfurt am Main', 'auto', 'DEN-ENG', True, 'auto'],\n",
    "    [date(2024,6,20), 'München', 'auto', 'SLO-SRB', True, 'auto'],\n",
    "    [date(2024,6,25), 'Köln', 'auto', 'ENG-SLO', True, 'auto'],\n",
    "    [date(2024,6,25), 'München', 'auto', 'DEN-SRB', True, 'auto'],\n",
    "\n",
    "    [date(2024,6,16), 'Hamburg', 'auto', 'POL-NED', True, 'auto'],\n",
    "    [date(2024,6,17), 'Düsseldorf', 'auto', 'AUT-FRA', True, 'auto'],\n",
    "    [date(2024,6,21), 'Berlin', 'auto', 'POL-AUT', True, 'auto'],\n",
    "    [date(2024,6,21), 'Leipzig', 'auto', 'NED-FRA', True, 'auto'],\n",
    "    [date(2024,6,25), 'Dortmund', 'auto', 'FRA-POL', True, 'auto'],\n",
    "    [date(2024,6,25), 'Berlin', 'auto', 'NED-AUT', True, 'auto'],\n",
    "\n",
    "    [date(2024,6,17), 'Frankfurt am Main', 'auto', 'BEL-SVK', True, 'auto'],\n",
    "    [date(2024,6,17), 'München', 'auto', 'ROM-UKR', True, 'auto'],\n",
    "    [date(2024,6,21), 'Düsseldorf', 'auto', 'SVK-UKR', True, 'auto'],\n",
    "    [date(2024,6,22), 'Köln', 'auto', 'BEL-ROM', True, 'auto'],\n",
    "    [date(2024,6,26), 'Stuttgart', 'auto', 'UKR-BEL', True, 'auto'],\n",
    "    [date(2024,6,26), 'Frankfurt am Main', 'auto', 'SVK-ROM', True, 'auto'],\n",
    "\n",
    "    [date(2024,6,18), 'Dortmund', 'auto', 'TUR-GEO', True, 'auto'],\n",
    "    [date(2024,6,18), 'Leipzig', 'auto', 'POR-CZE', True, 'auto'],\n",
    "    [date(2024,6,22), 'Dortmund', 'auto', 'TUR-POR', True, 'auto'],\n",
    "    [date(2024,6,22), 'Hamburg', 'auto', 'GEO-CZE', True, 'auto'],\n",
    "    [date(2024,6,26), 'Hamburg', 'auto', 'CZE-TUR', True, 'auto'],\n",
    "    [date(2024,6,26), 'Gelsenkirchen', 'auto', 'GEO-POR', True, 'auto'],\n",
    "\n",
    "    [date(2024,6,29), 'Berlin', 'auto', 'SUI-ITA', True, 'auto'],\n",
    "    [date(2024,6,29), 'Dortmund', 'auto', 'GER-DEN', True, 'auto'],\n",
    "    [date(2024,6,30), 'Gelsenkirchen', 'auto', 'ENG-SVK', True, 'auto'],\n",
    "    [date(2024,6,30), 'Köln', 'auto', 'ESP-GEO', True, 'auto'],\n",
    "    [date(2024,7,1), 'Düsseldorf', 'auto', 'FRA-BEL', True, 'auto'],\n",
    "    [date(2024,7,1), 'Frankfurt am Main', 'auto', 'POR-SLO', True, 'auto'],\n",
    "    [date(2024,7,2), 'München', 'auto', 'ROM-NED', True, 'auto'],\n",
    "    [date(2024,7,2), 'Leipzig', 'auto', 'AUT-TUR', True, 'auto'],\n",
    "\n",
    "    [date(2024,7,5), 'Stuttgart', 'auto', 'ESP-GER', True, 'auto'],\n",
    "    [date(2024,7,5), 'Hamburg', 'auto', 'POR-FRA', True, 'auto'],\n",
    "    [date(2024,7,6), 'Düsseldorf', 'auto', 'ENG-SUI', True, 'auto'],\n",
    "    [date(2024,7,6), 'Berlin', 'auto', 'NED-TUR', True, 'auto'],\n",
    "\n",
    "    [date(2024,7,9), 'München', 'auto', 'ESP-FRA', True, 'auto'],\n",
    "    [date(2024,7,10), 'Dortmund', 'auto', 'ENG-NED', True, 'auto'],\n",
    "\n",
    "    [date(2024,7,14), 'Berlin', 'auto', 'ESP-ENG', True, 'auto'],\n",
    "\n",
    "    [date(2024,6,9), 'München', 41, 'AC/DC', False, 66000],# 66000 https://www.abendzeitung-muenchen.de/kultur/musik/so-war-das-erste-konzert-von-acdc-im-olympiastadion-in-muenchen-art-985477#:~:text=AC%2FDC%20in%20M%C3%BCnchen%3A%20Ein,auch%20nicht%20vom%20Dauerregen%20verderben.\n",
    "    [date(2024,6,12), 'München', 41, 'AC/DC', False, 66000],# 66000\n",
    "    [date(2024,6,22), 'München', 41, 'A Gabalier', False, 60000],# 60000 https://www.merkur.de/kultur/andreas-gabalier-muenchen-olmypiastadion-konzert-david-hasselhoff-mario-barth-zr-93146068.html#:~:text=%E2%80%9EVolks%2DRock%27n%27,so%20oder%20so%20%C3%A4hnlich%20zutr%C3%A4gt.\n",
    "    [date(2024,7,11), 'Frankfurt am Main', 'auto', 'Rammstein', False, 40000],# 40000 https://www.hessenschau.de/kultur/rammstein-in-frankfurt-kein-platz-mehr-fuer-ironie-v1,rammstein-frankfurt-konzert-100.html\n",
    "    [date(2024,7,12), 'Frankfurt am Main', 'auto', 'Rammstein', False, 40000],# 40000 https://www.faz.net/aktuell/rhein-main/kultur/rammstein-in-frankfurt-begeisterte-fans-im-waldstadion-und-kritik-19852500.html\n",
    "    [date(2024,7,13), 'Frankfurt am Main', 'auto', 'Rammstein', False, 40000],# 40000 https://www.faz.net/aktuell/rhein-main/kultur/rammstein-in-frankfurt-begeisterte-fans-im-waldstadion-und-kritik-19852500.html\n",
    "    [date(2024,6,18), 'Frankfurt am Main', 'auto', 'Death Punch', False, 15000],# 15000 https://time-for-metal.eu/five-finger-death-punch-am-18-06-2024-in-der-festhalle-frankfurt/#:~:text=Jetzt%20hei%C3%9Ft%20es%20auf%20den,f%C3%BCr%20Five%20Finger%20Death%20Punch!\n",
    "    [date(2024,7,12), 'Köln', 'auto', 'P Maffay', False, 37000],# 37000 https://www.express.de/koeln/peter-maffay-in-koeln-verkehrs-chaos-konzert-startet-spaeter-825568\n",
    "    [date(2024,7,13), 'Köln', 'auto', 'R Kaiser', False, 42000],# 42000 https://www.derwesten.de/panorama/promi-tv/roland-kaiser-koeln-konzert-kinder-id301052575.html#:~:text=Es%20war%20eines%20der%20gr%C3%B6%C3%9Ften,Rhein%2DEnergie%2DStadion%20spielte.\n",
    "    [date(2024,6,1), 'Dortmund', 'auto', 'UEFA CL', True, 'auto'],\n",
    "    [date(2024,7,8), 'München', 'auto', 'Tollwood', False, 'auto'],\n",
    "    [date(2024,5,12), 'München', 'auto', 'BLiga', True, 'auto'],\n",
    "    [date(2024,5,24), 'München', 41, 'Metallica', False, 75000],# 75000 https://www.burnyourears.de/live/54216-metallica-konzertbericht-zum-auftakt-der-m72-world-tour-in-m%C3%BCnchen.html#:~:text=Mai%202024%20%E2%80%93%20Erster%20Abend&text=Das%20optische%20und%20akustische%20Donnergrollen,Anwesenden%20im%20M%C3%BCnchner%20Olympiastadion%20nachhallen.\n",
    "    [date(2024,5,26), 'München', 41, 'Metallica', False, 75000],# 75000\n",
    "    [date(2024,5,19), 'Hamburg', 'auto', 'BLiga', True, 'auto'],\n",
    "    [date(2024,5,11), 'Gelsenkirchen', 'auto', 'BLiga', True, 'auto'],\n",
    "    [date(2024,5,17), 'Gelsenkirchen', 'auto', 'AC/DC', False, 55000],# 55000 https://www.waz.de/staedte/gelsenkirchen/article242363698/AC-DC-rocken-die-Veltins-Arena-in-Gelsenkirchen.html\n",
    "    [date(2024,5,21), 'Gelsenkirchen', 'auto', 'AC/DC', False, 54000],# 54000 https://www.radioemscherlippe.de/artikel/gelsenkirchen-zweites-acdc-konzert-in-der-arena-1990321.html\n",
    "    [date(2024,5,18), 'Stuttgart', 'auto', 'BLiga', True, 'auto'],\n",
    "    [date(2024,6,1), 'Düsseldorf', -1, 'Japan Day', False, 'auto'],# https://www.dus.emb-japan.go.jp/itpr_ja/11_000001_00955.html\n",
    "    [date(2024,6,28), 'Düsseldorf', -1, 'DoKomi', False, 'auto'],\n",
    "    [date(2024,6,29), 'Düsseldorf', -1, 'DoKomi', False, 'auto'],\n",
    "    [date(2024,6,30), 'Düsseldorf', -1, 'DoKomi', False, 'auto'],\n",
    "    [date(2024,5,18), 'Dortmund', 'auto', 'BLiga', True, 'auto'],\n",
    "    [date(2024,5,24), 'Dortmund', -1, 'Dogs & Fun', False, 'auto'],\n",
    "    [date(2024,5,18), 'Frankfurt am Main', 'auto', 'BLiga', True, 'auto'],\n",
    "    [date(2024,5,11), 'Leipzig', 'auto', 'BLiga', True, 'auto'],\n",
    "    [date(2024,5,11), 'Köln', 'auto', 'BLiga', True, 'auto'],\n",
    "    [date(2024,5,9), 'Köln', 'auto', 'DFB Pokal', True, 'auto'],\n",
    "    [date(2024,5,19), 'Düsseldorf', 'auto', 'BLiga', True, 'auto'],\n",
    "    [date(2024,5,25), 'Berlin', 'auto', 'DFB Pokal', True, 'auto'],\n",
    "    [date(2024,5,11), 'Berlin', 'auto', 'BLiga', True, 'auto'],\n",
    "    [date(2024,4,26), 'Berlin', 'auto', 'BLiga', True, 'auto'],\n",
    "    [date(2024,5,5), 'Berlin', 'auto', 'S25 Berlin', False, 'auto'],\n",
    "    [date(2024,5,4), 'Dortmund', 'auto', 'BLiga', True, 'auto'],\n",
    "    [date(2024,5,1), 'Dortmund', 'auto', 'UEFA CL', True, 'auto'],\n",
    "    [date(2024,5,27), 'Düsseldorf', 'auto', 'BLiga rel', True, 'auto'],\n",
    "    [date(2024,5,3), 'Düsseldorf', 'auto', 'BLiga', True, 'auto'],\n",
    "    [date(2024,5,5), 'Frankfurt am Main', 'auto', 'BLiga', True, 'auto'],\n",
    "    [date(2024,4,27), 'Gelsenkirchen', 'auto', 'BLiga', True, 'auto'],\n",
    "    [date(2024,5,3), 'Hamburg', 'auto', 'BLiga', True, 'auto'],\n",
    "    [date(2024,5,4), 'Köln', 'auto', 'BLiga', True, 'auto'],\n",
    "    [date(2024,4,27), 'Leipzig', 'auto', 'BLiga', True, 'auto'],\n",
    "    [date(2024,4,27), 'München', 'auto', 'BLiga', True, 'auto'],\n",
    "    [date(2024,4,30), 'München', 'auto', 'UEFA CL', True, 'auto'],\n",
    "    [date(2024,5,4), 'Stuttgart', 'auto', 'BLiga', True, 'auto'],\n",
    "    [date(2024,5,7), 'Dortmund', 'auto', 'B2Run', True, 'auto'],\n",
    "    [date(2024,4,28), 'Berlin', 16, 'RLiga (f)', True, 'auto'],\n",
    "    [date(2024,5,5), 'Berlin', 16, 'BLiga', True, 'auto'],\n",
    "    [date(2024,5,18), 'Berlin', 16, 'BLiga', True, 'auto'],\n",
    "    [date(2024,6,9), 'Berlin', 16, 'RLiga (f)', True, 'auto'],\n",
    "    [date(2024,5,25), 'Frankfurt am Main', 64, 'HLiga', True, 'auto'],\n",
    "    [date(2024,6,30), 'Frankfurt am Main', 64, 'Am. Football', False, 'auto'],\n",
    "    [date(2024,7,13), 'Frankfurt am Main', 64, 'Am. Football', False, 'auto'],\n",
    "    [date(2024,4,26), 'Hamburg', 29, 'BLiga', True, 'auto'],\n",
    "    [date(2024,5,12), 'Hamburg', 29, 'BLiga', True, 'auto'],\n",
    "    [date(2024,5,11), 'Hamburg', -1, 'Hafengeburtstag', False, 'auto'],\n",
    "    [date(2024,5,17), 'Hamburg', -1, 'M M-Westernhagen', False, 11000],# 11000 https://www.soundsandbooks.com/marius-mueller-westernhagen-live-in-hamburg-2024/#:~:text=Als%20um%2020.15%20Uhr%20der,ausverkauften%20Halle%20auf%20ihren%20Sitzen.\n",
    "    [date(2024,5,25), 'Hamburg', 29, 'RLiga (f)', True, 'auto'],\n",
    "    [date(2024,6,1), 'Hamburg', 29, 'HipHop', True, 'auto'],\n",
    "    [date(2024,6,29), 'München', 41, 'fan zone', False, 'auto'],\n",
    "    [date(2024,7,5), 'München', 41, 'fan zone', False, 'auto'],\n",
    "    [date(2024,7,13), 'München', 41, 'A Bayern', False, 'auto'],\n",
    "    [date(2024,7,17), 'München', 41, 'B2Run', False, 'auto'],\n",
    "\n",
    "    [date(2024,7,18), 'München', -1, 'Tollwood', False, 'auto'],\n",
    "    [date(2024,7,14), 'Hamburg', 'auto', 'Am. Football', False, 'auto'],\n",
    "    [date(2024,7,17), 'Gelsenkirchen', 'auto', 'T Swift', False, 60000],# 60000 https://www.welt.de/wirtschaft/article252642610/Taylor-Swift-Mehr-Amerikaner-als-Berliner-diese-Menschen-waren-beim-Konzert-in-Gelsenkirchen.html\n",
    "    [date(2024,7,18), 'Gelsenkirchen', 'auto', 'T Swift', False, 60000],# 60000\n",
    "    [date(2024,7,19), 'Gelsenkirchen', 'auto', 'T Swift', False, 60000],# 60000\n",
    "    [date(2024,7,15), 'Stuttgart', -1, 'P Maffay', False, 16000],# 16000 https://www.stuttgarter-nachrichten.de/inhalt.konzert-auf-dem-wasen-so-war-s-bei-peter-maffay-in-stuttgart.f0e482a1-b87d-4f05-9cd3-2daf990c236a.html\n",
    "    [date(2024,7,16), 'Stuttgart', -1, 'P Maffay', False, 16000],\n",
    "    [date(2024,7,17), 'Stuttgart', -1, 'AC/DC', False, 90000],# 90000 https://www.swr.de/swraktuell/baden-wuerttemberg/stuttgart/acdc-konzert-stuttgart-100.html\n",
    "    [date(2024,7,19), 'Stuttgart', 'auto', 'P!NK', False, 45000],# 45000 https://www.stuttgarter-nachrichten.de/inhalt.pink-konzert-in-stuttgart-was-fuer-ein-spektakel.1acf464d-6301-483d-8b07-8efd24276f18.html\n",
    "    [date(2024,6,27), 'Stuttgart', -1, 'fan zone', False, 'auto'],\n",
    "    [date(2024,7,20), 'Düsseldorf', 'auto', 'Coldplay', False, 47000],# 47000 https://www.rundschau-online.de/kultur/coldplay-konzert-im-duesseldorfer-stadion-begeistert-47-000-831694\n",
    "    [date(2024,7,21), 'Düsseldorf', 'auto', 'Coldplay', False, 47000],# 47000\n",
    "    [date(2024,7,23), 'Düsseldorf', 'auto', 'Coldplay', False, 47000],# 47000\n",
    "    [date(2024,7,18), 'Frankfurt am Main', 'auto', 'P Maffay', False, 39000],# 39000 https://cityguide-rhein-neckar.de/2024/07/19/ein-abend-voller-emotionen-peter-maffay-abschiedskonzert-im-deutsche-bank-park/\n",
    "    [date(2024,7,20), 'Frankfurt am Main', 'auto', 'R Kaiser', False, 25000],# 25000 https://cityguide-rhein-neckar.de/2024/07/21/roland-kaiser-begeistert-25-000-fans-im-deutsche-bank-park/#:~:text=20.07.2024%20%2D%20Roland%20Kaiser%20bei,Kaiser%2050%20Jahre%2050%20Hits.\n",
    "    [date(2024,7,17), 'Leipzig', 'auto', 'P!NK', False, 43000],# 43000 https://www.radiosaw.de/artikel/fotos-pink-konzert-leipzig-am-17-juli\n",
    "    [date(2024,7,19), 'Leipzig', 'auto', 'R Kaiser', False, 44000],# 44000 https://www.lvz.de/kultur/regional/der-kaiser-gibt-sich-die-ehre-ILGMCNV6JJBDPLEBGZ3MTYWNHA.html#:~:text=Um%20ihr%20Idol%20zu%20sehen,Zuschauer%20kein%20Weg%20zu%20weit.&text=%E2%80%9E50%20Jahre%2C%2050%20Hits%E2%80%9C,19.%20Juli%20begeisterte%20die%20Fangemeinde.\n",
    "    [date(2024,7,20), 'Leipzig', 'auto', 'P Maffay', False, 38000],# 38000 https://www.rnd.de/kultur/peter-maffay-in-leipzig-buehnenabschied-im-stadion-ruehrt-fans-zu-traenen-FVW6BH4VWZH5LMLDHXW4DA4R6U.html#:~:text=Das%20Taschentuch%20in%20der%20Hand,letzte%20Konzert%20von%20Peter%20Maffay.\n",
    "    [date(2024,7,20), 'Köln', -1, 'CSD', False, 'auto'],\n",
    "    [date(2024,7,21), 'Köln', -1, 'CSD', False, 'auto'],\n",
    "    [date(2024,6,1), 'Berlin', -1, 'Schlagernacht', False, 'auto'],\n",
    "\n",
    "    [date(2024,7,13), 'Berlin', -1, 'Rundfunk Open Air', False, 17000],# 17000 https://www.mix1.de/news/2024-berliner-rundfunk-open-air/#:~:text=20%20Jahre%20Berliner%20Rundfunk%20Open,das%2017.000%20begeisterte%20Besucher%20verzauberte.\n",
    "    [date(2024,6,10), 'Berlin', -1, 'Green Day', False, 22000],# 22000 https://www.rollingstone.de/green-day-live-in-berlin-anfahrt-einlass-support-setlist-und-wetter-2729627/#:~:text=Die%20Waldb%C3%BChne%20bietet%20Platz%20f%C3%BCr,Das%20Konzert%20ist%20restlos%20ausverkauft.\n",
    "    [date(2024,5,4), 'Berlin', -1, 'Mario Barth', False, 22000],# 22000 https://www.waldbuehne-berlin.de/event/mario_barth_2026-05-09_19/#:~:text=Zuletzt%20war%20Mario%20Barth%20am,22.000%20begeisterte%20Fans%20gefeiert%20wurde.\n",
    "    [date(2024,8,3), 'Berlin', 'auto', 'BLiga', True, 'auto'],\n",
    "    [date(2024,4,12), 'Berlin', 'auto', 'BLiga', True, 'auto'],\n",
    "    [date(2024,7,27), 'Berlin', 16, 'friendly match', True, 'auto'],\n",
    "    [date(2024,8,3), 'Berlin', 16, 'friendly match', True, 'auto'],\n",
    "    [date(2024,4,20), 'Berlin', 16, 'BLiga', True, 'auto'],\n",
    "    [date(2024,4,6), 'Berlin', 16, 'BLiga', True, 'auto'],\n",
    "    [date(2024,8,3), 'Dortmund', 'auto', 'BLiga3', True, 'auto'],\n",
    "    [date(2024,4,21), 'Dortmund', 'auto', 'BLiga', True, 'auto'],\n",
    "    [date(2024,4,16), 'Dortmund', 'auto', 'UEFA CL', True, 'auto'],\n",
    "    [date(2024,4,6), 'Dortmund', 'auto', 'BLiga', True, 'auto'],\n",
    "    [date(2024,4,20), 'Düsseldorf', 'auto', 'BLiga', True, 'auto'],\n",
    "    [date(2024,4,7), 'Düsseldorf', 'auto', 'BLiga', True, 'auto'],\n",
    "    [date(2024,4,5), 'Frankfurt am Main', 'auto', 'BLiga', True, 'auto'],\n",
    "    [date(2024,4,19), 'Frankfurt am Main', 'auto', 'BLiga', True, 'auto'],\n",
    "    [date(2024,7,26), 'Frankfurt am Main', 'auto', 'T Scott', False, 'auto'],\n",
    "    [date(2024,7,27), 'Frankfurt am Main', 'auto', 'T Scott', False, 'auto'],\n",
    "    [date(2024,7,20), 'Köln', 'auto', 'T Scott', False, 'auto'],\n",
    "    [date(2024,4,13), 'Gelsenkirchen', 'auto', 'BLiga', True, 'auto'],\n",
    "    [date(2024,7,26), 'Gelsenkirchen', 'auto', 'Rammstein', False, 60000],# https://www.festivalsunited.com/magazine/konzerte/das-war-rammstein-in-der-veltins-arena-gelsenkirchen\n",
    "    [date(2024,7,27), 'Gelsenkirchen', 'auto', 'Rammstein', False, 60000],\n",
    "    [date(2024,7,29), 'Gelsenkirchen', 'auto', 'Rammstein', False, 60000],\n",
    "    [date(2024,7,30), 'Gelsenkirchen', 'auto', 'Rammstein', False, 60000],\n",
    "    [date(2024,7,31), 'Gelsenkirchen', 'auto', 'Rammstein', False, 60000],\n",
    "    [date(2024,8,3), 'Gelsenkirchen', 'auto', 'BLiga', True, 'auto'],\n",
    "    [date(2024,4,6), 'Hamburg', 'auto', 'BLiga', True, 'auto'],\n",
    "    [date(2024,4,20), 'Hamburg', 'auto', 'BLiga', True, 'auto'],\n",
    "    [date(2024,7,23), 'Hamburg', 'auto', 'T Swift', False, 50000],# https://www.ardmediathek.de/video/hamburg-journal/taylor-swift-verzaubert-50-000-fans-in-hamburg/ndr/Y3JpZDovL25kci5kZS84YzkzMDYyZi1jMDY1LTRmZjktOWI3Yi0wNTc4OWZlMThiYjE#:~:text=Hamburg%20Journal%3A%20Taylor%20Swift%20verzaubert%2050.000%20Fans%20in%20Hamburg%20%7C%20Video,(24.7.2024)%20mit%20Untertitel\n",
    "    [date(2024,7,24), 'Hamburg', 'auto', 'T Swift', False, 50000],\n",
    "    [date(2024,4,14), 'Hamburg', 29, 'BLiga', True, 'auto'],\n",
    "    [date(2024,4,6), 'Köln', 'auto', 'BLiga', True, 'auto'],\n",
    "    [date(2024,4,20), 'Köln', 'auto', 'BLiga', True, 'auto'],\n",
    "    [date(2024,8,2), 'Köln', 'auto', 'BLiga', True, 'auto'],\n",
    "    [date(2024,4,13), 'Leipzig', 'auto', 'BLiga', True, 'auto'],\n",
    "    [date(2024,4,17), 'München', 'auto', 'UEFA CL', True, 'auto'],\n",
    "    [date(2024,4,13), 'München', 'auto', 'BLiga', True, 'auto'],\n",
    "    [date(2024,7,27), 'München', 41, 'T Swift', False, 70000],# https://www.allgaeuer-zeitung.de/bayern/taylor-swift-in-muenchen-eras-tour-2024-im-olympiastadion-27-7-24_arid-775404\n",
    "    [date(2024,7,28), 'München', 41, 'T Swift', False, 70000],\n",
    "    [date(2024,4,13), 'Stuttgart', 'auto', 'BLiga', True, 'auto'],\n",
    "\n",
    "    [date(2024,8,3), 'Stuttgart', -1, 'SDP', False, 30000],# https://www.stuttgarter-nachrichten.de/inhalt.berliner-musiker-duo-in-stuttgart-die-energie-freisetzen-sdp-rocken-den-wasen-zum-jubilaeumskonzert.2cf5bc24-4c05-4979-9c9d-5a8c0e7acde9.html\n",
    "    [date(2024,8,3), 'Dortmund', -1, 'Dortmund OLE', False, 'auto'],\n",
    "    [date(2024,5,19), 'Dortmund', -1, 'Schlagerfest XXL', False, 9000],# https://rheinruhraktuell.de/9000-fans-feiern-mit-florian-silbereisen-die-jubilaeumsausgabe-des-schlagerfestes/\n",
    "    [date(2024,5,27), 'Frankfurt am Main', -1, 'Apache 207', False, 'auto'],\n",
    "    [date(2024,5,6), 'Dortmund', -1, 'Apache 207', False, 'auto'],\n",
    "    [date(2024,7,21), 'Gelsenkirchen', -1, 'Schalke Tach', False, 'auto'],\n",
    "    [date(2024,5,24), 'Köln', -1, 'H Carpendale', False, 'auto'],\n",
    "    [date(2024,8,2), 'Leipzig', -1, 'SDP', False, 'auto'],\n",
    "    [date(2024,7,19), 'Düsseldorf', -1, 'Rheinkirmes', False, 'auto'],\n",
    "    [date(2024,6,2), 'Leipzig', -1, 'Stadtfest', False, 'auto'],\n",
    "    [date(2024,5,19), 'Leipzig', -1, 'Weinfest', False, 'auto'],\n",
    "    [date(2024,5,8), 'Leipzig', -1, 'Apache 207', False, 'auto'],\n",
    "    [date(2024,6,6), 'Leipzig', -1, 'A Rieu', False, 'auto'],\n",
    "    [date(2024,6,4), 'Leipzig', -1, 'A Rieu', False, 'auto'],\n",
    "    [date(2024,7,11), 'Stuttgart', -1, 'Death Punch', False, 'auto'],\n",
    "    [date(2024,4,30), 'Stuttgart', -1, 'Bushido', False, 'auto'],\n",
    "    [date(2024,5,12), 'Stuttgart', -1, 'Apache 207', False, 'auto'],\n",
    "    [date(2024,5,31), 'Stuttgart', -1, 'B Ceylan', False, 'auto'],\n",
    "    #[date(), '', 'auto', '', False, 'auto'],\n",
    "\n",
    "]\n",
    "match_data = pd.DataFrame(match_data, columns=['day','city','area_id','match','is_football','capacity'])\n",
    "match_data"
   ]
  },
  {
   "cell_type": "markdown",
   "id": "828df58d-d09c-42e9-9280-cc7d94d9325f",
   "metadata": {},
   "source": [
    "### stadium meta data"
   ]
  },
  {
   "cell_type": "code",
   "execution_count": null,
   "id": "9cf4bc2c-91ed-413c-8c14-378416c5f22b",
   "metadata": {},
   "outputs": [],
   "source": [
    "ld_csa = f\"\"\"\n",
    "    select \n",
    "          area_id\n",
    "        , area_name\n",
    "    from cluster_search_areas_v2\n",
    "\"\"\"\n",
    "stadname_data = pd.DataFrame(pd.read_sql_query(ld_csa, conn))\n",
    "stadname_data['area_name'] = [name.split(',')[0] for name in stadname_data.area_name]"
   ]
  },
  {
   "cell_type": "code",
   "execution_count": null,
   "id": "748e1358-f6f5-4e86-a74b-8884717dacd4",
   "metadata": {},
   "outputs": [],
   "source": [
    "replace_dict = {'Mercedes-Benz Arena':'MHP Arena', 'Volksparkarena':'Volksparkstadion'}\n",
    "stadname_data = stadname_data.replace(replace_dict)"
   ]
  },
  {
   "cell_type": "code",
   "execution_count": null,
   "id": "f5490992-36bc-4e46-b99e-50cbe31fa000",
   "metadata": {},
   "outputs": [],
   "source": [
    "stadname_data.to_csv('output/00_stadname_data.csv', index=False)"
   ]
  },
  {
   "cell_type": "code",
   "execution_count": null,
   "id": "24ffc0ab-9c0e-4772-b6dd-1dccb07b3604",
   "metadata": {},
   "outputs": [],
   "source": [
    "stadname_data = pd.read_csv('output/00_stadname_data.csv')\n",
    "aid2name = {aid: name for aid, name in zip(stadname_data.area_id, stadname_data.area_name)}\n",
    "stadname_data"
   ]
  },
  {
   "cell_type": "code",
   "execution_count": null,
   "id": "b80b2e0c-fb4e-4932-95b7-4a2002caa2e2",
   "metadata": {},
   "outputs": [],
   "source": [
    "stadname_data[stadname_data.area_id==1]"
   ]
  },
  {
   "cell_type": "markdown",
   "id": "03bf2270-a416-42ff-8527-c98d9c92d0ea",
   "metadata": {},
   "source": [
    "stadium capacity data: https://de.wikipedia.org/wiki/Fu%C3%9Fball-Europameisterschaft_2024"
   ]
  },
  {
   "cell_type": "code",
   "execution_count": null,
   "id": "8e7106e2-61e5-4de0-a5e2-79c93348fd87",
   "metadata": {},
   "outputs": [],
   "source": [
    "stadium_data = [\n",
    "    ['Berlin', 2, 71000, 3645000],#'Berlin'\n",
    "    ['Berlin', 16, 22000, 3645000],\n",
    "    ['Dortmund', 10, 62000, 587000],#'Dortmund'\n",
    "    ['Düsseldorf', 24, 47000, 619000],#'Düsseldorf'\n",
    "    ['Frankfurt am Main', 4, 47000, 753000],#'Frankfurt am Main'\n",
    "    ['Frankfurt am Main', 64, 12000, 753000],\n",
    "    ['Gelsenkirchen', 28, 50000, 261000],#'Gelsenkirchen'\n",
    "    ['Hamburg', 25, 49000, 1841000],#'Hamburg'\n",
    "    ['Hamburg', 29, 30000, 1841000],\n",
    "    ['Köln', 15, 43000, 1086000],#'Köln'\n",
    "    ['Leipzig', 3, 40000, 588000],#'Leipzig'\n",
    "    ['München', 1, 66000, 1472000],#'München'\n",
    "    ['München', 41, 69000, 1472000],\n",
    "    ['Stuttgart', 11, 54000, 635000],#'Stuttgart'\n",
    "]\n",
    "stadium_data = pd.DataFrame(stadium_data, columns=['city','area_id','capacity','population'])\n",
    "stadium_data"
   ]
  },
  {
   "cell_type": "code",
   "execution_count": null,
   "id": "76bb2a84-600b-4dbb-bb0f-47459554e2f2",
   "metadata": {},
   "outputs": [],
   "source": [
    "stadium_data.to_csv('output/00_stadium_data.csv', index=False)"
   ]
  },
  {
   "cell_type": "code",
   "execution_count": null,
   "id": "6e6df66d-56bf-4982-bd83-90b0ab21c359",
   "metadata": {},
   "outputs": [],
   "source": [
    "stadium_data = pd.read_csv('output/00_stadium_data.csv')\n",
    "stadium_data"
   ]
  },
  {
   "cell_type": "code",
   "execution_count": null,
   "id": "a88a7eaa-caf5-4f55-956d-d492db96949c",
   "metadata": {},
   "outputs": [],
   "source": [
    "aid2city = {aid: city for aid, city in sorted({\n",
    "    1: 'München',\n",
    "    2: 'Berlin',\n",
    "    3: 'Leipzig',\n",
    "    4: 'Frankfurt am Main',\n",
    "    10: 'Dortmund',\n",
    "    11: 'Stuttgart',\n",
    "    15: 'Köln',\n",
    "    24: 'Düsseldorf',\n",
    "    25: 'Hamburg',\n",
    "    28: 'Gelsenkirchen',\n",
    "\n",
    "    16: 'Berlin',\n",
    "    29: 'Hamburg',\n",
    "    41: 'München',\n",
    "    64: 'Frankfurt am Main',\n",
    "}.items(), key=lambda item: item[1])}\n",
    "city2aid = {city: aid for aid, city in [(aid, city) for aid, city in aid2city.items()][::-1]}"
   ]
  },
  {
   "cell_type": "code",
   "execution_count": null,
   "id": "6cfe6572-8ab3-4120-8b6f-be8a849b23f2",
   "metadata": {},
   "outputs": [],
   "source": [
    "# map standard stadion IDs per city\n",
    "match_data['area_id'] = [aid if aid!='auto' else city2aid[city] for aid, city in zip(match_data.area_id, match_data.city)]\n",
    "# map stadion capacity for football matches\n",
    "match_data['capacity'] = [stadium_data[stadium_data.area_id==aid].capacity.iloc[0] if npop=='auto' and aid!=-1 else npop for aid, npop in zip(match_data.area_id, match_data.capacity)]\n",
    "match_data"
   ]
  },
  {
   "cell_type": "code",
   "execution_count": null,
   "id": "565aacfa-2dd3-411d-96a3-7453e704fc7b",
   "metadata": {},
   "outputs": [],
   "source": [
    "match_data.to_csv('output/00_event_data.csv', index=False)"
   ]
  },
  {
   "cell_type": "markdown",
   "id": "6f2b245e-f36f-49d0-8b1a-1b42968174c2",
   "metadata": {},
   "source": [
    "## load data"
   ]
  },
  {
   "cell_type": "code",
   "execution_count": null,
   "id": "fa960540-2f36-4b74-975d-105af6b29958",
   "metadata": {},
   "outputs": [],
   "source": [
    "# load stadium meta data\n",
    "stadname_data = pd.read_csv('output/00_stadname_data.csv')\n",
    "aid2name = {aid: name for aid, name in zip(stadname_data.area_id, stadname_data.area_name)}\n",
    "\n",
    "aid2city = {aid: city for aid, city in sorted({\n",
    "    1: 'München',\n",
    "    2: 'Berlin',\n",
    "    3: 'Leipzig',\n",
    "    4: 'Frankfurt am Main',\n",
    "    10: 'Dortmund',\n",
    "    11: 'Stuttgart',\n",
    "    15: 'Köln',\n",
    "    24: 'Düsseldorf',\n",
    "    25: 'Hamburg',\n",
    "    28: 'Gelsenkirchen',\n",
    "\n",
    "    16: 'Berlin',\n",
    "    29: 'Hamburg',\n",
    "    41: 'München',\n",
    "    64: 'Frankfurt am Main',\n",
    "}.items(), key=lambda item: item[1])}\n",
    "city2aid = {city: aid for aid, city in [(aid, city) for aid, city in aid2city.items()][::-1]}"
   ]
  },
  {
   "cell_type": "code",
   "execution_count": null,
   "id": "e311a210-71d3-4393-aac3-45d5981db429",
   "metadata": {},
   "outputs": [],
   "source": [
    "# n_c Germany & stadiums: load total contact numbers for Germany and stadiums\n",
    "data_germany = pd.read_csv(f'output/00_ncontacts_germany_{cdef}.csv')\n",
    "data_germany['day'] = [d.date() for d in pd.to_datetime(data_germany.day)]\n",
    "\n",
    "# n_c cities: load total contact numbers numbers for cities\n",
    "data = pd.read_csv(f'output/00_ncontacts_cities_{cdef}.csv')\n",
    "data['day'] = [d.date() for d in pd.to_datetime(data.day)]\n",
    "\n",
    "# n_pop cities & stadiums: load stadium capacity data for EURO 2024\n",
    "stadium_data = pd.read_csv('output/00_stadium_data.csv')\n",
    "\n",
    "# n_d Germany: load did numbers for Germany\n",
    "panel_data_germany = pd.read_csv('output/00_panel_data_germany.csv')\n",
    "panel_data_germany['day'] = [d.date() for d in pd.to_datetime(panel_data_germany.day)]\n",
    "\n",
    "data_germany = data_germany.merge(panel_data_germany, on='day')\n",
    "\n",
    "# n_d cities: load did numbers for cities\n",
    "panel_data = pd.read_csv('output/00_panel_data.csv')\n",
    "panel_data = panel_data.merge(stadium_data[['city','population']])\n",
    "panel_data['pdid'] = panel_data.ndids / panel_data.population\n",
    "\n",
    "# n_d stadiums: load did numbers for stadiums\n",
    "panelstad_data2 = pd.read_csv('output/00_panelstad_data2.csv')\n",
    "panelstad_data2['day'] = [d.date() for d in pd.to_datetime(panelstad_data2.day)]\n",
    "\n",
    "panel_data = panel_data.merge(stadium_data[['city','population']])\n",
    "panel_data['pdid'] = panel_data.ndids / panel_data.population"
   ]
  },
  {
   "cell_type": "code",
   "execution_count": null,
   "id": "9bac60ed-956a-4c16-9f9a-fef2d2e61774",
   "metadata": {},
   "outputs": [],
   "source": [
    "# load mass event data\n",
    "match_data = pd.read_csv('output/00_event_data.csv')\n",
    "match_data['day'] = [d.date() for d in pd.to_datetime(match_data.day)]\n",
    "match_data['capacity'] = [float(cap) if cap!='auto' else cap for cap in match_data.capacity]"
   ]
  },
  {
   "cell_type": "code",
   "execution_count": null,
   "id": "499213ac-61ed-42f1-b22f-e60f08be0288",
   "metadata": {},
   "outputs": [],
   "source": []
  }
 ],
 "metadata": {
  "kernelspec": {
   "display_name": "Python 3 (ipykernel)",
   "language": "python",
   "name": "python3"
  },
  "language_info": {
   "codemirror_mode": {
    "name": "ipython",
    "version": 3
   },
   "file_extension": ".py",
   "mimetype": "text/x-python",
   "name": "python",
   "nbconvert_exporter": "python",
   "pygments_lexer": "ipython3",
   "version": "3.11.7"
  }
 },
 "nbformat": 4,
 "nbformat_minor": 5
}
