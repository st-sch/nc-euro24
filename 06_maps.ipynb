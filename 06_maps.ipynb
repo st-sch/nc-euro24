{
 "cells": [
  {
   "cell_type": "code",
   "execution_count": null,
   "id": "c5dd276d-3cdc-4a23-8eae-e704821b51bd",
   "metadata": {},
   "outputs": [],
   "source": [
    "import os, pydeck as pdk, pandas as pd, numpy as np\n",
    "from datetime import date, datetime, timedelta\n",
    "from sqlalchemy import create_engine"
   ]
  },
  {
   "cell_type": "markdown",
   "id": "a7c5f6db-5f4a-4697-a20e-63adb9e43168",
   "metadata": {},
   "source": [
    "- pings city\n",
    "- contacts city\n",
    "- contacts selected events\n",
    "- selection bias: home locations"
   ]
  },
  {
   "cell_type": "markdown",
   "id": "ca7359c7-1caa-499b-93c9-dea6281d46d9",
   "metadata": {},
   "source": [
    "## parameters"
   ]
  },
  {
   "cell_type": "code",
   "execution_count": null,
   "id": "d2fe71ae-23ed-427f-8b76-2435a2be7f21",
   "metadata": {},
   "outputs": [],
   "source": [
    "yeari, yearf = '2024', '2024'\n",
    "weeki, weekf = '18', '31'"
   ]
  },
  {
   "cell_type": "code",
   "execution_count": null,
   "id": "fc7bcc0e-dade-4998-8ff5-ee876ec5e723",
   "metadata": {},
   "outputs": [],
   "source": [
    "di = datetime.strptime(f'{yeari}-{weeki}-1', \"%Y-%W-%w\").date()\n",
    "df = datetime.strptime(f'{yearf}-{weekf}-1', \"%Y-%W-%w\").date() + timedelta(6)\n",
    "ds = [di+timedelta(dt) for dt in range((df-di).days+1)]\n",
    "daylist = ds\n",
    "print(di, 'until', df)"
   ]
  },
  {
   "cell_type": "code",
   "execution_count": null,
   "id": "ddaad689-d199-4431-b068-88f4ad548291",
   "metadata": {},
   "outputs": [],
   "source": [
    "cdef = 'tl7_10m'# 'tl5_10m' 'tl6_10m' 'tl7_10m' 'tl8_10m' 'tl8_60m'\n",
    "cdef_alt = '16m_10min'# tl5: 62 ... tl7: 16   tl8: 8"
   ]
  },
  {
   "cell_type": "markdown",
   "id": "ec2d63a8-c79f-4964-a582-bffe8fc12fd5",
   "metadata": {},
   "source": [
    "## database connection"
   ]
  },
  {
   "cell_type": "code",
   "execution_count": null,
   "id": "f038e61e-69f8-48ce-805d-f9a71f36c1cd",
   "metadata": {},
   "outputs": [],
   "source": [
    "#Connecting to the aws\n",
    "# database credentials\n",
    "db_usr, db_pwd = os.getenv('DB_USR'), os.getenv('DB_PWD') # your database user name and password\n",
    "# database login\n",
    "host, port, db = 'nc-health-data-prod.cluster-ccsgl7rk4urn.eu-central-1.rds.amazonaws.com', 5432, 'master'\n",
    "engine = create_engine('postgresql://'+db_usr+':'+db_pwd+'@'+host+':'+str(port)+'/'+db)\n",
    "conn = engine.connect()"
   ]
  },
  {
   "cell_type": "code",
   "execution_count": null,
   "id": "1cabdc15-6c86-4601-bf08-ea7cceef094e",
   "metadata": {},
   "outputs": [],
   "source": [
    "conn.close()"
   ]
  },
  {
   "cell_type": "markdown",
   "id": "96196fd9-0e61-489c-9dab-3fd3a5fa07ab",
   "metadata": {},
   "source": [
    "## pings"
   ]
  },
  {
   "cell_type": "code",
   "execution_count": null,
   "id": "c40e4235-9c13-41ae-a039-2d4ed2a28049",
   "metadata": {},
   "outputs": [],
   "source": [
    "city = 'Stuttgart'\n",
    "day = '2024-06-28'#'2024-07-05'#'2024-06-28'"
   ]
  },
  {
   "cell_type": "code",
   "execution_count": null,
   "id": "11306c23-8bd4-4803-8e1d-bbe6fda4adfc",
   "metadata": {},
   "outputs": [],
   "source": [
    "city = 'Düsseldorf'\n",
    "day = '2024-06-01'#'2024-06-01'#'2024-05-25'"
   ]
  },
  {
   "cell_type": "code",
   "execution_count": null,
   "id": "5e3c3b23-1747-405c-9673-588ed6f7bcd4",
   "metadata": {},
   "outputs": [],
   "source": [
    "query = f\"\"\"\n",
    "    with restricted as (\n",
    "    \tselect ex.*\n",
    "    \tfrom tuberlin_euro24_tileid as ti\n",
    "    \tjoin ex_corona_sdkv6 as ex on ex.tile_id = ti.tile_id\n",
    "    \twhere \"day\" = '{day}' -- between '{di}' and '{df}'\n",
    "    ),\n",
    "    ex_tmptmp as (\n",
    "        select\n",
    "                  \"day\"\n",
    "                , stime\n",
    "                , did\n",
    "                , tl8\n",
    "                , tile_id\n",
    "            from restricted, unnest(stime_arr, tile_arr) u(stime, tl8)\n",
    "    ),\n",
    "    ex_tmp as (\n",
    "        select\n",
    "                  \"day\"\n",
    "                , stime\n",
    "                , did\n",
    "                , st_transform(st_translate(st_setsrid(tile8togeo(tl8), 32632), tx.minx, tx.miny), 3857) as geopoint\n",
    "                , tl8\n",
    "            from ex_tmptmp\n",
    "            join txc_dt_grid_1000m as tx on ex_tmptmp.tile_id = tx.tile_id\n",
    "    ),\n",
    "    cities2 as (\n",
    "        select osm_id, \"name\", max(way_area) as way_area\n",
    "        from tuberlin_euro24_contour\n",
    "        where \"name\" = '{city}'\n",
    "        group by 1,2\n",
    "    ),\n",
    "    cities3 as (\n",
    "        select c1.\"name\", c1.way\n",
    "        from tuberlin_euro24_contour as c1\n",
    "        join cities2 as c2 on c1.way_area = c2.way_area\n",
    "    ),\n",
    "    ex as (\n",
    "        select\n",
    "                  \"day\"\n",
    "                , stime\n",
    "                , did\n",
    "                , \"name\" as city\n",
    "                --, geopoint\n",
    "                , st_x(st_transform(geopoint, 4326)) as lon, st_y(st_transform(geopoint, 4326)) as lat\n",
    "                , tl8\n",
    "        from ex_tmp\n",
    "        join cities3 as c3 on st_contains(c3.way, ex_tmp.geopoint)\n",
    "    )\n",
    "    select *\n",
    "    from ex\n",
    "\"\"\""
   ]
  },
  {
   "cell_type": "code",
   "execution_count": null,
   "id": "befa671a-831d-4292-a6a7-9579623a8203",
   "metadata": {},
   "outputs": [],
   "source": [
    "data = pd.DataFrame(pd.read_sql_query(query, conn))\n",
    "data"
   ]
  },
  {
   "cell_type": "code",
   "execution_count": null,
   "id": "118ec7db-737d-4e4c-a263-f96514ee7ea4",
   "metadata": {},
   "outputs": [],
   "source": [
    "data['size'] = 10"
   ]
  },
  {
   "cell_type": "code",
   "execution_count": null,
   "id": "461fda63-ec05-4c52-b6b7-3d5eb3488743",
   "metadata": {},
   "outputs": [],
   "source": [
    "viewstate = {'Stuttgart': [48.78422258241185, 9.18497909163697], 'Düsseldorf': [51.224949154286364, 6.780327227212697]}"
   ]
  },
  {
   "cell_type": "code",
   "execution_count": null,
   "id": "2579424d-5937-4bc3-85eb-4a3f657dc774",
   "metadata": {},
   "outputs": [],
   "source": [
    "scatter = pdk.Layer(\n",
    "    \"ScatterplotLayer\",\n",
    "    data[['lon','lat','size']],\n",
    "    get_position=[\"lon\", \"lat\"],  # Must match column names\n",
    "    get_radius=\"size\",\n",
    "    get_fill_color=[255, 0, 0, 160],\n",
    "    pickable=True\n",
    ")\n",
    "\n",
    "view_state = pdk.ViewState(\n",
    "    #longitude=data.lon.mean(), latitude=data.lat.mean(),\n",
    "    longitude=viewstate[city][1], latitude=viewstate[city][0],\n",
    "    zoom=12, pitch=0\n",
    ")\n",
    "\n",
    "r = pdk.Deck(layers=[scatter], initial_view_state=view_state, map_style=\"https://tiles.stadiamaps.com/styles/osm_bright.json\")#.show()\n",
    "# carto light: \"https://basemaps.cartocdn.com/gl/positron-gl-style/style.json\"\n",
    "# carto dark: \"https://basemaps.cartocdn.com/gl/dark-matter-gl-style/style.json\"\n",
    "# carto voyager: \"https://basemaps.cartocdn.com/gl/voyager-gl-style/style.json\"\n",
    "# osm: \"https://tiles.stadiamaps.com/styles/osm_bright.json\"\n",
    "r.to_html(\"plots/hexagon_layer.html\")"
   ]
  },
  {
   "cell_type": "code",
   "execution_count": null,
   "id": "59c6b91a-b7a9-4b17-9f42-9fe80d9a201c",
   "metadata": {},
   "outputs": [],
   "source": [
    "from selenium import webdriver\n",
    "#from PIL import Image\n",
    "import time\n",
    "\n",
    "# Path to ChromeDriver (or use another browser driver)\n",
    "driver = webdriver.Chrome()\n",
    "\n",
    "# Open the HTML file\n",
    "driver.get(\"C:/Users/steven.schulz/Documents/nc-euro24/hexagon_layer.html\")  # Replace with the actual path\n",
    "time.sleep(3)  # Wait for rendering\n",
    "\n",
    "# Capture screenshot\n",
    "screenshot_path = \"hexagon_layer.png\"\n",
    "driver.save_screenshot(screenshot_path)\n",
    "\n",
    "# Close the browser\n",
    "driver.quit()\n",
    "\n",
    "# Optionally, convert to JPG\n",
    "#img = Image.open(screenshot_path)\n",
    "#img.convert(\"RGB\").save(\"map.jpg\", \"JPEG\")\n",
    "\n",
    "print(\"Map saved as map.jpg\")"
   ]
  },
  {
   "cell_type": "code",
   "execution_count": null,
   "id": "945ce79b-0fca-491c-9b4e-c2fb3acf2815",
   "metadata": {},
   "outputs": [],
   "source": [
    "tl82w = data.groupby('tl8').did.apply(len).reset_index().rename(columns={'did':'weight'})\n",
    "data = data.merge(tl82w, on='tl8')\n",
    "data['weight_log'] = 1.+data.weight.apply(np.log)\n",
    "data"
   ]
  },
  {
   "cell_type": "code",
   "execution_count": null,
   "id": "559e1c0a-b4d4-4c39-8b71-f791514081e5",
   "metadata": {},
   "outputs": [],
   "source": [
    "COLOR_BREWER_RED_SCALE = [\n",
    "    [255, 245, 240],  # Lightest Red (similar to light blue)\n",
    "    [252, 224, 210],\n",
    "    [250, 187, 161],\n",
    "    [245, 144, 120],\n",
    "    [240, 82, 79],\n",
    "    [165, 0, 38],  # Deepest Red (similar to deep blue)\n",
    "]\n",
    "\n",
    "\n",
    "scatter = pdk.Layer(\n",
    "    \"HeatmapLayer\",\n",
    "    data[['lon','lat','weight_log']],\n",
    "    get_position=[\"lon\", \"lat\"],  # Must match column names\n",
    "    opacity=0.9,\n",
    "    aggregation=pdk.types.String(\"MEAN\"),\n",
    "    color_range=COLOR_BREWER_RED_SCALE,\n",
    "    threshold=.05,\n",
    "    radiusPixels=10,\n",
    "    intensity=1.5,\n",
    "    get_weight=\"weight_log\",\n",
    "    pickable=True,\n",
    ")\n",
    "\n",
    "view_state = pdk.ViewState(\n",
    "    longitude=data.lon.mean(), latitude=data.lat.mean(), zoom=12, pitch=0\n",
    ")\n",
    "\n",
    "#r = pdk.Deck(layers=[scatter], initial_view_state=view_state)#.show()\n",
    "r = pdk.Deck(\n",
    "    layers=[scatter],\n",
    "    initial_view_state=view_state,\n",
    "    map_style=\"https://tiles.stadiamaps.com/styles/osm_bright.json\",\n",
    "    #map_provider=\"mapbox\",\n",
    "    #map_style=pdk.map_styles.SATELLITE,\n",
    "    #tooltip={\"text\": \"Concentration of cattle in blue, concentration of poultry in orange\"},\n",
    ")#.show()\n",
    "r.to_html(\"plots/hexagon_layer.html\")"
   ]
  },
  {
   "cell_type": "code",
   "execution_count": null,
   "id": "ae6de246-3a2c-4055-86ac-9c373b69c75d",
   "metadata": {},
   "outputs": [],
   "source": [
    "# Define a layer to display on a map\n",
    "layer = pdk.Layer(\n",
    "    \"HexagonLayer\",\n",
    "    data[['lon','lat']],\n",
    "    get_position=[\"lon\", \"lat\"],\n",
    "    auto_highlight=True,\n",
    "    elevation_scale=50,\n",
    "    pickable=True,\n",
    "    elevation_range=[0, 300],\n",
    "    extruded=True,\n",
    "    coverage=1,\n",
    "    opacity=.5,\n",
    ")\n",
    "\n",
    "# Set the viewport location\n",
    "view_state = pdk.ViewState(\n",
    "    longitude=data.lon.mean(),\n",
    "    latitude=data.lat.mean(),\n",
    "    zoom=9,\n",
    "    min_zoom=9,\n",
    "    max_zoom=15,\n",
    "    pitch=0,#40.5,\n",
    "    bearing=0,#-27.36,\n",
    ")\n",
    "\n",
    "# Render\n",
    "r = pdk.Deck(layers=[layer], initial_view_state=view_state, map_style=\"https://tiles.stadiamaps.com/styles/osm_bright.json\",)\n",
    "r.to_html(\"plots/hexagon_layer.html\")"
   ]
  },
  {
   "cell_type": "code",
   "execution_count": null,
   "id": "4da03929-b1f4-4607-ae41-f588dc1d793b",
   "metadata": {},
   "outputs": [],
   "source": [
    "DATA_URL = \"https://raw.githubusercontent.com/visgl/deck.gl-data/master/examples/geojson/vancouver-blocks.json\"\n",
    "LAND_COVER = [[[-123.0, 49.196], [-123.0, 49.324], [-123.306, 49.324], [-123.306, 49.196]]]\n",
    "\n",
    "INITIAL_VIEW_STATE = pydeck.ViewState(\n",
    "  latitude=49.254,\n",
    "  longitude=-123.13,\n",
    "  zoom=11,\n",
    "  max_zoom=16,\n",
    "  pitch=45,\n",
    "  bearing=0\n",
    ")\n",
    "\n",
    "polygon = pydeck.Layer(\n",
    "    'PolygonLayer',\n",
    "    LAND_COVER,\n",
    "    stroked=False,\n",
    "    # processes the data as a flat longitude-latitude pair\n",
    "    get_polygon='-',\n",
    "    get_fill_color=[0, 0, 0, 20]\n",
    ")\n",
    "\n",
    "geojson = pydeck.Layer(\n",
    "    'GeoJsonLayer',\n",
    "    DATA_URL,\n",
    "    opacity=0.8,\n",
    "    stroked=False,\n",
    "    filled=True,\n",
    "    extruded=True,\n",
    "    wireframe=True,\n",
    "    get_elevation='properties.valuePerSqm / 20',\n",
    "    get_fill_color='[255, 255, properties.growth * 255]',\n",
    "    get_line_color=[255, 255, 255],\n",
    "    pickable=True\n",
    ")\n",
    "\n",
    "r = pydeck.Deck(\n",
    "    layers=[polygon, geojson],\n",
    "    initial_view_state=INITIAL_VIEW_STATE)\n",
    "\n",
    "r.to_html()"
   ]
  },
  {
   "cell_type": "code",
   "execution_count": null,
   "id": "e70ad123-d0e6-4334-bb1a-a9413960f698",
   "metadata": {},
   "outputs": [],
   "source": []
  }
 ],
 "metadata": {
  "kernelspec": {
   "display_name": "Python 3 (ipykernel)",
   "language": "python",
   "name": "python3"
  },
  "language_info": {
   "codemirror_mode": {
    "name": "ipython",
    "version": 3
   },
   "file_extension": ".py",
   "mimetype": "text/x-python",
   "name": "python",
   "nbconvert_exporter": "python",
   "pygments_lexer": "ipython3",
   "version": "3.11.7"
  }
 },
 "nbformat": 4,
 "nbformat_minor": 5
}
